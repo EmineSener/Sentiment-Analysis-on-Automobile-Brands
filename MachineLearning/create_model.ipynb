{
 "cells": [
  {
   "cell_type": "code",
   "execution_count": 1,
   "id": "ec6a7679",
   "metadata": {
    "execution": {
     "iopub.execute_input": "2023-10-02T18:17:56.387874Z",
     "iopub.status.busy": "2023-10-02T18:17:56.387462Z",
     "iopub.status.idle": "2023-10-02T18:18:03.038628Z",
     "shell.execute_reply": "2023-10-02T18:18:03.037705Z",
     "shell.execute_reply.started": "2023-10-02T18:17:56.387846Z"
    }
   },
   "outputs": [
    {
     "name": "stderr",
     "output_type": "stream",
     "text": [
      "/opt/conda/lib/python3.10/site-packages/scipy/__init__.py:146: UserWarning: A NumPy version >=1.16.5 and <1.23.0 is required for this version of SciPy (detected version 1.23.5\n",
      "  warnings.warn(f\"A NumPy version >={np_minversion} and <{np_maxversion}\"\n"
     ]
    }
   ],
   "source": [
    "from sklearn.model_selection import train_test_split\n",
    "from transformers import AutoModel, AutoTokenizer \n",
    "import pandas as pd\n",
    "import numpy as np\n",
    "from tqdm import tqdm\n",
    "import torch"
   ]
  },
  {
   "cell_type": "code",
   "execution_count": 2,
   "id": "21906c37",
   "metadata": {
    "execution": {
     "iopub.execute_input": "2023-10-02T18:18:03.041465Z",
     "iopub.status.busy": "2023-10-02T18:18:03.040407Z",
     "iopub.status.idle": "2023-10-02T18:18:03.405433Z",
     "shell.execute_reply": "2023-10-02T18:18:03.404439Z",
     "shell.execute_reply.started": "2023-10-02T18:18:03.041429Z"
    }
   },
   "outputs": [],
   "source": [
    "df = pd.read_csv(\"/kaggle/input/last-dataset/last_dataset.csv\")"
   ]
  },
  {
   "cell_type": "code",
   "execution_count": 3,
   "id": "4d1a6a4c",
   "metadata": {
    "execution": {
     "iopub.execute_input": "2023-10-02T18:18:03.407157Z",
     "iopub.status.busy": "2023-10-02T18:18:03.406830Z",
     "iopub.status.idle": "2023-10-02T18:18:03.427089Z",
     "shell.execute_reply": "2023-10-02T18:18:03.425895Z",
     "shell.execute_reply.started": "2023-10-02T18:18:03.407118Z"
    }
   },
   "outputs": [
    {
     "data": {
      "text/html": [
       "<div>\n",
       "<style scoped>\n",
       "    .dataframe tbody tr th:only-of-type {\n",
       "        vertical-align: middle;\n",
       "    }\n",
       "\n",
       "    .dataframe tbody tr th {\n",
       "        vertical-align: top;\n",
       "    }\n",
       "\n",
       "    .dataframe thead th {\n",
       "        text-align: right;\n",
       "    }\n",
       "</style>\n",
       "<table border=\"1\" class=\"dataframe\">\n",
       "  <thead>\n",
       "    <tr style=\"text-align: right;\">\n",
       "      <th></th>\n",
       "      <th>Unnamed: 0</th>\n",
       "      <th>review</th>\n",
       "      <th>sentiment</th>\n",
       "    </tr>\n",
       "  </thead>\n",
       "  <tbody>\n",
       "    <tr>\n",
       "      <th>0</th>\n",
       "      <td>0</td>\n",
       "      <td>bayiler satar artık e burası türkiye</td>\n",
       "      <td>positive</td>\n",
       "    </tr>\n",
       "    <tr>\n",
       "      <th>1</th>\n",
       "      <td>1</td>\n",
       "      <td>fiyatlara bin ekleyin bayide bulamayacaksınız ...</td>\n",
       "      <td>positive</td>\n",
       "    </tr>\n",
       "    <tr>\n",
       "      <th>2</th>\n",
       "      <td>2</td>\n",
       "      <td>motor kasaya yakışmış</td>\n",
       "      <td>positive</td>\n",
       "    </tr>\n",
       "    <tr>\n",
       "      <th>3</th>\n",
       "      <td>3</td>\n",
       "      <td>tl eksik aracı almam neyse sene bekleyem alırım</td>\n",
       "      <td>positive</td>\n",
       "    </tr>\n",
       "    <tr>\n",
       "      <th>4</th>\n",
       "      <td>4</td>\n",
       "      <td>eskiden milyoner olmak vardı derlerdi nerden g...</td>\n",
       "      <td>positive</td>\n",
       "    </tr>\n",
       "  </tbody>\n",
       "</table>\n",
       "</div>"
      ],
      "text/plain": [
       "   Unnamed: 0                                             review sentiment\n",
       "0           0               bayiler satar artık e burası türkiye  positive\n",
       "1           1  fiyatlara bin ekleyin bayide bulamayacaksınız ...  positive\n",
       "2           2                              motor kasaya yakışmış  positive\n",
       "3           3    tl eksik aracı almam neyse sene bekleyem alırım  positive\n",
       "4           4  eskiden milyoner olmak vardı derlerdi nerden g...  positive"
      ]
     },
     "execution_count": 3,
     "metadata": {},
     "output_type": "execute_result"
    }
   ],
   "source": [
    "df.head()"
   ]
  },
  {
   "cell_type": "code",
   "execution_count": 4,
   "id": "1f93ecfd",
   "metadata": {
    "execution": {
     "iopub.execute_input": "2023-10-02T18:18:03.430215Z",
     "iopub.status.busy": "2023-10-02T18:18:03.429696Z",
     "iopub.status.idle": "2023-10-02T18:18:03.444708Z",
     "shell.execute_reply": "2023-10-02T18:18:03.443710Z",
     "shell.execute_reply.started": "2023-10-02T18:18:03.430191Z"
    }
   },
   "outputs": [],
   "source": [
    "X_train, X_test = train_test_split(df, test_size=0.25,random_state=42)"
   ]
  },
  {
   "cell_type": "code",
   "execution_count": 5,
   "id": "f664c158",
   "metadata": {
    "execution": {
     "iopub.execute_input": "2023-10-02T18:18:03.446701Z",
     "iopub.status.busy": "2023-10-02T18:18:03.446078Z",
     "iopub.status.idle": "2023-10-02T18:18:03.459118Z",
     "shell.execute_reply": "2023-10-02T18:18:03.458134Z",
     "shell.execute_reply.started": "2023-10-02T18:18:03.446669Z"
    }
   },
   "outputs": [
    {
     "data": {
      "text/html": [
       "<div>\n",
       "<style scoped>\n",
       "    .dataframe tbody tr th:only-of-type {\n",
       "        vertical-align: middle;\n",
       "    }\n",
       "\n",
       "    .dataframe tbody tr th {\n",
       "        vertical-align: top;\n",
       "    }\n",
       "\n",
       "    .dataframe thead th {\n",
       "        text-align: right;\n",
       "    }\n",
       "</style>\n",
       "<table border=\"1\" class=\"dataframe\">\n",
       "  <thead>\n",
       "    <tr style=\"text-align: right;\">\n",
       "      <th></th>\n",
       "      <th>Unnamed: 0</th>\n",
       "      <th>review</th>\n",
       "      <th>sentiment</th>\n",
       "    </tr>\n",
       "  </thead>\n",
       "  <tbody>\n",
       "    <tr>\n",
       "      <th>36262</th>\n",
       "      <td>36262</td>\n",
       "      <td>yardımlarınız gerçekten teşekkür ederim halen ...</td>\n",
       "      <td>positive</td>\n",
       "    </tr>\n",
       "    <tr>\n",
       "      <th>36783</th>\n",
       "      <td>36783</td>\n",
       "      <td>kardeş ben yıldır dizel logan kullanıyorum zat...</td>\n",
       "      <td>positive</td>\n",
       "    </tr>\n",
       "    <tr>\n",
       "      <th>32633</th>\n",
       "      <td>32633</td>\n",
       "      <td>ben bir göz gezdirdim bin liraya çıkan modelle...</td>\n",
       "      <td>positive</td>\n",
       "    </tr>\n",
       "    <tr>\n",
       "      <th>14564</th>\n",
       "      <td>14564</td>\n",
       "      <td>tdi fiyat alan oldu arkadaşlar bin liste fiyat...</td>\n",
       "      <td>positive</td>\n",
       "    </tr>\n",
       "    <tr>\n",
       "      <th>50638</th>\n",
       "      <td>50638</td>\n",
       "      <td>hayırlı olsun</td>\n",
       "      <td>positive</td>\n",
       "    </tr>\n",
       "    <tr>\n",
       "      <th>...</th>\n",
       "      <td>...</td>\n",
       "      <td>...</td>\n",
       "      <td>...</td>\n",
       "    </tr>\n",
       "    <tr>\n",
       "      <th>14471</th>\n",
       "      <td>14471</td>\n",
       "      <td>model tdi coupe almayı düşünüyorum civarı km g...</td>\n",
       "      <td>negative</td>\n",
       "    </tr>\n",
       "    <tr>\n",
       "      <th>48558</th>\n",
       "      <td>48558</td>\n",
       "      <td>avrupa an satılıyor</td>\n",
       "      <td>positive</td>\n",
       "    </tr>\n",
       "    <tr>\n",
       "      <th>7831</th>\n",
       "      <td>7831</td>\n",
       "      <td>tsi polonun performansı gayet tatminkar kadar ...</td>\n",
       "      <td>positive</td>\n",
       "    </tr>\n",
       "    <tr>\n",
       "      <th>47091</th>\n",
       "      <td>47091</td>\n",
       "      <td>maalesef çalışmadı dizel bir modeline cc olmuy...</td>\n",
       "      <td>negative</td>\n",
       "    </tr>\n",
       "    <tr>\n",
       "      <th>18393</th>\n",
       "      <td>18393</td>\n",
       "      <td>tesekkur ederım beklemedeyız</td>\n",
       "      <td>positive</td>\n",
       "    </tr>\n",
       "  </tbody>\n",
       "</table>\n",
       "<p>16112 rows × 3 columns</p>\n",
       "</div>"
      ],
      "text/plain": [
       "       Unnamed: 0                                             review sentiment\n",
       "36262       36262  yardımlarınız gerçekten teşekkür ederim halen ...  positive\n",
       "36783       36783  kardeş ben yıldır dizel logan kullanıyorum zat...  positive\n",
       "32633       32633  ben bir göz gezdirdim bin liraya çıkan modelle...  positive\n",
       "14564       14564  tdi fiyat alan oldu arkadaşlar bin liste fiyat...  positive\n",
       "50638       50638                                      hayırlı olsun  positive\n",
       "...           ...                                                ...       ...\n",
       "14471       14471  model tdi coupe almayı düşünüyorum civarı km g...  negative\n",
       "48558       48558                                avrupa an satılıyor  positive\n",
       "7831         7831  tsi polonun performansı gayet tatminkar kadar ...  positive\n",
       "47091       47091  maalesef çalışmadı dizel bir modeline cc olmuy...  negative\n",
       "18393       18393                       tesekkur ederım beklemedeyız  positive\n",
       "\n",
       "[16112 rows x 3 columns]"
      ]
     },
     "execution_count": 5,
     "metadata": {},
     "output_type": "execute_result"
    }
   ],
   "source": [
    "X_test"
   ]
  },
  {
   "cell_type": "code",
   "execution_count": 6,
   "id": "335bb9ff",
   "metadata": {
    "execution": {
     "iopub.execute_input": "2023-10-02T18:18:03.461087Z",
     "iopub.status.busy": "2023-10-02T18:18:03.460659Z",
     "iopub.status.idle": "2023-10-02T18:18:03.467165Z",
     "shell.execute_reply": "2023-10-02T18:18:03.466147Z",
     "shell.execute_reply.started": "2023-10-02T18:18:03.461058Z"
    }
   },
   "outputs": [
    {
     "data": {
      "text/plain": [
       "(48333, 3)"
      ]
     },
     "execution_count": 6,
     "metadata": {},
     "output_type": "execute_result"
    }
   ],
   "source": [
    "X_train.shape"
   ]
  },
  {
   "cell_type": "code",
   "execution_count": 7,
   "id": "ed84f0b4",
   "metadata": {
    "execution": {
     "iopub.execute_input": "2023-10-02T18:18:03.469419Z",
     "iopub.status.busy": "2023-10-02T18:18:03.468466Z",
     "iopub.status.idle": "2023-10-02T18:18:03.478902Z",
     "shell.execute_reply": "2023-10-02T18:18:03.477961Z",
     "shell.execute_reply.started": "2023-10-02T18:18:03.469389Z"
    }
   },
   "outputs": [
    {
     "data": {
      "text/plain": [
       "pandas.core.frame.DataFrame"
      ]
     },
     "execution_count": 7,
     "metadata": {},
     "output_type": "execute_result"
    }
   ],
   "source": [
    "type(X_train)"
   ]
  },
  {
   "cell_type": "code",
   "execution_count": 8,
   "id": "23219f9e",
   "metadata": {
    "execution": {
     "iopub.execute_input": "2023-10-02T18:18:03.480343Z",
     "iopub.status.busy": "2023-10-02T18:18:03.479969Z",
     "iopub.status.idle": "2023-10-02T18:18:03.491236Z",
     "shell.execute_reply": "2023-10-02T18:18:03.490321Z",
     "shell.execute_reply.started": "2023-10-02T18:18:03.480312Z"
    }
   },
   "outputs": [
    {
     "data": {
      "text/plain": [
       "15962    quoteorijinalden alıntı ankara_ahmet teşekkür ...\n",
       "6748     quoteorijinalden alıntı fc nin motorunun üstün...\n",
       "25124    maaşallah arabanız güzelmiş bende aynı özellik...\n",
       "6420     hayırlı olsun şimdiden hangi bayi lanet gelsin...\n",
       "9724     uzaktan kumandalı araba galiba motor sesine eb...\n",
       "                               ...                        \n",
       "62570    kazanıp ye araççlardan b segment alırsın sadec...\n",
       "38158    bunlara göre herşey hikaye pandemi çip savaş h...\n",
       "860      scirocco nun kapısı gelmez mi arkadaşlar güzel...\n",
       "15795    almanlar bizi kıskandığı fiyatları yüksek tutu...\n",
       "56422                                             mercedes\n",
       "Name: review, Length: 48333, dtype: object"
      ]
     },
     "execution_count": 8,
     "metadata": {},
     "output_type": "execute_result"
    }
   ],
   "source": [
    "X_train[\"review\"]"
   ]
  },
  {
   "cell_type": "code",
   "execution_count": 9,
   "id": "bcce70ca",
   "metadata": {
    "execution": {
     "iopub.execute_input": "2023-10-02T18:18:03.493467Z",
     "iopub.status.busy": "2023-10-02T18:18:03.492542Z",
     "iopub.status.idle": "2023-10-02T18:18:21.751351Z",
     "shell.execute_reply": "2023-10-02T18:18:21.750330Z",
     "shell.execute_reply.started": "2023-10-02T18:18:03.493437Z"
    }
   },
   "outputs": [
    {
     "data": {
      "application/vnd.jupyter.widget-view+json": {
       "model_id": "d6eef28e40a948b39a5888bee8a1a2c3",
       "version_major": 2,
       "version_minor": 0
      },
      "text/plain": [
       "Downloading (…)okenizer_config.json:   0%|          | 0.00/60.0 [00:00<?, ?B/s]"
      ]
     },
     "metadata": {},
     "output_type": "display_data"
    },
    {
     "data": {
      "application/vnd.jupyter.widget-view+json": {
       "model_id": "1320732793bb4482b81b626e220d1a34",
       "version_major": 2,
       "version_minor": 0
      },
      "text/plain": [
       "Downloading (…)lve/main/config.json:   0%|          | 0.00/385 [00:00<?, ?B/s]"
      ]
     },
     "metadata": {},
     "output_type": "display_data"
    },
    {
     "data": {
      "application/vnd.jupyter.widget-view+json": {
       "model_id": "96793894fb87455984941413bb0c7cf0",
       "version_major": 2,
       "version_minor": 0
      },
      "text/plain": [
       "Downloading (…)solve/main/vocab.txt:   0%|          | 0.00/251k [00:00<?, ?B/s]"
      ]
     },
     "metadata": {},
     "output_type": "display_data"
    },
    {
     "data": {
      "application/vnd.jupyter.widget-view+json": {
       "model_id": "31f71bee67b94ebf9c55bb43d3c471d8",
       "version_major": 2,
       "version_minor": 0
      },
      "text/plain": [
       "Downloading pytorch_model.bin:   0%|          | 0.00/445M [00:00<?, ?B/s]"
      ]
     },
     "metadata": {},
     "output_type": "display_data"
    }
   ],
   "source": [
    "device = torch.device(\"cuda\" if torch.cuda.is_available() else \"cpu\")\n",
    "model_name = \"dbmdz/bert-base-turkish-cased\"\n",
    "tokenizer = AutoTokenizer.from_pretrained(model_name)\n",
    "bert_model = AutoModel.from_pretrained(model_name).to(device)"
   ]
  },
  {
   "cell_type": "code",
   "execution_count": 10,
   "id": "1676a7c3",
   "metadata": {
    "execution": {
     "iopub.execute_input": "2023-10-02T18:18:21.756055Z",
     "iopub.status.busy": "2023-10-02T18:18:21.755142Z",
     "iopub.status.idle": "2023-10-02T18:18:21.763630Z",
     "shell.execute_reply": "2023-10-02T18:18:21.762786Z",
     "shell.execute_reply.started": "2023-10-02T18:18:21.756020Z"
    }
   },
   "outputs": [],
   "source": [
    "def feature_extraction(df):\n",
    "    tokenized = df['review'].apply((lambda x: tokenizer.encode(str(x), add_special_tokens=True)))\n",
    "    max_len = 0\n",
    "    for i in tokenized.values:\n",
    "        if (len(i) > max_len):\n",
    "            max_len = len(i)\n",
    "            \n",
    "    last_hidden_states = []\n",
    "    padded = np.array([i + [0]*(max_len-len(i)) for i in tokenized.values])\n",
    "    attention_mask = np.where(padded != 0, 1, 0)\n",
    "    all_hidden_states = []\n",
    "    batch_size = 8\n",
    "    for i in range(0, len(padded), batch_size):\n",
    "        batch_input_ids = torch.tensor(padded[i:i+batch_size]).to(device)\n",
    "        batch_attention_mask = torch.tensor(attention_mask[i:i+batch_size]).to(device)\n",
    "\n",
    "        with torch.no_grad():\n",
    "#             last_hidden_states += list(bert_model(batch_input_ids, attention_mask=batch_attention_mask)[0][0][0].cpu().numpy())\n",
    "            last_hidden_states += list(bert_model(batch_input_ids, attention_mask=batch_attention_mask)[0][:,0,:].cpu().numpy())\n",
    "#             list(x[0][0].cpu().numpy())\n",
    "        \n",
    "#         all_hidden_states.extend(last_hidden_states)\n",
    "        \n",
    "#     last_hidden_states[0].size()\n",
    "#     torch.Size([668, 75, 768])\n",
    "#     return last_hidden_states[0][:,0,:].numpy()\n",
    "    return last_hidden_states\n",
    "    "
   ]
  },
  {
   "cell_type": "code",
   "execution_count": 11,
   "id": "cfa073fe",
   "metadata": {
    "execution": {
     "iopub.execute_input": "2023-10-02T18:18:21.766252Z",
     "iopub.status.busy": "2023-10-02T18:18:21.765639Z",
     "iopub.status.idle": "2023-10-02T18:22:28.928059Z",
     "shell.execute_reply": "2023-10-02T18:22:28.926935Z",
     "shell.execute_reply.started": "2023-10-02T18:18:21.766217Z"
    }
   },
   "outputs": [],
   "source": [
    "X_train_tokens = feature_extraction(X_train)"
   ]
  },
  {
   "cell_type": "code",
   "execution_count": 12,
   "id": "369b5780",
   "metadata": {
    "execution": {
     "iopub.execute_input": "2023-10-02T18:22:28.930481Z",
     "iopub.status.busy": "2023-10-02T18:22:28.929454Z",
     "iopub.status.idle": "2023-10-02T18:23:26.262066Z",
     "shell.execute_reply": "2023-10-02T18:23:26.261065Z",
     "shell.execute_reply.started": "2023-10-02T18:22:28.930444Z"
    }
   },
   "outputs": [],
   "source": [
    "X_test_tokens = feature_extraction(X_test)"
   ]
  },
  {
   "cell_type": "code",
   "execution_count": 13,
   "id": "bbda6295",
   "metadata": {
    "execution": {
     "iopub.execute_input": "2023-10-02T18:23:26.264500Z",
     "iopub.status.busy": "2023-10-02T18:23:26.263372Z",
     "iopub.status.idle": "2023-10-02T18:23:26.271488Z",
     "shell.execute_reply": "2023-10-02T18:23:26.270546Z",
     "shell.execute_reply.started": "2023-10-02T18:23:26.264465Z"
    }
   },
   "outputs": [
    {
     "data": {
      "text/plain": [
       "list"
      ]
     },
     "execution_count": 13,
     "metadata": {},
     "output_type": "execute_result"
    }
   ],
   "source": [
    "type(X_train_tokens)"
   ]
  },
  {
   "cell_type": "code",
   "execution_count": 14,
   "id": "8d768cc2",
   "metadata": {
    "execution": {
     "iopub.execute_input": "2023-10-02T18:23:26.273662Z",
     "iopub.status.busy": "2023-10-02T18:23:26.273029Z",
     "iopub.status.idle": "2023-10-02T18:23:26.282902Z",
     "shell.execute_reply": "2023-10-02T18:23:26.281923Z",
     "shell.execute_reply.started": "2023-10-02T18:23:26.273628Z"
    }
   },
   "outputs": [],
   "source": [
    "def process_data(df,tokens):\n",
    "    mapping = {'negative':0, 'neutral':1, 'positive':2}\n",
    "    X = []\n",
    "    y = []\n",
    "    for idx, review in enumerate(tqdm(df[\"review\"].values)):\n",
    "        X.append(tokens[idx])\n",
    "        y_val = np.zeros(3)\n",
    "        y_val[mapping[df.iloc[idx]['sentiment']]] = 1\n",
    "        y.append(y_val)\n",
    "    return np.array(X), np.array(y)"
   ]
  },
  {
   "cell_type": "code",
   "execution_count": 15,
   "id": "81040283",
   "metadata": {
    "execution": {
     "iopub.execute_input": "2023-10-02T18:23:26.284975Z",
     "iopub.status.busy": "2023-10-02T18:23:26.284273Z",
     "iopub.status.idle": "2023-10-02T18:23:28.864136Z",
     "shell.execute_reply": "2023-10-02T18:23:28.863144Z",
     "shell.execute_reply.started": "2023-10-02T18:23:26.284943Z"
    }
   },
   "outputs": [
    {
     "name": "stderr",
     "output_type": "stream",
     "text": [
      "100%|██████████| 48333/48333 [00:02<00:00, 19570.64it/s]\n"
     ]
    }
   ],
   "source": [
    "X_train, y_train = process_data(X_train,X_train_tokens)"
   ]
  },
  {
   "cell_type": "code",
   "execution_count": 16,
   "id": "34f5cf3b",
   "metadata": {
    "execution": {
     "iopub.execute_input": "2023-10-02T18:23:28.866574Z",
     "iopub.status.busy": "2023-10-02T18:23:28.865540Z",
     "iopub.status.idle": "2023-10-02T18:23:29.755109Z",
     "shell.execute_reply": "2023-10-02T18:23:29.754155Z",
     "shell.execute_reply.started": "2023-10-02T18:23:28.866540Z"
    }
   },
   "outputs": [
    {
     "name": "stderr",
     "output_type": "stream",
     "text": [
      "100%|██████████| 16112/16112 [00:00<00:00, 18975.09it/s]\n"
     ]
    }
   ],
   "source": [
    "X_test, y_test = process_data(X_test, X_test_tokens)"
   ]
  },
  {
   "cell_type": "markdown",
   "id": "7ae77d68",
   "metadata": {},
   "source": [
    "# Training a Model with Keras"
   ]
  },
  {
   "cell_type": "code",
   "execution_count": 33,
   "id": "8deff1f3",
   "metadata": {
    "execution": {
     "iopub.execute_input": "2023-10-02T19:12:27.580964Z",
     "iopub.status.busy": "2023-10-02T19:12:27.579869Z",
     "iopub.status.idle": "2023-10-02T19:12:27.586182Z",
     "shell.execute_reply": "2023-10-02T19:12:27.585132Z",
     "shell.execute_reply.started": "2023-10-02T19:12:27.580914Z"
    }
   },
   "outputs": [],
   "source": [
    "import keras \n",
    "from keras.models import Sequential,load_model\n",
    "from keras.layers import Dense,Dropout,BatchNormalization,Activation\n",
    "from keras.optimizers import Adam\n",
    "from keras.callbacks import EarlyStopping,ModelCheckpoint"
   ]
  },
  {
   "cell_type": "code",
   "execution_count": 18,
   "id": "9cf8b9ac",
   "metadata": {
    "execution": {
     "iopub.execute_input": "2023-10-02T18:23:29.764134Z",
     "iopub.status.busy": "2023-10-02T18:23:29.763304Z",
     "iopub.status.idle": "2023-10-02T18:23:30.422927Z",
     "shell.execute_reply": "2023-10-02T18:23:30.422145Z",
     "shell.execute_reply.started": "2023-10-02T18:23:29.764100Z"
    }
   },
   "outputs": [
    {
     "name": "stdout",
     "output_type": "stream",
     "text": [
      "Model: \"sequential\"\n",
      "_________________________________________________________________\n",
      " Layer (type)                Output Shape              Param #   \n",
      "=================================================================\n",
      " dense (Dense)               (None, 128)               98432     \n",
      "                                                                 \n",
      " dropout (Dropout)           (None, 128)               0         \n",
      "                                                                 \n",
      " batch_normalization (BatchN  (None, 128)              512       \n",
      " ormalization)                                                   \n",
      "                                                                 \n",
      " dense_1 (Dense)             (None, 64)                8256      \n",
      "                                                                 \n",
      " dropout_1 (Dropout)         (None, 64)                0         \n",
      "                                                                 \n",
      " batch_normalization_1 (Batc  (None, 64)               256       \n",
      " hNormalization)                                                 \n",
      "                                                                 \n",
      " dense_2 (Dense)             (None, 32)                2080      \n",
      "                                                                 \n",
      " batch_normalization_2 (Batc  (None, 32)               128       \n",
      " hNormalization)                                                 \n",
      "                                                                 \n",
      " dropout_2 (Dropout)         (None, 32)                0         \n",
      "                                                                 \n",
      " dense_3 (Dense)             (None, 3)                 99        \n",
      "                                                                 \n",
      "=================================================================\n",
      "Total params: 109,763\n",
      "Trainable params: 109,315\n",
      "Non-trainable params: 448\n",
      "_________________________________________________________________\n"
     ]
    }
   ],
   "source": [
    "# create model \n",
    "model = Sequential()\n",
    "num_tokens = len(X_train_tokens[0])\n",
    "model.add(Dense(128, input_shape=(num_tokens,), activation='relu'))\n",
    "model.add(Dropout(0.5))\n",
    "model.add(BatchNormalization())\n",
    "\n",
    "model.add(Dense(64, activation='relu'))\n",
    "model.add(Dropout(0.5))\n",
    "model.add(BatchNormalization())\n",
    "\n",
    "model.add(Dense(32, activation='relu'))\n",
    "model.add(BatchNormalization())\n",
    "model.add(Dropout(0.5))\n",
    "\n",
    "model.add(Dense(3, activation='softmax'))\n",
    "model.summary()"
   ]
  },
  {
   "cell_type": "code",
   "execution_count": 19,
   "id": "0d317085",
   "metadata": {
    "execution": {
     "iopub.execute_input": "2023-10-02T18:23:30.424263Z",
     "iopub.status.busy": "2023-10-02T18:23:30.423916Z",
     "iopub.status.idle": "2023-10-02T18:23:30.451063Z",
     "shell.execute_reply": "2023-10-02T18:23:30.450058Z",
     "shell.execute_reply.started": "2023-10-02T18:23:30.424233Z"
    }
   },
   "outputs": [
    {
     "name": "stderr",
     "output_type": "stream",
     "text": [
      "/opt/conda/lib/python3.10/site-packages/keras/optimizers/legacy/adam.py:117: UserWarning: The `lr` argument is deprecated, use `learning_rate` instead.\n",
      "  super().__init__(name, **kwargs)\n"
     ]
    }
   ],
   "source": [
    "optimizer = Adam(lr=1e-3)\n",
    "model.compile(optimizer=optimizer, loss='categorical_crossentropy', metrics=['accuracy'])"
   ]
  },
  {
   "cell_type": "code",
   "execution_count": 30,
   "id": "e4693e84",
   "metadata": {
    "execution": {
     "iopub.execute_input": "2023-10-02T18:49:18.480078Z",
     "iopub.status.busy": "2023-10-02T18:49:18.479676Z",
     "iopub.status.idle": "2023-10-02T18:49:18.485261Z",
     "shell.execute_reply": "2023-10-02T18:49:18.483999Z",
     "shell.execute_reply.started": "2023-10-02T18:49:18.480051Z"
    }
   },
   "outputs": [],
   "source": [
    "# es = EarlyStopping(monitor='val_accuracy', mode='max', min_delta=1)\n",
    "es = EarlyStopping(monitor='val_loss', mode='min', verbose=1, patience=50)"
   ]
  },
  {
   "cell_type": "code",
   "execution_count": 28,
   "id": "8346ac9d",
   "metadata": {
    "execution": {
     "iopub.execute_input": "2023-10-02T18:45:20.519690Z",
     "iopub.status.busy": "2023-10-02T18:45:20.519340Z",
     "iopub.status.idle": "2023-10-02T18:45:20.524578Z",
     "shell.execute_reply": "2023-10-02T18:45:20.523644Z",
     "shell.execute_reply.started": "2023-10-02T18:45:20.519662Z"
    }
   },
   "outputs": [],
   "source": [
    "mc = ModelCheckpoint('best_model.h5', monitor='val_accuracy', mode='max', verbose=1, save_best_only=True)"
   ]
  },
  {
   "cell_type": "code",
   "execution_count": 31,
   "id": "a7997451",
   "metadata": {
    "execution": {
     "iopub.execute_input": "2023-10-02T18:49:24.010090Z",
     "iopub.status.busy": "2023-10-02T18:49:24.009715Z",
     "iopub.status.idle": "2023-10-02T19:01:28.274369Z",
     "shell.execute_reply": "2023-10-02T19:01:28.273338Z",
     "shell.execute_reply.started": "2023-10-02T18:49:24.010064Z"
    }
   },
   "outputs": [
    {
     "name": "stdout",
     "output_type": "stream",
     "text": [
      "Epoch 1/500\n",
      "750/756 [============================>.] - ETA: 0s - loss: 0.3143 - accuracy: 0.9091\n",
      "Epoch 1: val_accuracy did not improve from 0.91149\n",
      "756/756 [==============================] - 4s 5ms/step - loss: 0.3144 - accuracy: 0.9090 - val_loss: 0.2993 - val_accuracy: 0.9115\n",
      "Epoch 2/500\n",
      "753/756 [============================>.] - ETA: 0s - loss: 0.3099 - accuracy: 0.9093\n",
      "Epoch 2: val_accuracy did not improve from 0.91149\n",
      "756/756 [==============================] - 4s 5ms/step - loss: 0.3097 - accuracy: 0.9094 - val_loss: 0.2981 - val_accuracy: 0.9115\n",
      "Epoch 3/500\n",
      "756/756 [==============================] - ETA: 0s - loss: 0.3076 - accuracy: 0.9095\n",
      "Epoch 3: val_accuracy did not improve from 0.91149\n",
      "756/756 [==============================] - 4s 6ms/step - loss: 0.3076 - accuracy: 0.9095 - val_loss: 0.2988 - val_accuracy: 0.9115\n",
      "Epoch 4/500\n",
      "753/756 [============================>.] - ETA: 0s - loss: 0.3064 - accuracy: 0.9095\n",
      "Epoch 4: val_accuracy did not improve from 0.91149\n",
      "756/756 [==============================] - 4s 5ms/step - loss: 0.3063 - accuracy: 0.9095 - val_loss: 0.2976 - val_accuracy: 0.9115\n",
      "Epoch 5/500\n",
      "755/756 [============================>.] - ETA: 0s - loss: 0.3050 - accuracy: 0.9095\n",
      "Epoch 5: val_accuracy did not improve from 0.91149\n",
      "756/756 [==============================] - 4s 5ms/step - loss: 0.3049 - accuracy: 0.9095 - val_loss: 0.2997 - val_accuracy: 0.9115\n",
      "Epoch 6/500\n",
      "754/756 [============================>.] - ETA: 0s - loss: 0.3040 - accuracy: 0.9095\n",
      "Epoch 6: val_accuracy did not improve from 0.91149\n",
      "756/756 [==============================] - 4s 5ms/step - loss: 0.3040 - accuracy: 0.9095 - val_loss: 0.2946 - val_accuracy: 0.9115\n",
      "Epoch 7/500\n",
      "748/756 [============================>.] - ETA: 0s - loss: 0.3027 - accuracy: 0.9096\n",
      "Epoch 7: val_accuracy did not improve from 0.91149\n",
      "756/756 [==============================] - 4s 5ms/step - loss: 0.3027 - accuracy: 0.9095 - val_loss: 0.2942 - val_accuracy: 0.9115\n",
      "Epoch 8/500\n",
      "752/756 [============================>.] - ETA: 0s - loss: 0.3002 - accuracy: 0.9093\n",
      "Epoch 8: val_accuracy did not improve from 0.91149\n",
      "756/756 [==============================] - 4s 5ms/step - loss: 0.3000 - accuracy: 0.9094 - val_loss: 0.2875 - val_accuracy: 0.9114\n",
      "Epoch 9/500\n",
      "749/756 [============================>.] - ETA: 0s - loss: 0.2968 - accuracy: 0.9093\n",
      "Epoch 9: val_accuracy did not improve from 0.91149\n",
      "756/756 [==============================] - 4s 5ms/step - loss: 0.2965 - accuracy: 0.9094 - val_loss: 0.2871 - val_accuracy: 0.9114\n",
      "Epoch 10/500\n",
      "754/756 [============================>.] - ETA: 0s - loss: 0.2972 - accuracy: 0.9093\n",
      "Epoch 10: val_accuracy did not improve from 0.91149\n",
      "756/756 [==============================] - 4s 5ms/step - loss: 0.2970 - accuracy: 0.9094 - val_loss: 0.2889 - val_accuracy: 0.9114\n",
      "Epoch 11/500\n",
      "751/756 [============================>.] - ETA: 0s - loss: 0.2963 - accuracy: 0.9096\n",
      "Epoch 11: val_accuracy did not improve from 0.91149\n",
      "756/756 [==============================] - 5s 6ms/step - loss: 0.2964 - accuracy: 0.9095 - val_loss: 0.2894 - val_accuracy: 0.9109\n",
      "Epoch 12/500\n",
      "751/756 [============================>.] - ETA: 0s - loss: 0.2945 - accuracy: 0.9095\n",
      "Epoch 12: val_accuracy did not improve from 0.91149\n",
      "756/756 [==============================] - 4s 5ms/step - loss: 0.2946 - accuracy: 0.9095 - val_loss: 0.2876 - val_accuracy: 0.9093\n",
      "Epoch 13/500\n",
      "746/756 [============================>.] - ETA: 0s - loss: 0.2933 - accuracy: 0.9094\n",
      "Epoch 13: val_accuracy did not improve from 0.91149\n",
      "756/756 [==============================] - 4s 5ms/step - loss: 0.2930 - accuracy: 0.9094 - val_loss: 0.2856 - val_accuracy: 0.9107\n",
      "Epoch 14/500\n",
      "756/756 [==============================] - ETA: 0s - loss: 0.2935 - accuracy: 0.9094\n",
      "Epoch 14: val_accuracy did not improve from 0.91149\n",
      "756/756 [==============================] - 4s 5ms/step - loss: 0.2935 - accuracy: 0.9094 - val_loss: 0.2847 - val_accuracy: 0.9104\n",
      "Epoch 15/500\n",
      "754/756 [============================>.] - ETA: 0s - loss: 0.2944 - accuracy: 0.9092\n",
      "Epoch 15: val_accuracy did not improve from 0.91149\n",
      "756/756 [==============================] - 4s 5ms/step - loss: 0.2943 - accuracy: 0.9093 - val_loss: 0.2897 - val_accuracy: 0.9107\n",
      "Epoch 16/500\n",
      "749/756 [============================>.] - ETA: 0s - loss: 0.2931 - accuracy: 0.9094\n",
      "Epoch 16: val_accuracy did not improve from 0.91149\n",
      "756/756 [==============================] - 4s 5ms/step - loss: 0.2931 - accuracy: 0.9094 - val_loss: 0.2837 - val_accuracy: 0.9107\n",
      "Epoch 17/500\n",
      "745/756 [============================>.] - ETA: 0s - loss: 0.2903 - accuracy: 0.9092\n",
      "Epoch 17: val_accuracy did not improve from 0.91149\n",
      "756/756 [==============================] - 4s 5ms/step - loss: 0.2905 - accuracy: 0.9091 - val_loss: 0.2819 - val_accuracy: 0.9111\n",
      "Epoch 18/500\n",
      "752/756 [============================>.] - ETA: 0s - loss: 0.2900 - accuracy: 0.9092\n",
      "Epoch 18: val_accuracy did not improve from 0.91149\n",
      "756/756 [==============================] - 4s 5ms/step - loss: 0.2900 - accuracy: 0.9092 - val_loss: 0.2857 - val_accuracy: 0.9113\n",
      "Epoch 19/500\n",
      "752/756 [============================>.] - ETA: 0s - loss: 0.2909 - accuracy: 0.9093\n",
      "Epoch 19: val_accuracy did not improve from 0.91149\n",
      "756/756 [==============================] - 4s 6ms/step - loss: 0.2906 - accuracy: 0.9094 - val_loss: 0.2825 - val_accuracy: 0.9112\n",
      "Epoch 20/500\n",
      "753/756 [============================>.] - ETA: 0s - loss: 0.2896 - accuracy: 0.9092\n",
      "Epoch 20: val_accuracy did not improve from 0.91149\n",
      "756/756 [==============================] - 4s 5ms/step - loss: 0.2899 - accuracy: 0.9091 - val_loss: 0.2784 - val_accuracy: 0.9112\n",
      "Epoch 21/500\n",
      "751/756 [============================>.] - ETA: 0s - loss: 0.2890 - accuracy: 0.9094\n",
      "Epoch 21: val_accuracy did not improve from 0.91149\n",
      "756/756 [==============================] - 4s 5ms/step - loss: 0.2888 - accuracy: 0.9094 - val_loss: 0.2834 - val_accuracy: 0.9112\n",
      "Epoch 22/500\n",
      "752/756 [============================>.] - ETA: 0s - loss: 0.2900 - accuracy: 0.9095\n",
      "Epoch 22: val_accuracy did not improve from 0.91149\n",
      "756/756 [==============================] - 4s 5ms/step - loss: 0.2902 - accuracy: 0.9094 - val_loss: 0.2879 - val_accuracy: 0.9110\n",
      "Epoch 23/500\n",
      "752/756 [============================>.] - ETA: 0s - loss: 0.2913 - accuracy: 0.9093\n",
      "Epoch 23: val_accuracy did not improve from 0.91149\n",
      "756/756 [==============================] - 4s 5ms/step - loss: 0.2915 - accuracy: 0.9093 - val_loss: 0.2852 - val_accuracy: 0.9112\n",
      "Epoch 24/500\n",
      "749/756 [============================>.] - ETA: 0s - loss: 0.2912 - accuracy: 0.9095\n",
      "Epoch 24: val_accuracy did not improve from 0.91149\n",
      "756/756 [==============================] - 4s 5ms/step - loss: 0.2914 - accuracy: 0.9094 - val_loss: 0.2839 - val_accuracy: 0.9108\n",
      "Epoch 25/500\n",
      "749/756 [============================>.] - ETA: 0s - loss: 0.2892 - accuracy: 0.9092\n",
      "Epoch 25: val_accuracy did not improve from 0.91149\n",
      "756/756 [==============================] - 4s 5ms/step - loss: 0.2889 - accuracy: 0.9093 - val_loss: 0.2798 - val_accuracy: 0.9112\n",
      "Epoch 26/500\n",
      "745/756 [============================>.] - ETA: 0s - loss: 0.2882 - accuracy: 0.9086\n",
      "Epoch 26: val_accuracy improved from 0.91149 to 0.91156, saving model to best_model.h5\n",
      "756/756 [==============================] - 4s 5ms/step - loss: 0.2874 - accuracy: 0.9089 - val_loss: 0.2741 - val_accuracy: 0.9116\n",
      "Epoch 27/500\n",
      "755/756 [============================>.] - ETA: 0s - loss: 0.2869 - accuracy: 0.9094\n",
      "Epoch 27: val_accuracy did not improve from 0.91156\n",
      "756/756 [==============================] - 4s 6ms/step - loss: 0.2869 - accuracy: 0.9094 - val_loss: 0.2771 - val_accuracy: 0.9110\n",
      "Epoch 28/500\n",
      "756/756 [==============================] - ETA: 0s - loss: 0.2862 - accuracy: 0.9094\n",
      "Epoch 28: val_accuracy did not improve from 0.91156\n",
      "756/756 [==============================] - 4s 5ms/step - loss: 0.2862 - accuracy: 0.9094 - val_loss: 0.2763 - val_accuracy: 0.9109\n",
      "Epoch 29/500\n",
      "745/756 [============================>.] - ETA: 0s - loss: 0.2860 - accuracy: 0.9096\n",
      "Epoch 29: val_accuracy did not improve from 0.91156\n",
      "756/756 [==============================] - 4s 5ms/step - loss: 0.2863 - accuracy: 0.9093 - val_loss: 0.2785 - val_accuracy: 0.9112\n",
      "Epoch 30/500\n",
      "752/756 [============================>.] - ETA: 0s - loss: 0.2874 - accuracy: 0.9094\n",
      "Epoch 30: val_accuracy did not improve from 0.91156\n",
      "756/756 [==============================] - 4s 5ms/step - loss: 0.2871 - accuracy: 0.9095 - val_loss: 0.2826 - val_accuracy: 0.9112\n",
      "Epoch 31/500\n",
      "746/756 [============================>.] - ETA: 0s - loss: 0.2857 - accuracy: 0.9092\n",
      "Epoch 31: val_accuracy did not improve from 0.91156\n",
      "756/756 [==============================] - 4s 5ms/step - loss: 0.2855 - accuracy: 0.9093 - val_loss: 0.2800 - val_accuracy: 0.9111\n",
      "Epoch 32/500\n",
      "750/756 [============================>.] - ETA: 0s - loss: 0.2845 - accuracy: 0.9094\n",
      "Epoch 32: val_accuracy did not improve from 0.91156\n",
      "756/756 [==============================] - 4s 5ms/step - loss: 0.2844 - accuracy: 0.9094 - val_loss: 0.2880 - val_accuracy: 0.9111\n",
      "Epoch 33/500\n",
      "756/756 [==============================] - ETA: 0s - loss: 0.2858 - accuracy: 0.9092\n",
      "Epoch 33: val_accuracy did not improve from 0.91156\n",
      "756/756 [==============================] - 4s 5ms/step - loss: 0.2858 - accuracy: 0.9092 - val_loss: 0.2781 - val_accuracy: 0.9106\n",
      "Epoch 34/500\n",
      "746/756 [============================>.] - ETA: 0s - loss: 0.2858 - accuracy: 0.9093\n",
      "Epoch 34: val_accuracy did not improve from 0.91156\n",
      "756/756 [==============================] - 4s 5ms/step - loss: 0.2857 - accuracy: 0.9094 - val_loss: 0.2882 - val_accuracy: 0.9107\n",
      "Epoch 35/500\n",
      "746/756 [============================>.] - ETA: 0s - loss: 0.2882 - accuracy: 0.9095\n",
      "Epoch 35: val_accuracy did not improve from 0.91156\n",
      "756/756 [==============================] - 4s 6ms/step - loss: 0.2883 - accuracy: 0.9094 - val_loss: 0.2851 - val_accuracy: 0.9114\n",
      "Epoch 36/500\n",
      "750/756 [============================>.] - ETA: 0s - loss: 0.2897 - accuracy: 0.9093\n",
      "Epoch 36: val_accuracy did not improve from 0.91156\n",
      "756/756 [==============================] - 4s 5ms/step - loss: 0.2897 - accuracy: 0.9094 - val_loss: 0.2847 - val_accuracy: 0.9110\n",
      "Epoch 37/500\n",
      "754/756 [============================>.] - ETA: 0s - loss: 0.2890 - accuracy: 0.9096\n",
      "Epoch 37: val_accuracy did not improve from 0.91156\n",
      "756/756 [==============================] - 4s 5ms/step - loss: 0.2891 - accuracy: 0.9096 - val_loss: 0.2817 - val_accuracy: 0.9111\n",
      "Epoch 38/500\n",
      "745/756 [============================>.] - ETA: 0s - loss: 0.2885 - accuracy: 0.9093\n",
      "Epoch 38: val_accuracy did not improve from 0.91156\n",
      "756/756 [==============================] - 4s 5ms/step - loss: 0.2881 - accuracy: 0.9094 - val_loss: 0.2932 - val_accuracy: 0.9109\n",
      "Epoch 39/500\n",
      "747/756 [============================>.] - ETA: 0s - loss: 0.2890 - accuracy: 0.9091\n",
      "Epoch 39: val_accuracy did not improve from 0.91156\n",
      "756/756 [==============================] - 4s 5ms/step - loss: 0.2886 - accuracy: 0.9093 - val_loss: 0.2867 - val_accuracy: 0.9107\n",
      "Epoch 40/500\n",
      "752/756 [============================>.] - ETA: 0s - loss: 0.2881 - accuracy: 0.9091\n",
      "Epoch 40: val_accuracy did not improve from 0.91156\n",
      "756/756 [==============================] - 4s 5ms/step - loss: 0.2880 - accuracy: 0.9092 - val_loss: 0.2822 - val_accuracy: 0.9109\n",
      "Epoch 41/500\n",
      "750/756 [============================>.] - ETA: 0s - loss: 0.2888 - accuracy: 0.9090\n",
      "Epoch 41: val_accuracy did not improve from 0.91156\n",
      "756/756 [==============================] - 4s 5ms/step - loss: 0.2884 - accuracy: 0.9093 - val_loss: 0.2822 - val_accuracy: 0.9105\n",
      "Epoch 42/500\n",
      "745/756 [============================>.] - ETA: 0s - loss: 0.2856 - accuracy: 0.9093\n",
      "Epoch 42: val_accuracy did not improve from 0.91156\n",
      "756/756 [==============================] - 4s 5ms/step - loss: 0.2853 - accuracy: 0.9093 - val_loss: 0.2774 - val_accuracy: 0.9111\n",
      "Epoch 43/500\n",
      "754/756 [============================>.] - ETA: 0s - loss: 0.2880 - accuracy: 0.9093\n",
      "Epoch 43: val_accuracy did not improve from 0.91156\n",
      "756/756 [==============================] - 4s 6ms/step - loss: 0.2880 - accuracy: 0.9094 - val_loss: 0.2847 - val_accuracy: 0.9110\n",
      "Epoch 44/500\n",
      "745/756 [============================>.] - ETA: 0s - loss: 0.2892 - accuracy: 0.9094\n",
      "Epoch 44: val_accuracy did not improve from 0.91156\n",
      "756/756 [==============================] - 4s 5ms/step - loss: 0.2894 - accuracy: 0.9093 - val_loss: 0.2879 - val_accuracy: 0.9104\n",
      "Epoch 45/500\n",
      "754/756 [============================>.] - ETA: 0s - loss: 0.2911 - accuracy: 0.9093\n",
      "Epoch 45: val_accuracy did not improve from 0.91156\n",
      "756/756 [==============================] - 4s 5ms/step - loss: 0.2910 - accuracy: 0.9094 - val_loss: 0.2887 - val_accuracy: 0.9106\n",
      "Epoch 46/500\n",
      "753/756 [============================>.] - ETA: 0s - loss: 0.2920 - accuracy: 0.9094\n",
      "Epoch 46: val_accuracy did not improve from 0.91156\n",
      "756/756 [==============================] - 4s 5ms/step - loss: 0.2920 - accuracy: 0.9094 - val_loss: 0.2987 - val_accuracy: 0.9101\n",
      "Epoch 47/500\n",
      "754/756 [============================>.] - ETA: 0s - loss: 0.2934 - accuracy: 0.9093\n",
      "Epoch 47: val_accuracy did not improve from 0.91156\n",
      "756/756 [==============================] - 4s 5ms/step - loss: 0.2932 - accuracy: 0.9094 - val_loss: 0.3047 - val_accuracy: 0.9109\n",
      "Epoch 48/500\n",
      "752/756 [============================>.] - ETA: 0s - loss: 0.2927 - accuracy: 0.9094\n",
      "Epoch 48: val_accuracy did not improve from 0.91156\n",
      "756/756 [==============================] - 4s 5ms/step - loss: 0.2928 - accuracy: 0.9094 - val_loss: 0.3129 - val_accuracy: 0.9113\n",
      "Epoch 49/500\n",
      "751/756 [============================>.] - ETA: 0s - loss: 0.2897 - accuracy: 0.9097\n",
      "Epoch 49: val_accuracy did not improve from 0.91156\n",
      "756/756 [==============================] - 4s 5ms/step - loss: 0.2900 - accuracy: 0.9094 - val_loss: 0.2829 - val_accuracy: 0.9106\n",
      "Epoch 50/500\n",
      "753/756 [============================>.] - ETA: 0s - loss: 0.2872 - accuracy: 0.9095\n",
      "Epoch 50: val_accuracy did not improve from 0.91156\n",
      "756/756 [==============================] - 4s 5ms/step - loss: 0.2872 - accuracy: 0.9095 - val_loss: 0.2834 - val_accuracy: 0.9106\n",
      "Epoch 51/500\n",
      "752/756 [============================>.] - ETA: 0s - loss: 0.2868 - accuracy: 0.9094\n",
      "Epoch 51: val_accuracy did not improve from 0.91156\n",
      "756/756 [==============================] - 4s 6ms/step - loss: 0.2867 - accuracy: 0.9095 - val_loss: 0.2870 - val_accuracy: 0.9107\n",
      "Epoch 52/500\n",
      "754/756 [============================>.] - ETA: 0s - loss: 0.2844 - accuracy: 0.9094\n",
      "Epoch 52: val_accuracy did not improve from 0.91156\n",
      "756/756 [==============================] - 4s 5ms/step - loss: 0.2844 - accuracy: 0.9095 - val_loss: 0.2799 - val_accuracy: 0.9109\n",
      "Epoch 53/500\n",
      "746/756 [============================>.] - ETA: 0s - loss: 0.2830 - accuracy: 0.9092\n",
      "Epoch 53: val_accuracy did not improve from 0.91156\n",
      "756/756 [==============================] - 4s 5ms/step - loss: 0.2830 - accuracy: 0.9093 - val_loss: 0.2796 - val_accuracy: 0.9114\n",
      "Epoch 54/500\n",
      "756/756 [==============================] - ETA: 0s - loss: 0.2826 - accuracy: 0.9091\n",
      "Epoch 54: val_accuracy did not improve from 0.91156\n",
      "756/756 [==============================] - 4s 5ms/step - loss: 0.2826 - accuracy: 0.9091 - val_loss: 0.2843 - val_accuracy: 0.9112\n",
      "Epoch 55/500\n",
      "749/756 [============================>.] - ETA: 0s - loss: 0.2813 - accuracy: 0.9093\n",
      "Epoch 55: val_accuracy did not improve from 0.91156\n",
      "756/756 [==============================] - 4s 5ms/step - loss: 0.2808 - accuracy: 0.9095 - val_loss: 0.2895 - val_accuracy: 0.9111\n",
      "Epoch 56/500\n",
      "754/756 [============================>.] - ETA: 0s - loss: 0.2803 - accuracy: 0.9094\n",
      "Epoch 56: val_accuracy did not improve from 0.91156\n",
      "756/756 [==============================] - 4s 5ms/step - loss: 0.2803 - accuracy: 0.9094 - val_loss: 0.2832 - val_accuracy: 0.9107\n",
      "Epoch 57/500\n",
      "746/756 [============================>.] - ETA: 0s - loss: 0.2827 - accuracy: 0.9093\n",
      "Epoch 57: val_accuracy did not improve from 0.91156\n",
      "756/756 [==============================] - 4s 5ms/step - loss: 0.2827 - accuracy: 0.9094 - val_loss: 0.3219 - val_accuracy: 0.9111\n",
      "Epoch 58/500\n",
      "756/756 [==============================] - ETA: 0s - loss: 0.2832 - accuracy: 0.9094\n",
      "Epoch 58: val_accuracy did not improve from 0.91156\n",
      "756/756 [==============================] - 4s 5ms/step - loss: 0.2832 - accuracy: 0.9094 - val_loss: 0.3187 - val_accuracy: 0.9108\n",
      "Epoch 59/500\n",
      "746/756 [============================>.] - ETA: 0s - loss: 0.2814 - accuracy: 0.9092\n",
      "Epoch 59: val_accuracy did not improve from 0.91156\n",
      "756/756 [==============================] - 4s 6ms/step - loss: 0.2813 - accuracy: 0.9092 - val_loss: 0.2884 - val_accuracy: 0.9111\n",
      "Epoch 60/500\n",
      "751/756 [============================>.] - ETA: 0s - loss: 0.2822 - accuracy: 0.9093\n",
      "Epoch 60: val_accuracy did not improve from 0.91156\n",
      "756/756 [==============================] - 4s 5ms/step - loss: 0.2822 - accuracy: 0.9093 - val_loss: 0.3085 - val_accuracy: 0.9109\n",
      "Epoch 61/500\n",
      "748/756 [============================>.] - ETA: 0s - loss: 0.2812 - accuracy: 0.9092\n",
      "Epoch 61: val_accuracy did not improve from 0.91156\n",
      "756/756 [==============================] - 4s 5ms/step - loss: 0.2808 - accuracy: 0.9094 - val_loss: 0.3015 - val_accuracy: 0.9111\n",
      "Epoch 62/500\n",
      "755/756 [============================>.] - ETA: 0s - loss: 0.2792 - accuracy: 0.9092\n",
      "Epoch 62: val_accuracy did not improve from 0.91156\n",
      "756/756 [==============================] - 4s 5ms/step - loss: 0.2792 - accuracy: 0.9092 - val_loss: 0.3101 - val_accuracy: 0.9112\n",
      "Epoch 63/500\n",
      "751/756 [============================>.] - ETA: 0s - loss: 0.2785 - accuracy: 0.9094\n",
      "Epoch 63: val_accuracy did not improve from 0.91156\n",
      "756/756 [==============================] - 4s 5ms/step - loss: 0.2788 - accuracy: 0.9093 - val_loss: 0.2764 - val_accuracy: 0.9114\n",
      "Epoch 64/500\n",
      "751/756 [============================>.] - ETA: 0s - loss: 0.2803 - accuracy: 0.9095\n",
      "Epoch 64: val_accuracy did not improve from 0.91156\n",
      "756/756 [==============================] - 4s 5ms/step - loss: 0.2805 - accuracy: 0.9094 - val_loss: 0.2861 - val_accuracy: 0.9113\n",
      "Epoch 65/500\n",
      "752/756 [============================>.] - ETA: 0s - loss: 0.2805 - accuracy: 0.9094\n",
      "Epoch 65: val_accuracy did not improve from 0.91156\n",
      "756/756 [==============================] - 4s 5ms/step - loss: 0.2805 - accuracy: 0.9095 - val_loss: 0.3164 - val_accuracy: 0.9113\n",
      "Epoch 66/500\n",
      "751/756 [============================>.] - ETA: 0s - loss: 0.2819 - accuracy: 0.9095\n",
      "Epoch 66: val_accuracy did not improve from 0.91156\n",
      "756/756 [==============================] - 4s 5ms/step - loss: 0.2819 - accuracy: 0.9095 - val_loss: 0.3332 - val_accuracy: 0.9112\n",
      "Epoch 67/500\n",
      "755/756 [============================>.] - ETA: 0s - loss: 0.2810 - accuracy: 0.9095\n",
      "Epoch 67: val_accuracy did not improve from 0.91156\n",
      "756/756 [==============================] - 4s 6ms/step - loss: 0.2810 - accuracy: 0.9095 - val_loss: 0.2900 - val_accuracy: 0.9113\n",
      "Epoch 68/500\n",
      "751/756 [============================>.] - ETA: 0s - loss: 0.2829 - accuracy: 0.9094\n",
      "Epoch 68: val_accuracy did not improve from 0.91156\n",
      "756/756 [==============================] - 4s 5ms/step - loss: 0.2831 - accuracy: 0.9094 - val_loss: 0.3210 - val_accuracy: 0.9111\n",
      "Epoch 69/500\n",
      "755/756 [============================>.] - ETA: 0s - loss: 0.2850 - accuracy: 0.9094\n",
      "Epoch 69: val_accuracy did not improve from 0.91156\n",
      "756/756 [==============================] - 4s 5ms/step - loss: 0.2849 - accuracy: 0.9094 - val_loss: 0.2998 - val_accuracy: 0.9112\n",
      "Epoch 70/500\n",
      "750/756 [============================>.] - ETA: 0s - loss: 0.2830 - accuracy: 0.9094\n",
      "Epoch 70: val_accuracy did not improve from 0.91156\n",
      "756/756 [==============================] - 4s 5ms/step - loss: 0.2830 - accuracy: 0.9093 - val_loss: 0.2765 - val_accuracy: 0.9105\n",
      "Epoch 71/500\n",
      "753/756 [============================>.] - ETA: 0s - loss: 0.2807 - accuracy: 0.9093\n",
      "Epoch 71: val_accuracy did not improve from 0.91156\n",
      "756/756 [==============================] - 4s 5ms/step - loss: 0.2806 - accuracy: 0.9094 - val_loss: 0.2763 - val_accuracy: 0.9112\n",
      "Epoch 72/500\n",
      "755/756 [============================>.] - ETA: 0s - loss: 0.2788 - accuracy: 0.9094\n",
      "Epoch 72: val_accuracy did not improve from 0.91156\n",
      "756/756 [==============================] - 4s 5ms/step - loss: 0.2789 - accuracy: 0.9094 - val_loss: 0.2709 - val_accuracy: 0.9114\n",
      "Epoch 73/500\n",
      "750/756 [============================>.] - ETA: 0s - loss: 0.2787 - accuracy: 0.9094\n",
      "Epoch 73: val_accuracy did not improve from 0.91156\n",
      "756/756 [==============================] - 4s 5ms/step - loss: 0.2790 - accuracy: 0.9093 - val_loss: 0.3004 - val_accuracy: 0.9110\n",
      "Epoch 74/500\n",
      "752/756 [============================>.] - ETA: 0s - loss: 0.2791 - accuracy: 0.9092\n",
      "Epoch 74: val_accuracy did not improve from 0.91156\n",
      "756/756 [==============================] - 4s 5ms/step - loss: 0.2791 - accuracy: 0.9092 - val_loss: 0.2708 - val_accuracy: 0.9105\n",
      "Epoch 75/500\n",
      "750/756 [============================>.] - ETA: 0s - loss: 0.2778 - accuracy: 0.9093\n",
      "Epoch 75: val_accuracy did not improve from 0.91156\n",
      "756/756 [==============================] - 4s 6ms/step - loss: 0.2777 - accuracy: 0.9094 - val_loss: 0.2693 - val_accuracy: 0.9113\n",
      "Epoch 76/500\n",
      "747/756 [============================>.] - ETA: 0s - loss: 0.2764 - accuracy: 0.9093\n",
      "Epoch 76: val_accuracy did not improve from 0.91156\n",
      "756/756 [==============================] - 4s 5ms/step - loss: 0.2766 - accuracy: 0.9092 - val_loss: 0.2768 - val_accuracy: 0.9114\n",
      "Epoch 77/500\n",
      "747/756 [============================>.] - ETA: 0s - loss: 0.2774 - accuracy: 0.9092\n",
      "Epoch 77: val_accuracy did not improve from 0.91156\n",
      "756/756 [==============================] - 4s 5ms/step - loss: 0.2774 - accuracy: 0.9093 - val_loss: 0.2829 - val_accuracy: 0.9107\n",
      "Epoch 78/500\n",
      "752/756 [============================>.] - ETA: 0s - loss: 0.2759 - accuracy: 0.9095\n",
      "Epoch 78: val_accuracy did not improve from 0.91156\n",
      "756/756 [==============================] - 4s 5ms/step - loss: 0.2761 - accuracy: 0.9094 - val_loss: 0.2915 - val_accuracy: 0.9106\n",
      "Epoch 79/500\n",
      "751/756 [============================>.] - ETA: 0s - loss: 0.2771 - accuracy: 0.9093\n",
      "Epoch 79: val_accuracy did not improve from 0.91156\n",
      "756/756 [==============================] - 4s 5ms/step - loss: 0.2769 - accuracy: 0.9094 - val_loss: 0.2766 - val_accuracy: 0.9108\n",
      "Epoch 80/500\n",
      "755/756 [============================>.] - ETA: 0s - loss: 0.2745 - accuracy: 0.9092\n",
      "Epoch 80: val_accuracy did not improve from 0.91156\n",
      "756/756 [==============================] - 4s 5ms/step - loss: 0.2745 - accuracy: 0.9092 - val_loss: 0.2755 - val_accuracy: 0.9104\n",
      "Epoch 81/500\n",
      "756/756 [==============================] - ETA: 0s - loss: 0.2746 - accuracy: 0.9095\n",
      "Epoch 81: val_accuracy did not improve from 0.91156\n",
      "756/756 [==============================] - 4s 5ms/step - loss: 0.2746 - accuracy: 0.9095 - val_loss: 0.2834 - val_accuracy: 0.9107\n",
      "Epoch 82/500\n",
      "753/756 [============================>.] - ETA: 0s - loss: 0.2755 - accuracy: 0.9095\n",
      "Epoch 82: val_accuracy did not improve from 0.91156\n",
      "756/756 [==============================] - 4s 5ms/step - loss: 0.2757 - accuracy: 0.9095 - val_loss: 0.2791 - val_accuracy: 0.9109\n",
      "Epoch 83/500\n",
      "756/756 [==============================] - ETA: 0s - loss: 0.2751 - accuracy: 0.9093\n",
      "Epoch 83: val_accuracy did not improve from 0.91156\n",
      "756/756 [==============================] - 4s 6ms/step - loss: 0.2751 - accuracy: 0.9093 - val_loss: 0.2738 - val_accuracy: 0.9114\n",
      "Epoch 84/500\n",
      "747/756 [============================>.] - ETA: 0s - loss: 0.2739 - accuracy: 0.9094\n",
      "Epoch 84: val_accuracy did not improve from 0.91156\n",
      "756/756 [==============================] - 4s 5ms/step - loss: 0.2738 - accuracy: 0.9094 - val_loss: 0.2778 - val_accuracy: 0.9110\n",
      "Epoch 85/500\n",
      "750/756 [============================>.] - ETA: 0s - loss: 0.2737 - accuracy: 0.9096\n",
      "Epoch 85: val_accuracy did not improve from 0.91156\n",
      "756/756 [==============================] - 4s 5ms/step - loss: 0.2740 - accuracy: 0.9095 - val_loss: 0.2744 - val_accuracy: 0.9112\n",
      "Epoch 86/500\n",
      "750/756 [============================>.] - ETA: 0s - loss: 0.2749 - accuracy: 0.9092\n",
      "Epoch 86: val_accuracy did not improve from 0.91156\n",
      "756/756 [==============================] - 4s 5ms/step - loss: 0.2747 - accuracy: 0.9093 - val_loss: 0.2786 - val_accuracy: 0.9114\n",
      "Epoch 87/500\n",
      "747/756 [============================>.] - ETA: 0s - loss: 0.2780 - accuracy: 0.9094\n",
      "Epoch 87: val_accuracy did not improve from 0.91156\n",
      "756/756 [==============================] - 4s 5ms/step - loss: 0.2780 - accuracy: 0.9094 - val_loss: 0.2956 - val_accuracy: 0.9113\n",
      "Epoch 88/500\n",
      "755/756 [============================>.] - ETA: 0s - loss: 0.2762 - accuracy: 0.9095\n",
      "Epoch 88: val_accuracy improved from 0.91156 to 0.91162, saving model to best_model.h5\n",
      "756/756 [==============================] - 4s 5ms/step - loss: 0.2762 - accuracy: 0.9095 - val_loss: 0.2775 - val_accuracy: 0.9116\n",
      "Epoch 89/500\n",
      "746/756 [============================>.] - ETA: 0s - loss: 0.2738 - accuracy: 0.9094\n",
      "Epoch 89: val_accuracy did not improve from 0.91162\n",
      "756/756 [==============================] - 4s 5ms/step - loss: 0.2738 - accuracy: 0.9094 - val_loss: 0.2795 - val_accuracy: 0.9102\n",
      "Epoch 90/500\n",
      "749/756 [============================>.] - ETA: 0s - loss: 0.2744 - accuracy: 0.9093\n",
      "Epoch 90: val_accuracy did not improve from 0.91162\n",
      "756/756 [==============================] - 4s 5ms/step - loss: 0.2744 - accuracy: 0.9093 - val_loss: 0.2694 - val_accuracy: 0.9111\n",
      "Epoch 91/500\n",
      "755/756 [============================>.] - ETA: 0s - loss: 0.2747 - accuracy: 0.9092\n",
      "Epoch 91: val_accuracy did not improve from 0.91162\n",
      "756/756 [==============================] - 4s 6ms/step - loss: 0.2746 - accuracy: 0.9092 - val_loss: 0.2708 - val_accuracy: 0.9114\n",
      "Epoch 92/500\n",
      "750/756 [============================>.] - ETA: 0s - loss: 0.2747 - accuracy: 0.9094\n",
      "Epoch 92: val_accuracy did not improve from 0.91162\n",
      "756/756 [==============================] - 4s 5ms/step - loss: 0.2748 - accuracy: 0.9093 - val_loss: 0.2778 - val_accuracy: 0.9115\n",
      "Epoch 93/500\n",
      "755/756 [============================>.] - ETA: 0s - loss: 0.2727 - accuracy: 0.9094\n",
      "Epoch 93: val_accuracy improved from 0.91162 to 0.91174, saving model to best_model.h5\n",
      "756/756 [==============================] - 4s 5ms/step - loss: 0.2728 - accuracy: 0.9094 - val_loss: 0.2838 - val_accuracy: 0.9117\n",
      "Epoch 94/500\n",
      "756/756 [==============================] - ETA: 0s - loss: 0.2743 - accuracy: 0.9094\n",
      "Epoch 94: val_accuracy did not improve from 0.91174\n",
      "756/756 [==============================] - 4s 5ms/step - loss: 0.2743 - accuracy: 0.9094 - val_loss: 0.2809 - val_accuracy: 0.9114\n",
      "Epoch 95/500\n",
      "745/756 [============================>.] - ETA: 0s - loss: 0.2748 - accuracy: 0.9094\n",
      "Epoch 95: val_accuracy did not improve from 0.91174\n",
      "756/756 [==============================] - 4s 5ms/step - loss: 0.2745 - accuracy: 0.9095 - val_loss: 0.2825 - val_accuracy: 0.9111\n",
      "Epoch 96/500\n",
      "756/756 [==============================] - ETA: 0s - loss: 0.2734 - accuracy: 0.9094\n",
      "Epoch 96: val_accuracy did not improve from 0.91174\n",
      "756/756 [==============================] - 4s 5ms/step - loss: 0.2734 - accuracy: 0.9094 - val_loss: 0.2749 - val_accuracy: 0.9114\n",
      "Epoch 97/500\n",
      "749/756 [============================>.] - ETA: 0s - loss: 0.2732 - accuracy: 0.9093\n",
      "Epoch 97: val_accuracy did not improve from 0.91174\n",
      "756/756 [==============================] - 4s 5ms/step - loss: 0.2731 - accuracy: 0.9093 - val_loss: 0.2747 - val_accuracy: 0.9114\n",
      "Epoch 98/500\n",
      "753/756 [============================>.] - ETA: 0s - loss: 0.2727 - accuracy: 0.9092\n",
      "Epoch 98: val_accuracy did not improve from 0.91174\n",
      "756/756 [==============================] - 4s 6ms/step - loss: 0.2726 - accuracy: 0.9093 - val_loss: 0.2794 - val_accuracy: 0.9117\n",
      "Epoch 99/500\n",
      "755/756 [============================>.] - ETA: 0s - loss: 0.2725 - accuracy: 0.9095\n",
      "Epoch 99: val_accuracy did not improve from 0.91174\n",
      "756/756 [==============================] - 4s 6ms/step - loss: 0.2724 - accuracy: 0.9095 - val_loss: 0.2829 - val_accuracy: 0.9112\n",
      "Epoch 100/500\n",
      "756/756 [==============================] - ETA: 0s - loss: 0.2715 - accuracy: 0.9094\n",
      "Epoch 100: val_accuracy did not improve from 0.91174\n",
      "756/756 [==============================] - 4s 5ms/step - loss: 0.2715 - accuracy: 0.9094 - val_loss: 0.2737 - val_accuracy: 0.9114\n",
      "Epoch 101/500\n",
      "756/756 [==============================] - ETA: 0s - loss: 0.2723 - accuracy: 0.9093\n",
      "Epoch 101: val_accuracy did not improve from 0.91174\n",
      "756/756 [==============================] - 4s 5ms/step - loss: 0.2723 - accuracy: 0.9093 - val_loss: 0.2815 - val_accuracy: 0.9114\n",
      "Epoch 102/500\n",
      "752/756 [============================>.] - ETA: 0s - loss: 0.2733 - accuracy: 0.9092\n",
      "Epoch 102: val_accuracy did not improve from 0.91174\n",
      "756/756 [==============================] - 4s 5ms/step - loss: 0.2732 - accuracy: 0.9092 - val_loss: 0.2820 - val_accuracy: 0.9114\n",
      "Epoch 103/500\n",
      "749/756 [============================>.] - ETA: 0s - loss: 0.2743 - accuracy: 0.9094\n",
      "Epoch 103: val_accuracy did not improve from 0.91174\n",
      "756/756 [==============================] - 4s 5ms/step - loss: 0.2746 - accuracy: 0.9093 - val_loss: 0.2883 - val_accuracy: 0.9113\n",
      "Epoch 104/500\n",
      "755/756 [============================>.] - ETA: 0s - loss: 0.2730 - accuracy: 0.9091\n",
      "Epoch 104: val_accuracy did not improve from 0.91174\n",
      "756/756 [==============================] - 4s 5ms/step - loss: 0.2731 - accuracy: 0.9091 - val_loss: 0.2755 - val_accuracy: 0.9111\n",
      "Epoch 105/500\n",
      "751/756 [============================>.] - ETA: 0s - loss: 0.2730 - accuracy: 0.9094\n",
      "Epoch 105: val_accuracy did not improve from 0.91174\n",
      "756/756 [==============================] - 4s 5ms/step - loss: 0.2729 - accuracy: 0.9093 - val_loss: 0.2751 - val_accuracy: 0.9114\n",
      "Epoch 106/500\n",
      "756/756 [==============================] - ETA: 0s - loss: 0.2727 - accuracy: 0.9093\n",
      "Epoch 106: val_accuracy did not improve from 0.91174\n",
      "756/756 [==============================] - 5s 6ms/step - loss: 0.2727 - accuracy: 0.9093 - val_loss: 0.2699 - val_accuracy: 0.9114\n",
      "Epoch 107/500\n",
      "750/756 [============================>.] - ETA: 0s - loss: 0.2733 - accuracy: 0.9095\n",
      "Epoch 107: val_accuracy did not improve from 0.91174\n",
      "756/756 [==============================] - 4s 5ms/step - loss: 0.2733 - accuracy: 0.9095 - val_loss: 0.2743 - val_accuracy: 0.9114\n",
      "Epoch 108/500\n",
      "753/756 [============================>.] - ETA: 0s - loss: 0.2731 - accuracy: 0.9092\n",
      "Epoch 108: val_accuracy did not improve from 0.91174\n",
      "756/756 [==============================] - 4s 5ms/step - loss: 0.2731 - accuracy: 0.9092 - val_loss: 0.2729 - val_accuracy: 0.9112\n",
      "Epoch 109/500\n",
      "746/756 [============================>.] - ETA: 0s - loss: 0.2740 - accuracy: 0.9093\n",
      "Epoch 109: val_accuracy did not improve from 0.91174\n",
      "756/756 [==============================] - 4s 5ms/step - loss: 0.2737 - accuracy: 0.9095 - val_loss: 0.2855 - val_accuracy: 0.9113\n",
      "Epoch 110/500\n",
      "747/756 [============================>.] - ETA: 0s - loss: 0.2724 - accuracy: 0.9093\n",
      "Epoch 110: val_accuracy did not improve from 0.91174\n",
      "756/756 [==============================] - 4s 5ms/step - loss: 0.2721 - accuracy: 0.9094 - val_loss: 0.2826 - val_accuracy: 0.9112\n",
      "Epoch 111/500\n",
      "751/756 [============================>.] - ETA: 0s - loss: 0.2729 - accuracy: 0.9095\n",
      "Epoch 111: val_accuracy did not improve from 0.91174\n",
      "756/756 [==============================] - 4s 5ms/step - loss: 0.2730 - accuracy: 0.9093 - val_loss: 0.2668 - val_accuracy: 0.9113\n",
      "Epoch 112/500\n",
      "745/756 [============================>.] - ETA: 0s - loss: 0.2716 - accuracy: 0.9099\n",
      "Epoch 112: val_accuracy did not improve from 0.91174\n",
      "756/756 [==============================] - 4s 5ms/step - loss: 0.2720 - accuracy: 0.9096 - val_loss: 0.2764 - val_accuracy: 0.9109\n",
      "Epoch 113/500\n",
      "747/756 [============================>.] - ETA: 0s - loss: 0.2709 - accuracy: 0.9098\n",
      "Epoch 113: val_accuracy did not improve from 0.91174\n",
      "756/756 [==============================] - 4s 5ms/step - loss: 0.2709 - accuracy: 0.9097 - val_loss: 0.2739 - val_accuracy: 0.9113\n",
      "Epoch 114/500\n",
      "747/756 [============================>.] - ETA: 0s - loss: 0.2717 - accuracy: 0.9095\n",
      "Epoch 114: val_accuracy did not improve from 0.91174\n",
      "756/756 [==============================] - 4s 6ms/step - loss: 0.2712 - accuracy: 0.9097 - val_loss: 0.3049 - val_accuracy: 0.9113\n",
      "Epoch 115/500\n",
      "756/756 [==============================] - ETA: 0s - loss: 0.2719 - accuracy: 0.9095\n",
      "Epoch 115: val_accuracy did not improve from 0.91174\n",
      "756/756 [==============================] - 4s 5ms/step - loss: 0.2719 - accuracy: 0.9095 - val_loss: 0.3196 - val_accuracy: 0.9110\n",
      "Epoch 116/500\n",
      "752/756 [============================>.] - ETA: 0s - loss: 0.2717 - accuracy: 0.9093\n",
      "Epoch 116: val_accuracy did not improve from 0.91174\n",
      "756/756 [==============================] - 4s 5ms/step - loss: 0.2716 - accuracy: 0.9094 - val_loss: 0.2699 - val_accuracy: 0.9112\n",
      "Epoch 117/500\n",
      "746/756 [============================>.] - ETA: 0s - loss: 0.2709 - accuracy: 0.9092\n",
      "Epoch 117: val_accuracy did not improve from 0.91174\n",
      "756/756 [==============================] - 4s 5ms/step - loss: 0.2706 - accuracy: 0.9094 - val_loss: 0.2822 - val_accuracy: 0.9105\n",
      "Epoch 118/500\n",
      "756/756 [==============================] - ETA: 0s - loss: 0.2715 - accuracy: 0.9091\n",
      "Epoch 118: val_accuracy did not improve from 0.91174\n",
      "756/756 [==============================] - 4s 5ms/step - loss: 0.2715 - accuracy: 0.9091 - val_loss: 0.2719 - val_accuracy: 0.9107\n",
      "Epoch 119/500\n",
      "747/756 [============================>.] - ETA: 0s - loss: 0.2721 - accuracy: 0.9094\n",
      "Epoch 119: val_accuracy did not improve from 0.91174\n",
      "756/756 [==============================] - 4s 5ms/step - loss: 0.2720 - accuracy: 0.9094 - val_loss: 0.2696 - val_accuracy: 0.9104\n",
      "Epoch 120/500\n",
      "747/756 [============================>.] - ETA: 0s - loss: 0.2717 - accuracy: 0.9096\n",
      "Epoch 120: val_accuracy did not improve from 0.91174\n",
      "756/756 [==============================] - 4s 5ms/step - loss: 0.2719 - accuracy: 0.9095 - val_loss: 0.2662 - val_accuracy: 0.9108\n",
      "Epoch 121/500\n",
      "745/756 [============================>.] - ETA: 0s - loss: 0.2708 - accuracy: 0.9093\n",
      "Epoch 121: val_accuracy did not improve from 0.91174\n",
      "756/756 [==============================] - 4s 5ms/step - loss: 0.2712 - accuracy: 0.9092 - val_loss: 0.2743 - val_accuracy: 0.9109\n",
      "Epoch 122/500\n",
      "753/756 [============================>.] - ETA: 0s - loss: 0.2712 - accuracy: 0.9092\n",
      "Epoch 122: val_accuracy did not improve from 0.91174\n",
      "756/756 [==============================] - 4s 6ms/step - loss: 0.2710 - accuracy: 0.9094 - val_loss: 0.2746 - val_accuracy: 0.9114\n",
      "Epoch 123/500\n",
      "747/756 [============================>.] - ETA: 0s - loss: 0.2693 - accuracy: 0.9094\n",
      "Epoch 123: val_accuracy did not improve from 0.91174\n",
      "756/756 [==============================] - 4s 5ms/step - loss: 0.2698 - accuracy: 0.9092 - val_loss: 0.2681 - val_accuracy: 0.9114\n",
      "Epoch 124/500\n",
      "748/756 [============================>.] - ETA: 0s - loss: 0.2708 - accuracy: 0.9091\n",
      "Epoch 124: val_accuracy did not improve from 0.91174\n",
      "756/756 [==============================] - 4s 5ms/step - loss: 0.2705 - accuracy: 0.9093 - val_loss: 0.2704 - val_accuracy: 0.9111\n",
      "Epoch 125/500\n",
      "748/756 [============================>.] - ETA: 0s - loss: 0.2713 - accuracy: 0.9094\n",
      "Epoch 125: val_accuracy did not improve from 0.91174\n",
      "756/756 [==============================] - 4s 5ms/step - loss: 0.2714 - accuracy: 0.9093 - val_loss: 0.2685 - val_accuracy: 0.9108\n",
      "Epoch 126/500\n",
      "747/756 [============================>.] - ETA: 0s - loss: 0.2706 - accuracy: 0.9093\n",
      "Epoch 126: val_accuracy did not improve from 0.91174\n",
      "756/756 [==============================] - 4s 5ms/step - loss: 0.2705 - accuracy: 0.9094 - val_loss: 0.2743 - val_accuracy: 0.9107\n",
      "Epoch 127/500\n",
      "745/756 [============================>.] - ETA: 0s - loss: 0.2701 - accuracy: 0.9101\n",
      "Epoch 127: val_accuracy did not improve from 0.91174\n",
      "756/756 [==============================] - 4s 5ms/step - loss: 0.2707 - accuracy: 0.9097 - val_loss: 0.2676 - val_accuracy: 0.9111\n",
      "Epoch 128/500\n",
      "749/756 [============================>.] - ETA: 0s - loss: 0.2714 - accuracy: 0.9094\n",
      "Epoch 128: val_accuracy did not improve from 0.91174\n",
      "756/756 [==============================] - 4s 5ms/step - loss: 0.2713 - accuracy: 0.9094 - val_loss: 0.2762 - val_accuracy: 0.9107\n",
      "Epoch 129/500\n",
      "749/756 [============================>.] - ETA: 0s - loss: 0.2698 - accuracy: 0.9092\n",
      "Epoch 129: val_accuracy did not improve from 0.91174\n",
      "756/756 [==============================] - 4s 5ms/step - loss: 0.2696 - accuracy: 0.9093 - val_loss: 0.2669 - val_accuracy: 0.9114\n",
      "Epoch 130/500\n",
      "751/756 [============================>.] - ETA: 0s - loss: 0.2704 - accuracy: 0.9097\n",
      "Epoch 130: val_accuracy did not improve from 0.91174\n",
      "756/756 [==============================] - 4s 6ms/step - loss: 0.2706 - accuracy: 0.9097 - val_loss: 0.2776 - val_accuracy: 0.9109\n",
      "Epoch 131/500\n",
      "750/756 [============================>.] - ETA: 0s - loss: 0.2698 - accuracy: 0.9095\n",
      "Epoch 131: val_accuracy did not improve from 0.91174\n",
      "756/756 [==============================] - 4s 5ms/step - loss: 0.2701 - accuracy: 0.9093 - val_loss: 0.2643 - val_accuracy: 0.9116\n",
      "Epoch 132/500\n",
      "747/756 [============================>.] - ETA: 0s - loss: 0.2707 - accuracy: 0.9090\n",
      "Epoch 132: val_accuracy did not improve from 0.91174\n",
      "756/756 [==============================] - 4s 5ms/step - loss: 0.2704 - accuracy: 0.9091 - val_loss: 0.2701 - val_accuracy: 0.9112\n",
      "Epoch 133/500\n",
      "752/756 [============================>.] - ETA: 0s - loss: 0.2690 - accuracy: 0.9094\n",
      "Epoch 133: val_accuracy did not improve from 0.91174\n",
      "756/756 [==============================] - 4s 5ms/step - loss: 0.2691 - accuracy: 0.9094 - val_loss: 0.2692 - val_accuracy: 0.9114\n",
      "Epoch 134/500\n",
      "745/756 [============================>.] - ETA: 0s - loss: 0.2699 - accuracy: 0.9092\n",
      "Epoch 134: val_accuracy did not improve from 0.91174\n",
      "756/756 [==============================] - 4s 5ms/step - loss: 0.2696 - accuracy: 0.9094 - val_loss: 0.2749 - val_accuracy: 0.9114\n",
      "Epoch 135/500\n",
      "755/756 [============================>.] - ETA: 0s - loss: 0.2705 - accuracy: 0.9095\n",
      "Epoch 135: val_accuracy did not improve from 0.91174\n",
      "756/756 [==============================] - 4s 5ms/step - loss: 0.2706 - accuracy: 0.9095 - val_loss: 0.2738 - val_accuracy: 0.9109\n",
      "Epoch 136/500\n",
      "755/756 [============================>.] - ETA: 0s - loss: 0.2708 - accuracy: 0.9095\n",
      "Epoch 136: val_accuracy did not improve from 0.91174\n",
      "756/756 [==============================] - 4s 5ms/step - loss: 0.2708 - accuracy: 0.9095 - val_loss: 0.2705 - val_accuracy: 0.9110\n",
      "Epoch 137/500\n",
      "756/756 [==============================] - ETA: 0s - loss: 0.2698 - accuracy: 0.9095\n",
      "Epoch 137: val_accuracy did not improve from 0.91174\n",
      "756/756 [==============================] - 4s 5ms/step - loss: 0.2698 - accuracy: 0.9095 - val_loss: 0.3002 - val_accuracy: 0.9111\n",
      "Epoch 138/500\n",
      "756/756 [==============================] - ETA: 0s - loss: 0.2697 - accuracy: 0.9095\n",
      "Epoch 138: val_accuracy did not improve from 0.91174\n",
      "756/756 [==============================] - 5s 6ms/step - loss: 0.2697 - accuracy: 0.9095 - val_loss: 0.2725 - val_accuracy: 0.9112\n",
      "Epoch 139/500\n",
      "752/756 [============================>.] - ETA: 0s - loss: 0.2701 - accuracy: 0.9097\n",
      "Epoch 139: val_accuracy did not improve from 0.91174\n",
      "756/756 [==============================] - 4s 5ms/step - loss: 0.2704 - accuracy: 0.9096 - val_loss: 0.2742 - val_accuracy: 0.9112\n",
      "Epoch 140/500\n",
      "753/756 [============================>.] - ETA: 0s - loss: 0.2699 - accuracy: 0.9095\n",
      "Epoch 140: val_accuracy did not improve from 0.91174\n",
      "756/756 [==============================] - 4s 5ms/step - loss: 0.2700 - accuracy: 0.9095 - val_loss: 0.2737 - val_accuracy: 0.9113\n",
      "Epoch 141/500\n",
      "754/756 [============================>.] - ETA: 0s - loss: 0.2696 - accuracy: 0.9096\n",
      "Epoch 141: val_accuracy did not improve from 0.91174\n",
      "756/756 [==============================] - 4s 5ms/step - loss: 0.2695 - accuracy: 0.9096 - val_loss: 0.2833 - val_accuracy: 0.9111\n",
      "Epoch 142/500\n",
      "755/756 [============================>.] - ETA: 0s - loss: 0.2686 - accuracy: 0.9096\n",
      "Epoch 142: val_accuracy did not improve from 0.91174\n",
      "756/756 [==============================] - 4s 5ms/step - loss: 0.2686 - accuracy: 0.9096 - val_loss: 0.2799 - val_accuracy: 0.9113\n",
      "Epoch 143/500\n",
      "746/756 [============================>.] - ETA: 0s - loss: 0.2687 - accuracy: 0.9096\n",
      "Epoch 143: val_accuracy did not improve from 0.91174\n",
      "756/756 [==============================] - 4s 5ms/step - loss: 0.2689 - accuracy: 0.9095 - val_loss: 0.2722 - val_accuracy: 0.9112\n",
      "Epoch 144/500\n",
      "747/756 [============================>.] - ETA: 0s - loss: 0.2694 - accuracy: 0.9094\n",
      "Epoch 144: val_accuracy did not improve from 0.91174\n",
      "756/756 [==============================] - 4s 5ms/step - loss: 0.2692 - accuracy: 0.9096 - val_loss: 0.2707 - val_accuracy: 0.9113\n",
      "Epoch 145/500\n",
      "752/756 [============================>.] - ETA: 0s - loss: 0.2700 - accuracy: 0.9094\n",
      "Epoch 145: val_accuracy did not improve from 0.91174\n",
      "756/756 [==============================] - 4s 5ms/step - loss: 0.2698 - accuracy: 0.9095 - val_loss: 0.2736 - val_accuracy: 0.9113\n",
      "Epoch 146/500\n",
      "749/756 [============================>.] - ETA: 0s - loss: 0.2688 - accuracy: 0.9097\n",
      "Epoch 146: val_accuracy did not improve from 0.91174\n",
      "756/756 [==============================] - 4s 6ms/step - loss: 0.2692 - accuracy: 0.9095 - val_loss: 0.2735 - val_accuracy: 0.9114\n",
      "Epoch 147/500\n",
      "752/756 [============================>.] - ETA: 0s - loss: 0.2671 - accuracy: 0.9094\n",
      "Epoch 147: val_accuracy did not improve from 0.91174\n",
      "756/756 [==============================] - 4s 5ms/step - loss: 0.2672 - accuracy: 0.9094 - val_loss: 0.2704 - val_accuracy: 0.9114\n",
      "Epoch 148/500\n",
      "754/756 [============================>.] - ETA: 0s - loss: 0.2695 - accuracy: 0.9094\n",
      "Epoch 148: val_accuracy did not improve from 0.91174\n",
      "756/756 [==============================] - 4s 5ms/step - loss: 0.2695 - accuracy: 0.9094 - val_loss: 0.2737 - val_accuracy: 0.9114\n",
      "Epoch 149/500\n",
      "745/756 [============================>.] - ETA: 0s - loss: 0.2701 - accuracy: 0.9092\n",
      "Epoch 149: val_accuracy did not improve from 0.91174\n",
      "756/756 [==============================] - 4s 5ms/step - loss: 0.2698 - accuracy: 0.9093 - val_loss: 0.2839 - val_accuracy: 0.9101\n",
      "Epoch 150/500\n",
      "755/756 [============================>.] - ETA: 0s - loss: 0.2690 - accuracy: 0.9091\n",
      "Epoch 150: val_accuracy did not improve from 0.91174\n",
      "756/756 [==============================] - 4s 5ms/step - loss: 0.2691 - accuracy: 0.9092 - val_loss: 0.3042 - val_accuracy: 0.9109\n",
      "Epoch 151/500\n",
      "747/756 [============================>.] - ETA: 0s - loss: 0.2681 - accuracy: 0.9093\n",
      "Epoch 151: val_accuracy did not improve from 0.91174\n",
      "756/756 [==============================] - 4s 5ms/step - loss: 0.2683 - accuracy: 0.9093 - val_loss: 0.2719 - val_accuracy: 0.9109\n",
      "Epoch 152/500\n",
      "745/756 [============================>.] - ETA: 0s - loss: 0.2702 - accuracy: 0.9095\n",
      "Epoch 152: val_accuracy did not improve from 0.91174\n",
      "756/756 [==============================] - 4s 5ms/step - loss: 0.2701 - accuracy: 0.9095 - val_loss: 0.2863 - val_accuracy: 0.9109\n",
      "Epoch 153/500\n",
      "748/756 [============================>.] - ETA: 0s - loss: 0.2700 - accuracy: 0.9094\n",
      "Epoch 153: val_accuracy did not improve from 0.91174\n",
      "756/756 [==============================] - 4s 5ms/step - loss: 0.2701 - accuracy: 0.9093 - val_loss: 0.2826 - val_accuracy: 0.9110\n",
      "Epoch 154/500\n",
      "750/756 [============================>.] - ETA: 0s - loss: 0.2684 - accuracy: 0.9094\n",
      "Epoch 154: val_accuracy did not improve from 0.91174\n",
      "756/756 [==============================] - 4s 6ms/step - loss: 0.2684 - accuracy: 0.9094 - val_loss: 0.2859 - val_accuracy: 0.9112\n",
      "Epoch 155/500\n",
      "750/756 [============================>.] - ETA: 0s - loss: 0.2684 - accuracy: 0.9095\n",
      "Epoch 155: val_accuracy did not improve from 0.91174\n",
      "756/756 [==============================] - 4s 5ms/step - loss: 0.2686 - accuracy: 0.9094 - val_loss: 0.2717 - val_accuracy: 0.9112\n",
      "Epoch 156/500\n",
      "754/756 [============================>.] - ETA: 0s - loss: 0.2673 - accuracy: 0.9092\n",
      "Epoch 156: val_accuracy did not improve from 0.91174\n",
      "756/756 [==============================] - 4s 5ms/step - loss: 0.2672 - accuracy: 0.9093 - val_loss: 0.2746 - val_accuracy: 0.9111\n",
      "Epoch 157/500\n",
      "745/756 [============================>.] - ETA: 0s - loss: 0.2686 - accuracy: 0.9092\n",
      "Epoch 157: val_accuracy did not improve from 0.91174\n",
      "756/756 [==============================] - 4s 5ms/step - loss: 0.2682 - accuracy: 0.9094 - val_loss: 0.2868 - val_accuracy: 0.9111\n",
      "Epoch 158/500\n",
      "746/756 [============================>.] - ETA: 0s - loss: 0.2680 - accuracy: 0.9095\n",
      "Epoch 158: val_accuracy did not improve from 0.91174\n",
      "756/756 [==============================] - 4s 5ms/step - loss: 0.2680 - accuracy: 0.9094 - val_loss: 0.2749 - val_accuracy: 0.9114\n",
      "Epoch 159/500\n",
      "756/756 [==============================] - ETA: 0s - loss: 0.2675 - accuracy: 0.9098\n",
      "Epoch 159: val_accuracy did not improve from 0.91174\n",
      "756/756 [==============================] - 4s 5ms/step - loss: 0.2675 - accuracy: 0.9098 - val_loss: 0.2807 - val_accuracy: 0.9112\n",
      "Epoch 160/500\n",
      "754/756 [============================>.] - ETA: 0s - loss: 0.2695 - accuracy: 0.9095\n",
      "Epoch 160: val_accuracy did not improve from 0.91174\n",
      "756/756 [==============================] - 4s 5ms/step - loss: 0.2695 - accuracy: 0.9095 - val_loss: 0.3129 - val_accuracy: 0.9111\n",
      "Epoch 161/500\n",
      "749/756 [============================>.] - ETA: 0s - loss: 0.2694 - accuracy: 0.9091\n",
      "Epoch 161: val_accuracy did not improve from 0.91174\n",
      "756/756 [==============================] - 4s 5ms/step - loss: 0.2693 - accuracy: 0.9092 - val_loss: 0.2735 - val_accuracy: 0.9112\n",
      "Epoch 162/500\n",
      "756/756 [==============================] - ETA: 0s - loss: 0.2685 - accuracy: 0.9093\n",
      "Epoch 162: val_accuracy did not improve from 0.91174\n",
      "756/756 [==============================] - 4s 6ms/step - loss: 0.2685 - accuracy: 0.9093 - val_loss: 0.2767 - val_accuracy: 0.9109\n",
      "Epoch 163/500\n",
      "745/756 [============================>.] - ETA: 0s - loss: 0.2680 - accuracy: 0.9095\n",
      "Epoch 163: val_accuracy did not improve from 0.91174\n",
      "756/756 [==============================] - 4s 5ms/step - loss: 0.2686 - accuracy: 0.9093 - val_loss: 0.2728 - val_accuracy: 0.9114\n",
      "Epoch 164/500\n",
      "751/756 [============================>.] - ETA: 0s - loss: 0.2677 - accuracy: 0.9092\n",
      "Epoch 164: val_accuracy did not improve from 0.91174\n",
      "756/756 [==============================] - 4s 5ms/step - loss: 0.2676 - accuracy: 0.9093 - val_loss: 0.2748 - val_accuracy: 0.9116\n",
      "Epoch 165/500\n",
      "752/756 [============================>.] - ETA: 0s - loss: 0.2674 - accuracy: 0.9096\n",
      "Epoch 165: val_accuracy did not improve from 0.91174\n",
      "756/756 [==============================] - 4s 5ms/step - loss: 0.2678 - accuracy: 0.9095 - val_loss: 0.2751 - val_accuracy: 0.9114\n",
      "Epoch 166/500\n",
      "753/756 [============================>.] - ETA: 0s - loss: 0.2666 - accuracy: 0.9096\n",
      "Epoch 166: val_accuracy did not improve from 0.91174\n",
      "756/756 [==============================] - 4s 5ms/step - loss: 0.2668 - accuracy: 0.9096 - val_loss: 0.2668 - val_accuracy: 0.9117\n",
      "Epoch 167/500\n",
      "746/756 [============================>.] - ETA: 0s - loss: 0.2660 - accuracy: 0.9090\n",
      "Epoch 167: val_accuracy did not improve from 0.91174\n",
      "756/756 [==============================] - 4s 5ms/step - loss: 0.2660 - accuracy: 0.9090 - val_loss: 0.2652 - val_accuracy: 0.9114\n",
      "Epoch 168/500\n",
      "754/756 [============================>.] - ETA: 0s - loss: 0.2652 - accuracy: 0.9095\n",
      "Epoch 168: val_accuracy did not improve from 0.91174\n",
      "756/756 [==============================] - 4s 5ms/step - loss: 0.2652 - accuracy: 0.9094 - val_loss: 0.2768 - val_accuracy: 0.9116\n",
      "Epoch 169/500\n",
      "746/756 [============================>.] - ETA: 0s - loss: 0.2668 - accuracy: 0.9090\n",
      "Epoch 169: val_accuracy did not improve from 0.91174\n",
      "756/756 [==============================] - 4s 5ms/step - loss: 0.2665 - accuracy: 0.9092 - val_loss: 0.2695 - val_accuracy: 0.9114\n",
      "Epoch 170/500\n",
      "751/756 [============================>.] - ETA: 0s - loss: 0.2664 - accuracy: 0.9097\n",
      "Epoch 170: val_accuracy did not improve from 0.91174\n",
      "756/756 [==============================] - 4s 6ms/step - loss: 0.2668 - accuracy: 0.9095 - val_loss: 0.2730 - val_accuracy: 0.9114\n",
      "Epoch 171/500\n",
      "748/756 [============================>.] - ETA: 0s - loss: 0.2674 - accuracy: 0.9093\n",
      "Epoch 171: val_accuracy did not improve from 0.91174\n",
      "756/756 [==============================] - 4s 5ms/step - loss: 0.2675 - accuracy: 0.9092 - val_loss: 0.2670 - val_accuracy: 0.9117\n",
      "Epoch 172/500\n",
      "751/756 [============================>.] - ETA: 0s - loss: 0.2659 - accuracy: 0.9092\n",
      "Epoch 172: val_accuracy did not improve from 0.91174\n",
      "756/756 [==============================] - 4s 5ms/step - loss: 0.2659 - accuracy: 0.9093 - val_loss: 0.2697 - val_accuracy: 0.9114\n",
      "Epoch 173/500\n",
      "750/756 [============================>.] - ETA: 0s - loss: 0.2684 - accuracy: 0.9094\n",
      "Epoch 173: val_accuracy improved from 0.91174 to 0.91193, saving model to best_model.h5\n",
      "756/756 [==============================] - 4s 5ms/step - loss: 0.2683 - accuracy: 0.9093 - val_loss: 0.2680 - val_accuracy: 0.9119\n",
      "Epoch 174/500\n",
      "749/756 [============================>.] - ETA: 0s - loss: 0.2671 - accuracy: 0.9094\n",
      "Epoch 174: val_accuracy did not improve from 0.91193\n",
      "756/756 [==============================] - 4s 5ms/step - loss: 0.2669 - accuracy: 0.9096 - val_loss: 0.2702 - val_accuracy: 0.9114\n",
      "Epoch 175/500\n",
      "745/756 [============================>.] - ETA: 0s - loss: 0.2646 - accuracy: 0.9097\n",
      "Epoch 175: val_accuracy did not improve from 0.91193\n",
      "756/756 [==============================] - 4s 5ms/step - loss: 0.2654 - accuracy: 0.9094 - val_loss: 0.2824 - val_accuracy: 0.9111\n",
      "Epoch 176/500\n",
      "752/756 [============================>.] - ETA: 0s - loss: 0.2669 - accuracy: 0.9098\n",
      "Epoch 176: val_accuracy did not improve from 0.91193\n",
      "756/756 [==============================] - 4s 5ms/step - loss: 0.2672 - accuracy: 0.9096 - val_loss: 0.2749 - val_accuracy: 0.9109\n",
      "Epoch 177/500\n",
      "746/756 [============================>.] - ETA: 0s - loss: 0.2664 - accuracy: 0.9097\n",
      "Epoch 177: val_accuracy did not improve from 0.91193\n",
      "756/756 [==============================] - 4s 5ms/step - loss: 0.2672 - accuracy: 0.9094 - val_loss: 0.2746 - val_accuracy: 0.9113\n",
      "Epoch 178/500\n",
      "746/756 [============================>.] - ETA: 0s - loss: 0.2661 - accuracy: 0.9096\n",
      "Epoch 178: val_accuracy did not improve from 0.91193\n",
      "756/756 [==============================] - 4s 6ms/step - loss: 0.2665 - accuracy: 0.9094 - val_loss: 0.2748 - val_accuracy: 0.9111\n",
      "Epoch 179/500\n",
      "752/756 [============================>.] - ETA: 0s - loss: 0.2673 - accuracy: 0.9094\n",
      "Epoch 179: val_accuracy did not improve from 0.91193\n",
      "756/756 [==============================] - 4s 5ms/step - loss: 0.2672 - accuracy: 0.9094 - val_loss: 0.2835 - val_accuracy: 0.9112\n",
      "Epoch 180/500\n",
      "749/756 [============================>.] - ETA: 0s - loss: 0.2664 - accuracy: 0.9094\n",
      "Epoch 180: val_accuracy did not improve from 0.91193\n",
      "756/756 [==============================] - 4s 5ms/step - loss: 0.2663 - accuracy: 0.9094 - val_loss: 0.2968 - val_accuracy: 0.9112\n",
      "Epoch 181/500\n",
      "745/756 [============================>.] - ETA: 0s - loss: 0.2659 - accuracy: 0.9094\n",
      "Epoch 181: val_accuracy did not improve from 0.91193\n",
      "756/756 [==============================] - 4s 5ms/step - loss: 0.2659 - accuracy: 0.9094 - val_loss: 0.2823 - val_accuracy: 0.9111\n",
      "Epoch 181: early stopping\n"
     ]
    }
   ],
   "source": [
    "history =model.fit(X_train, \n",
    "                y_train,\n",
    "                validation_data=(X_test, y_test),\n",
    "                batch_size=64, \n",
    "                shuffle=True,\n",
    "                verbose=1,\n",
    "                epochs=500,\n",
    "                callbacks=[es, mc])"
   ]
  },
  {
   "cell_type": "code",
   "execution_count": 24,
   "id": "3f5bb723",
   "metadata": {
    "execution": {
     "iopub.execute_input": "2023-10-02T18:36:02.022663Z",
     "iopub.status.busy": "2023-10-02T18:36:02.022264Z",
     "iopub.status.idle": "2023-10-02T18:36:11.948796Z",
     "shell.execute_reply": "2023-10-02T18:36:11.947388Z",
     "shell.execute_reply.started": "2023-10-02T18:36:02.022631Z"
    }
   },
   "outputs": [
    {
     "name": "stdout",
     "output_type": "stream",
     "text": [
      "huggingface/tokenizers: The current process just got forked, after parallelism has already been used. Disabling parallelism to avoid deadlocks...\n",
      "To disable this warning, you can either:\n",
      "\t- Avoid using `tokenizers` before the fork if possible\n",
      "\t- Explicitly set the environment variable TOKENIZERS_PARALLELISM=(true | false)\n",
      "Requirement already satisfied: h5py in /opt/conda/lib/python3.10/site-packages (3.9.0)\n",
      "Requirement already satisfied: numpy>=1.17.3 in /opt/conda/lib/python3.10/site-packages (from h5py) (1.23.5)\n"
     ]
    }
   ],
   "source": [
    "! pip install h5py"
   ]
  },
  {
   "cell_type": "code",
   "execution_count": 34,
   "id": "d65f47a4",
   "metadata": {
    "execution": {
     "iopub.execute_input": "2023-10-02T19:14:52.810816Z",
     "iopub.status.busy": "2023-10-02T19:14:52.810385Z",
     "iopub.status.idle": "2023-10-02T19:14:52.991536Z",
     "shell.execute_reply": "2023-10-02T19:14:52.990559Z",
     "shell.execute_reply.started": "2023-10-02T19:14:52.810785Z"
    }
   },
   "outputs": [],
   "source": [
    "saved_model = load_model('best_model.h5')"
   ]
  },
  {
   "cell_type": "code",
   "execution_count": 35,
   "id": "dca64b33",
   "metadata": {
    "execution": {
     "iopub.execute_input": "2023-10-02T19:15:01.040577Z",
     "iopub.status.busy": "2023-10-02T19:15:01.040218Z",
     "iopub.status.idle": "2023-10-02T19:15:01.047229Z",
     "shell.execute_reply": "2023-10-02T19:15:01.046070Z",
     "shell.execute_reply.started": "2023-10-02T19:15:01.040547Z"
    }
   },
   "outputs": [
    {
     "data": {
      "text/plain": [
       "<keras.engine.sequential.Sequential at 0x7fd47cdd9f60>"
      ]
     },
     "execution_count": 35,
     "metadata": {},
     "output_type": "execute_result"
    }
   ],
   "source": [
    "saved_model"
   ]
  },
  {
   "cell_type": "code",
   "execution_count": 42,
   "id": "0e9a29e0",
   "metadata": {
    "execution": {
     "iopub.execute_input": "2023-10-02T19:23:43.999921Z",
     "iopub.status.busy": "2023-10-02T19:23:43.999553Z",
     "iopub.status.idle": "2023-10-02T19:23:44.325639Z",
     "shell.execute_reply": "2023-10-02T19:23:44.324766Z",
     "shell.execute_reply.started": "2023-10-02T19:23:43.999890Z"
    }
   },
   "outputs": [
    {
     "data": {
      "text/plain": [
       "<matplotlib.legend.Legend at 0x7fd47d72bca0>"
      ]
     },
     "execution_count": 42,
     "metadata": {},
     "output_type": "execute_result"
    },
    {
     "data": {
      "image/png": "[encoded data removed]",
      "text/plain": [
       "<Figure size 1000x300 with 1 Axes>"
      ]
     },
     "metadata": {},
     "output_type": "display_data"
    }
   ],
   "source": [
    "plt.figure(figsize=(10,3))\n",
    "plt.plot(history.history['accuracy'])\n",
    "plt.plot(history.history['val_accuracy'])\n",
    "plt.title('Model accuracy')\n",
    "plt.ylabel('Accuracy')\n",
    "plt.xlabel('Epoch')\n",
    "plt.legend(['Train', 'Validation'], loc='upper left')"
   ]
  },
  {
   "cell_type": "code",
   "execution_count": 44,
   "id": "ecbd9aa4",
   "metadata": {
    "execution": {
     "iopub.execute_input": "2023-10-02T19:24:42.578548Z",
     "iopub.status.busy": "2023-10-02T19:24:42.578146Z",
     "iopub.status.idle": "2023-10-02T19:24:42.844516Z",
     "shell.execute_reply": "2023-10-02T19:24:42.843617Z",
     "shell.execute_reply.started": "2023-10-02T19:24:42.578519Z"
    }
   },
   "outputs": [
    {
     "data": {
      "image/png": "[encoded data removed]",
      "text/plain": [
       "<Figure size 1000x300 with 1 Axes>"
      ]
     },
     "metadata": {},
     "output_type": "display_data"
    }
   ],
   "source": [
    "plt.figure(figsize=(10,3))\n",
    "plt.plot(history.history['loss'])\n",
    "plt.plot(history.history['val_loss'])\n",
    "plt.title('Model loss')\n",
    "plt.ylabel('Loss')\n",
    "plt.xlabel('Epoch')\n",
    "plt.legend(['Train', 'Test'], loc='upper left')\n",
    "plt.show()"
   ]
  }
 ],
 "metadata": {
  "kernelspec": {
   "display_name": "Python 3 (ipykernel)",
   "language": "python",
   "name": "python3"
  },
  "language_info": {
   "codemirror_mode": {
    "name": "ipython",
    "version": 3
   },
   "file_extension": ".py",
   "mimetype": "text/x-python",
   "name": "python",
   "nbconvert_exporter": "python",
   "pygments_lexer": "ipython3",
   "version": "3.11.3"
  }
 },
 "nbformat": 4,
 "nbformat_minor": 5
}
