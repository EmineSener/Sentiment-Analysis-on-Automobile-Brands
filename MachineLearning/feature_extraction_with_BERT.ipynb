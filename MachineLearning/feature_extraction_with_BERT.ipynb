{
 "cells": [
  {
   "cell_type": "code",
   "execution_count": 3,
   "id": "0e752124",
   "metadata": {
    "editable": false,
    "execution": {
     "iopub.execute_input": "2023-09-30T09:43:39.943356Z",
     "iopub.status.busy": "2023-09-30T09:43:39.942892Z",
     "iopub.status.idle": "2023-09-30T09:43:44.947930Z",
     "shell.execute_reply": "2023-09-30T09:43:44.947041Z",
     "shell.execute_reply.started": "2023-09-30T09:43:39.943318Z"
    }
   },
   "outputs": [
    {
     "name": "stderr",
     "output_type": "stream",
     "text": [
      "/opt/conda/lib/python3.10/site-packages/scipy/__init__.py:146: UserWarning: A NumPy version >=1.16.5 and <1.23.0 is required for this version of SciPy (detected version 1.23.5\n",
      "  warnings.warn(f\"A NumPy version >={np_minversion} and <{np_maxversion}\"\n"
     ]
    }
   ],
   "source": [
    "from sklearn.model_selection import train_test_split\n",
    "from transformers import AutoModel, AutoTokenizer \n",
    "import pandas as pd\n",
    "import numpy as np\n",
    "from tqdm import tqdm\n",
    "import torch"
   ]
  },
  {
   "cell_type": "code",
   "execution_count": 4,
   "id": "f784427d",
   "metadata": {
    "editable": false,
    "execution": {
     "iopub.execute_input": "2023-09-30T09:43:50.455938Z",
     "iopub.status.busy": "2023-09-30T09:43:50.455470Z",
     "iopub.status.idle": "2023-09-30T09:43:50.779408Z",
     "shell.execute_reply": "2023-09-30T09:43:50.778429Z",
     "shell.execute_reply.started": "2023-09-30T09:43:50.455910Z"
    }
   },
   "outputs": [],
   "source": [
    "df = pd.read_csv(\"/kaggle/input/last-dataset/last_dataset.csv\")"
   ]
  },
  {
   "cell_type": "code",
   "execution_count": 5,
   "id": "6df67a5d",
   "metadata": {
    "editable": false,
    "execution": {
     "iopub.execute_input": "2023-09-30T09:43:52.537910Z",
     "iopub.status.busy": "2023-09-30T09:43:52.536799Z",
     "iopub.status.idle": "2023-09-30T09:43:52.555509Z",
     "shell.execute_reply": "2023-09-30T09:43:52.554267Z",
     "shell.execute_reply.started": "2023-09-30T09:43:52.537871Z"
    }
   },
   "outputs": [
    {
     "data": {
      "text/html": [
       "<div>\n",
       "<style scoped>\n",
       "    .dataframe tbody tr th:only-of-type {\n",
       "        vertical-align: middle;\n",
       "    }\n",
       "\n",
       "    .dataframe tbody tr th {\n",
       "        vertical-align: top;\n",
       "    }\n",
       "\n",
       "    .dataframe thead th {\n",
       "        text-align: right;\n",
       "    }\n",
       "</style>\n",
       "<table border=\"1\" class=\"dataframe\">\n",
       "  <thead>\n",
       "    <tr style=\"text-align: right;\">\n",
       "      <th></th>\n",
       "      <th>Unnamed: 0</th>\n",
       "      <th>review</th>\n",
       "      <th>sentiment</th>\n",
       "    </tr>\n",
       "  </thead>\n",
       "  <tbody>\n",
       "    <tr>\n",
       "      <th>0</th>\n",
       "      <td>0</td>\n",
       "      <td>bayiler satar artık e burası türkiye</td>\n",
       "      <td>positive</td>\n",
       "    </tr>\n",
       "    <tr>\n",
       "      <th>1</th>\n",
       "      <td>1</td>\n",
       "      <td>fiyatlara bin ekleyin bayide bulamayacaksınız ...</td>\n",
       "      <td>positive</td>\n",
       "    </tr>\n",
       "    <tr>\n",
       "      <th>2</th>\n",
       "      <td>2</td>\n",
       "      <td>motor kasaya yakışmış</td>\n",
       "      <td>positive</td>\n",
       "    </tr>\n",
       "    <tr>\n",
       "      <th>3</th>\n",
       "      <td>3</td>\n",
       "      <td>tl eksik aracı almam neyse sene bekleyem alırım</td>\n",
       "      <td>positive</td>\n",
       "    </tr>\n",
       "    <tr>\n",
       "      <th>4</th>\n",
       "      <td>4</td>\n",
       "      <td>eskiden milyoner olmak vardı derlerdi nerden g...</td>\n",
       "      <td>positive</td>\n",
       "    </tr>\n",
       "  </tbody>\n",
       "</table>\n",
       "</div>"
      ],
      "text/plain": [
       "   Unnamed: 0                                             review sentiment\n",
       "0           0               bayiler satar artık e burası türkiye  positive\n",
       "1           1  fiyatlara bin ekleyin bayide bulamayacaksınız ...  positive\n",
       "2           2                              motor kasaya yakışmış  positive\n",
       "3           3    tl eksik aracı almam neyse sene bekleyem alırım  positive\n",
       "4           4  eskiden milyoner olmak vardı derlerdi nerden g...  positive"
      ]
     },
     "execution_count": 5,
     "metadata": {},
     "output_type": "execute_result"
    }
   ],
   "source": [
    "df.head()"
   ]
  },
  {
   "cell_type": "code",
   "execution_count": 6,
   "id": "37ea84d9",
   "metadata": {
    "editable": false,
    "execution": {
     "iopub.execute_input": "2023-09-30T09:43:53.673387Z",
     "iopub.status.busy": "2023-09-30T09:43:53.672871Z",
     "iopub.status.idle": "2023-09-30T09:43:53.700039Z",
     "shell.execute_reply": "2023-09-30T09:43:53.699063Z",
     "shell.execute_reply.started": "2023-09-30T09:43:53.673349Z"
    }
   },
   "outputs": [],
   "source": [
    "X_train, X_test = train_test_split(df, test_size=0.25,random_state=42)"
   ]
  },
  {
   "cell_type": "code",
   "execution_count": 7,
   "id": "5823f9ed",
   "metadata": {
    "editable": false,
    "execution": {
     "iopub.execute_input": "2023-09-30T09:43:55.736765Z",
     "iopub.status.busy": "2023-09-30T09:43:55.736444Z",
     "iopub.status.idle": "2023-09-30T09:43:55.750071Z",
     "shell.execute_reply": "2023-09-30T09:43:55.749051Z",
     "shell.execute_reply.started": "2023-09-30T09:43:55.736739Z"
    }
   },
   "outputs": [
    {
     "data": {
      "text/html": [
       "<div>\n",
       "<style scoped>\n",
       "    .dataframe tbody tr th:only-of-type {\n",
       "        vertical-align: middle;\n",
       "    }\n",
       "\n",
       "    .dataframe tbody tr th {\n",
       "        vertical-align: top;\n",
       "    }\n",
       "\n",
       "    .dataframe thead th {\n",
       "        text-align: right;\n",
       "    }\n",
       "</style>\n",
       "<table border=\"1\" class=\"dataframe\">\n",
       "  <thead>\n",
       "    <tr style=\"text-align: right;\">\n",
       "      <th></th>\n",
       "      <th>Unnamed: 0</th>\n",
       "      <th>review</th>\n",
       "      <th>sentiment</th>\n",
       "    </tr>\n",
       "  </thead>\n",
       "  <tbody>\n",
       "    <tr>\n",
       "      <th>36262</th>\n",
       "      <td>36262</td>\n",
       "      <td>yardımlarınız gerçekten teşekkür ederim halen ...</td>\n",
       "      <td>positive</td>\n",
       "    </tr>\n",
       "    <tr>\n",
       "      <th>36783</th>\n",
       "      <td>36783</td>\n",
       "      <td>kardeş ben yıldır dizel logan kullanıyorum zat...</td>\n",
       "      <td>positive</td>\n",
       "    </tr>\n",
       "    <tr>\n",
       "      <th>32633</th>\n",
       "      <td>32633</td>\n",
       "      <td>ben bir göz gezdirdim bin liraya çıkan modelle...</td>\n",
       "      <td>positive</td>\n",
       "    </tr>\n",
       "    <tr>\n",
       "      <th>14564</th>\n",
       "      <td>14564</td>\n",
       "      <td>tdi fiyat alan oldu arkadaşlar bin liste fiyat...</td>\n",
       "      <td>positive</td>\n",
       "    </tr>\n",
       "    <tr>\n",
       "      <th>50638</th>\n",
       "      <td>50638</td>\n",
       "      <td>hayırlı olsun</td>\n",
       "      <td>positive</td>\n",
       "    </tr>\n",
       "    <tr>\n",
       "      <th>...</th>\n",
       "      <td>...</td>\n",
       "      <td>...</td>\n",
       "      <td>...</td>\n",
       "    </tr>\n",
       "    <tr>\n",
       "      <th>14471</th>\n",
       "      <td>14471</td>\n",
       "      <td>model tdi coupe almayı düşünüyorum civarı km g...</td>\n",
       "      <td>negative</td>\n",
       "    </tr>\n",
       "    <tr>\n",
       "      <th>48558</th>\n",
       "      <td>48558</td>\n",
       "      <td>avrupa an satılıyor</td>\n",
       "      <td>positive</td>\n",
       "    </tr>\n",
       "    <tr>\n",
       "      <th>7831</th>\n",
       "      <td>7831</td>\n",
       "      <td>tsi polonun performansı gayet tatminkar kadar ...</td>\n",
       "      <td>positive</td>\n",
       "    </tr>\n",
       "    <tr>\n",
       "      <th>47091</th>\n",
       "      <td>47091</td>\n",
       "      <td>maalesef çalışmadı dizel bir modeline cc olmuy...</td>\n",
       "      <td>negative</td>\n",
       "    </tr>\n",
       "    <tr>\n",
       "      <th>18393</th>\n",
       "      <td>18393</td>\n",
       "      <td>tesekkur ederım beklemedeyız</td>\n",
       "      <td>positive</td>\n",
       "    </tr>\n",
       "  </tbody>\n",
       "</table>\n",
       "<p>16112 rows × 3 columns</p>\n",
       "</div>"
      ],
      "text/plain": [
       "       Unnamed: 0                                             review sentiment\n",
       "36262       36262  yardımlarınız gerçekten teşekkür ederim halen ...  positive\n",
       "36783       36783  kardeş ben yıldır dizel logan kullanıyorum zat...  positive\n",
       "32633       32633  ben bir göz gezdirdim bin liraya çıkan modelle...  positive\n",
       "14564       14564  tdi fiyat alan oldu arkadaşlar bin liste fiyat...  positive\n",
       "50638       50638                                      hayırlı olsun  positive\n",
       "...           ...                                                ...       ...\n",
       "14471       14471  model tdi coupe almayı düşünüyorum civarı km g...  negative\n",
       "48558       48558                                avrupa an satılıyor  positive\n",
       "7831         7831  tsi polonun performansı gayet tatminkar kadar ...  positive\n",
       "47091       47091  maalesef çalışmadı dizel bir modeline cc olmuy...  negative\n",
       "18393       18393                       tesekkur ederım beklemedeyız  positive\n",
       "\n",
       "[16112 rows x 3 columns]"
      ]
     },
     "execution_count": 7,
     "metadata": {},
     "output_type": "execute_result"
    }
   ],
   "source": [
    "X_test"
   ]
  },
  {
   "cell_type": "code",
   "execution_count": 8,
   "id": "b4129e83",
   "metadata": {
    "editable": false,
    "execution": {
     "iopub.execute_input": "2023-09-30T09:43:57.941959Z",
     "iopub.status.busy": "2023-09-30T09:43:57.941628Z",
     "iopub.status.idle": "2023-09-30T09:43:57.972374Z",
     "shell.execute_reply": "2023-09-30T09:43:57.971345Z",
     "shell.execute_reply.started": "2023-09-30T09:43:57.941931Z"
    }
   },
   "outputs": [],
   "source": [
    "mask = X_train['review'].str.len() < 300 \n",
    "X_train = X_train.loc[mask]"
   ]
  },
  {
   "cell_type": "code",
   "execution_count": 9,
   "id": "8b9a8841",
   "metadata": {
    "editable": false,
    "execution": {
     "iopub.execute_input": "2023-09-30T09:43:59.486566Z",
     "iopub.status.busy": "2023-09-30T09:43:59.486100Z",
     "iopub.status.idle": "2023-09-30T09:43:59.507908Z",
     "shell.execute_reply": "2023-09-30T09:43:59.507039Z",
     "shell.execute_reply.started": "2023-09-30T09:43:59.486529Z"
    }
   },
   "outputs": [],
   "source": [
    "mask = X_test['review'].str.len() < 300 \n",
    "X_test = X_test.loc[mask]"
   ]
  },
  {
   "cell_type": "code",
   "execution_count": 10,
   "id": "19a228af",
   "metadata": {
    "editable": false,
    "execution": {
     "iopub.execute_input": "2023-09-30T09:44:00.333101Z",
     "iopub.status.busy": "2023-09-30T09:44:00.332650Z",
     "iopub.status.idle": "2023-09-30T09:44:00.344694Z",
     "shell.execute_reply": "2023-09-30T09:44:00.343720Z",
     "shell.execute_reply.started": "2023-09-30T09:44:00.333063Z"
    }
   },
   "outputs": [
    {
     "data": {
      "text/plain": [
       "(48333, 3)"
      ]
     },
     "execution_count": 10,
     "metadata": {},
     "output_type": "execute_result"
    }
   ],
   "source": [
    "X_train.shape"
   ]
  },
  {
   "cell_type": "code",
   "execution_count": 11,
   "id": "6801a0e4",
   "metadata": {
    "editable": false,
    "execution": {
     "iopub.execute_input": "2023-09-30T09:44:04.592916Z",
     "iopub.status.busy": "2023-09-30T09:44:04.592592Z",
     "iopub.status.idle": "2023-09-30T09:44:04.598862Z",
     "shell.execute_reply": "2023-09-30T09:44:04.597937Z",
     "shell.execute_reply.started": "2023-09-30T09:44:04.592890Z"
    }
   },
   "outputs": [
    {
     "data": {
      "text/plain": [
       "pandas.core.frame.DataFrame"
      ]
     },
     "execution_count": 11,
     "metadata": {},
     "output_type": "execute_result"
    }
   ],
   "source": [
    "type(X_train)"
   ]
  },
  {
   "cell_type": "code",
   "execution_count": 12,
   "id": "10cd275f",
   "metadata": {
    "editable": false,
    "execution": {
     "iopub.execute_input": "2023-09-30T09:44:05.824724Z",
     "iopub.status.busy": "2023-09-30T09:44:05.824394Z",
     "iopub.status.idle": "2023-09-30T09:44:05.832181Z",
     "shell.execute_reply": "2023-09-30T09:44:05.831187Z",
     "shell.execute_reply.started": "2023-09-30T09:44:05.824698Z"
    }
   },
   "outputs": [
    {
     "data": {
      "text/plain": [
       "15962    quoteorijinalden alıntı ankara_ahmet teşekkür ...\n",
       "6748     quoteorijinalden alıntı fc nin motorunun üstün...\n",
       "25124    maaşallah arabanız güzelmiş bende aynı özellik...\n",
       "6420     hayırlı olsun şimdiden hangi bayi lanet gelsin...\n",
       "9724     uzaktan kumandalı araba galiba motor sesine eb...\n",
       "                               ...                        \n",
       "62570    kazanıp ye araççlardan b segment alırsın sadec...\n",
       "38158    bunlara göre herşey hikaye pandemi çip savaş h...\n",
       "860      scirocco nun kapısı gelmez mi arkadaşlar güzel...\n",
       "15795    almanlar bizi kıskandığı fiyatları yüksek tutu...\n",
       "56422                                             mercedes\n",
       "Name: review, Length: 48333, dtype: object"
      ]
     },
     "execution_count": 12,
     "metadata": {},
     "output_type": "execute_result"
    }
   ],
   "source": [
    "X_train[\"review\"]"
   ]
  },
  {
   "cell_type": "code",
   "execution_count": 13,
   "id": "d5d2a604",
   "metadata": {
    "editable": false,
    "execution": {
     "iopub.execute_input": "2023-09-30T09:44:08.054630Z",
     "iopub.status.busy": "2023-09-30T09:44:08.054310Z",
     "iopub.status.idle": "2023-09-30T09:44:39.127575Z",
     "shell.execute_reply": "2023-09-30T09:44:39.126554Z",
     "shell.execute_reply.started": "2023-09-30T09:44:08.054604Z"
    }
   },
   "outputs": [
    {
     "data": {
      "application/vnd.jupyter.widget-view+json": {
       "model_id": "e8e6e53fdc4c45e185d707166a3c3253",
       "version_major": 2,
       "version_minor": 0
      },
      "text/plain": [
       "Downloading (…)okenizer_config.json:   0%|          | 0.00/60.0 [00:00<?, ?B/s]"
      ]
     },
     "metadata": {},
     "output_type": "display_data"
    },
    {
     "data": {
      "application/vnd.jupyter.widget-view+json": {
       "model_id": "9276496b268b457c959d3b54040cef28",
       "version_major": 2,
       "version_minor": 0
      },
      "text/plain": [
       "Downloading (…)lve/main/config.json:   0%|          | 0.00/385 [00:00<?, ?B/s]"
      ]
     },
     "metadata": {},
     "output_type": "display_data"
    },
    {
     "data": {
      "application/vnd.jupyter.widget-view+json": {
       "model_id": "3fe5a0cc0a1d46308a25981fdedb192b",
       "version_major": 2,
       "version_minor": 0
      },
      "text/plain": [
       "Downloading (…)solve/main/vocab.txt:   0%|          | 0.00/251k [00:00<?, ?B/s]"
      ]
     },
     "metadata": {},
     "output_type": "display_data"
    },
    {
     "data": {
      "application/vnd.jupyter.widget-view+json": {
       "model_id": "0796cb9b602641b9b60e1bb59da5c147",
       "version_major": 2,
       "version_minor": 0
      },
      "text/plain": [
       "Downloading pytorch_model.bin:   0%|          | 0.00/445M [00:00<?, ?B/s]"
      ]
     },
     "metadata": {},
     "output_type": "display_data"
    }
   ],
   "source": [
    "device = torch.device(\"cuda\" if torch.cuda.is_available() else \"cpu\")\n",
    "model_name = \"dbmdz/bert-base-turkish-cased\"\n",
    "tokenizer = AutoTokenizer.from_pretrained(model_name)\n",
    "bert_model = AutoModel.from_pretrained(model_name).to(device)"
   ]
  },
  {
   "cell_type": "code",
   "execution_count": 14,
   "id": "ede71113",
   "metadata": {
    "editable": false,
    "execution": {
     "iopub.execute_input": "2023-09-30T09:44:43.446121Z",
     "iopub.status.busy": "2023-09-30T09:44:43.445724Z",
     "iopub.status.idle": "2023-09-30T09:44:43.453312Z",
     "shell.execute_reply": "2023-09-30T09:44:43.452374Z",
     "shell.execute_reply.started": "2023-09-30T09:44:43.446090Z"
    }
   },
   "outputs": [],
   "source": [
    "def feature_extraction(df):\n",
    "    tokenized = df['review'].apply((lambda x: tokenizer.encode(str(x), add_special_tokens=True)))\n",
    "    max_len = 0\n",
    "    for i in tokenized.values:\n",
    "        if (len(i) > max_len):\n",
    "            max_len = len(i)\n",
    "            \n",
    "    last_hidden_states = []\n",
    "    padded = np.array([i + [0]*(max_len-len(i)) for i in tokenized.values])\n",
    "    attention_mask = np.where(padded != 0, 1, 0)\n",
    "    all_hidden_states = []\n",
    "    batch_size = 8\n",
    "    for i in range(0, len(padded), batch_size):\n",
    "        batch_input_ids = torch.tensor(padded[i:i+batch_size]).to(device)\n",
    "        batch_attention_mask = torch.tensor(attention_mask[i:i+batch_size]).to(device)\n",
    "\n",
    "        with torch.no_grad():\n",
    "#             last_hidden_states += list(bert_model(batch_input_ids, attention_mask=batch_attention_mask)[0][0][0].cpu().numpy())\n",
    "#             [:,0,:]\n",
    "            last_hidden_states += list(bert_model(batch_input_ids, attention_mask=batch_attention_mask)[0][:,0,:].cpu().numpy())\n",
    "#             list(x[0][0].cpu().numpy())\n",
    "        \n",
    "#         all_hidden_states.extend(last_hidden_states)\n",
    "        \n",
    "#     last_hidden_states[0].size()\n",
    "#     torch.Size([668, 75, 768])\n",
    "#     return last_hidden_states[0][:,0,:].numpy()\n",
    "    return last_hidden_states\n",
    "    "
   ]
  },
  {
   "cell_type": "code",
   "execution_count": 15,
   "id": "1bd172af",
   "metadata": {
    "editable": false,
    "execution": {
     "iopub.execute_input": "2023-09-30T09:44:49.147539Z",
     "iopub.status.busy": "2023-09-30T09:44:49.146834Z",
     "iopub.status.idle": "2023-09-30T09:48:55.968130Z",
     "shell.execute_reply": "2023-09-30T09:48:55.967174Z",
     "shell.execute_reply.started": "2023-09-30T09:44:49.147511Z"
    }
   },
   "outputs": [],
   "source": [
    "X_train_tokens = feature_extraction(X_train)"
   ]
  },
  {
   "cell_type": "code",
   "execution_count": 16,
   "id": "4dbe8bbb",
   "metadata": {
    "editable": false,
    "execution": {
     "iopub.execute_input": "2023-09-30T09:48:55.970946Z",
     "iopub.status.busy": "2023-09-30T09:48:55.969978Z",
     "iopub.status.idle": "2023-09-30T09:49:53.156926Z",
     "shell.execute_reply": "2023-09-30T09:49:53.155912Z",
     "shell.execute_reply.started": "2023-09-30T09:48:55.970915Z"
    }
   },
   "outputs": [],
   "source": [
    "X_test_tokens = feature_extraction(X_test)"
   ]
  },
  {
   "cell_type": "code",
   "execution_count": 17,
   "id": "5c4b5802",
   "metadata": {
    "editable": false,
    "execution": {
     "iopub.execute_input": "2023-09-30T09:49:53.159236Z",
     "iopub.status.busy": "2023-09-30T09:49:53.158269Z",
     "iopub.status.idle": "2023-09-30T09:49:53.165426Z",
     "shell.execute_reply": "2023-09-30T09:49:53.164532Z",
     "shell.execute_reply.started": "2023-09-30T09:49:53.159204Z"
    }
   },
   "outputs": [
    {
     "data": {
      "text/plain": [
       "16112"
      ]
     },
     "execution_count": 17,
     "metadata": {},
     "output_type": "execute_result"
    }
   ],
   "source": [
    "len(X_test_tokens)"
   ]
  },
  {
   "cell_type": "code",
   "execution_count": 18,
   "id": "747f5971",
   "metadata": {
    "editable": false,
    "execution": {
     "iopub.execute_input": "2023-09-30T09:49:53.168711Z",
     "iopub.status.busy": "2023-09-30T09:49:53.167709Z",
     "iopub.status.idle": "2023-09-30T09:49:53.178680Z",
     "shell.execute_reply": "2023-09-30T09:49:53.177583Z",
     "shell.execute_reply.started": "2023-09-30T09:49:53.168682Z"
    }
   },
   "outputs": [
    {
     "data": {
      "text/plain": [
       "1.0083114"
      ]
     },
     "execution_count": 18,
     "metadata": {},
     "output_type": "execute_result"
    }
   ],
   "source": [
    "X_train_tokens[0][0]"
   ]
  },
  {
   "cell_type": "code",
   "execution_count": 19,
   "id": "c5d49a79",
   "metadata": {
    "editable": false,
    "execution": {
     "iopub.execute_input": "2023-09-30T09:49:53.180768Z",
     "iopub.status.busy": "2023-09-30T09:49:53.180196Z",
     "iopub.status.idle": "2023-09-30T09:49:53.188549Z",
     "shell.execute_reply": "2023-09-30T09:49:53.187435Z",
     "shell.execute_reply.started": "2023-09-30T09:49:53.180738Z"
    }
   },
   "outputs": [
    {
     "data": {
      "text/plain": [
       "768"
      ]
     },
     "execution_count": 19,
     "metadata": {},
     "output_type": "execute_result"
    }
   ],
   "source": [
    "len(X_train_tokens[0])"
   ]
  },
  {
   "cell_type": "code",
   "execution_count": 20,
   "id": "58ad98e9",
   "metadata": {
    "editable": false,
    "execution": {
     "iopub.execute_input": "2023-09-30T09:49:53.190691Z",
     "iopub.status.busy": "2023-09-30T09:49:53.190088Z",
     "iopub.status.idle": "2023-09-30T09:49:53.199046Z",
     "shell.execute_reply": "2023-09-30T09:49:53.198057Z",
     "shell.execute_reply.started": "2023-09-30T09:49:53.190655Z"
    }
   },
   "outputs": [
    {
     "data": {
      "text/plain": [
       "768"
      ]
     },
     "execution_count": 20,
     "metadata": {},
     "output_type": "execute_result"
    }
   ],
   "source": [
    "len(X_train_tokens[0])"
   ]
  },
  {
   "cell_type": "code",
   "execution_count": 21,
   "id": "06dc33f3",
   "metadata": {
    "editable": false,
    "execution": {
     "iopub.execute_input": "2023-09-30T09:49:53.201551Z",
     "iopub.status.busy": "2023-09-30T09:49:53.200446Z",
     "iopub.status.idle": "2023-09-30T09:49:53.276864Z",
     "shell.execute_reply": "2023-09-30T09:49:53.275912Z",
     "shell.execute_reply.started": "2023-09-30T09:49:53.201520Z"
    }
   },
   "outputs": [],
   "source": [
    "matris = np.array(X_train_tokens)"
   ]
  },
  {
   "cell_type": "code",
   "execution_count": 22,
   "id": "5c81d18b",
   "metadata": {
    "editable": false,
    "execution": {
     "iopub.execute_input": "2023-09-30T09:49:53.278965Z",
     "iopub.status.busy": "2023-09-30T09:49:53.278429Z",
     "iopub.status.idle": "2023-09-30T09:49:53.285653Z",
     "shell.execute_reply": "2023-09-30T09:49:53.284776Z",
     "shell.execute_reply.started": "2023-09-30T09:49:53.278934Z"
    }
   },
   "outputs": [
    {
     "data": {
      "text/plain": [
       "(48333, 768)"
      ]
     },
     "execution_count": 22,
     "metadata": {},
     "output_type": "execute_result"
    }
   ],
   "source": [
    "matris.shape"
   ]
  },
  {
   "cell_type": "code",
   "execution_count": 23,
   "id": "2f3694f0",
   "metadata": {
    "editable": false,
    "execution": {
     "iopub.execute_input": "2023-09-30T09:49:53.287645Z",
     "iopub.status.busy": "2023-09-30T09:49:53.287092Z",
     "iopub.status.idle": "2023-09-30T09:49:53.296937Z",
     "shell.execute_reply": "2023-09-30T09:49:53.296034Z",
     "shell.execute_reply.started": "2023-09-30T09:49:53.287616Z"
    }
   },
   "outputs": [
    {
     "data": {
      "text/plain": [
       "list"
      ]
     },
     "execution_count": 23,
     "metadata": {},
     "output_type": "execute_result"
    }
   ],
   "source": [
    "type(X_train_tokens)"
   ]
  },
  {
   "cell_type": "code",
   "execution_count": 24,
   "id": "f301d080",
   "metadata": {
    "editable": false,
    "execution": {
     "iopub.execute_input": "2023-09-30T09:49:53.301501Z",
     "iopub.status.busy": "2023-09-30T09:49:53.300732Z",
     "iopub.status.idle": "2023-09-30T09:49:53.739214Z",
     "shell.execute_reply": "2023-09-30T09:49:53.737953Z",
     "shell.execute_reply.started": "2023-09-30T09:49:53.301473Z"
    }
   },
   "outputs": [
    {
     "ename": "AttributeError",
     "evalue": "'list' object has no attribute 'shape'",
     "output_type": "error",
     "traceback": [
      "\u001b[0;31m---------------------------------------------------------------------------\u001b[0m",
      "\u001b[0;31mAttributeError\u001b[0m                            Traceback (most recent call last)",
      "Cell \u001b[0;32mIn[24], line 1\u001b[0m\n\u001b[0;32m----> 1\u001b[0m \u001b[43mX_train_tokens\u001b[49m\u001b[38;5;241;43m.\u001b[39;49m\u001b[43mshape\u001b[49m\n",
      "\u001b[0;31mAttributeError\u001b[0m: 'list' object has no attribute 'shape'"
     ]
    }
   ],
   "source": [
    "X_train_tokens.shape"
   ]
  },
  {
   "cell_type": "code",
   "execution_count": 101,
   "id": "b703d3ec",
   "metadata": {
    "editable": false,
    "execution": {
     "iopub.execute_input": "2023-09-20T13:14:18.107239Z",
     "iopub.status.busy": "2023-09-20T13:14:18.106881Z",
     "iopub.status.idle": "2023-09-20T13:14:18.114066Z",
     "shell.execute_reply": "2023-09-20T13:14:18.112923Z",
     "shell.execute_reply.started": "2023-09-20T13:14:18.107212Z"
    }
   },
   "outputs": [
    {
     "data": {
      "text/plain": [
       "31793.095890410958"
      ]
     },
     "execution_count": 101,
     "metadata": {},
     "output_type": "execute_result"
    }
   ],
   "source": [
    "4641792/146"
   ]
  },
  {
   "cell_type": "code",
   "execution_count": 80,
   "id": "232028ad",
   "metadata": {
    "editable": false,
    "execution": {
     "iopub.execute_input": "2023-09-20T12:52:14.949864Z",
     "iopub.status.busy": "2023-09-20T12:52:14.949482Z",
     "iopub.status.idle": "2023-09-20T12:52:14.993520Z",
     "shell.execute_reply": "2023-09-20T12:52:14.992079Z",
     "shell.execute_reply.started": "2023-09-20T12:52:14.949834Z"
    }
   },
   "outputs": [
    {
     "ename": "TypeError",
     "evalue": "string indices must be integers",
     "output_type": "error",
     "traceback": [
      "\u001b[0;31m---------------------------------------------------------------------------\u001b[0m",
      "\u001b[0;31mTypeError\u001b[0m                                 Traceback (most recent call last)",
      "Cell \u001b[0;32mIn[80], line 1\u001b[0m\n\u001b[0;32m----> 1\u001b[0m \u001b[43mX_train_tokens\u001b[49m\u001b[43m[\u001b[49m\u001b[38;5;241;43m0\u001b[39;49m\u001b[43m]\u001b[49m\u001b[43m[\u001b[49m\u001b[43m:\u001b[49m\u001b[43m,\u001b[49m\u001b[38;5;241;43m0\u001b[39;49m\u001b[43m,\u001b[49m\u001b[43m:\u001b[49m\u001b[43m]\u001b[49m\u001b[38;5;241m.\u001b[39mnumpy()\n",
      "\u001b[0;31mTypeError\u001b[0m: string indices must be integers"
     ]
    }
   ],
   "source": [
    "X_train_tokens[0][:,0,:].numpy()"
   ]
  },
  {
   "cell_type": "code",
   "execution_count": 91,
   "id": "5177ea42",
   "metadata": {
    "editable": false,
    "execution": {
     "iopub.execute_input": "2023-09-20T13:03:42.778394Z",
     "iopub.status.busy": "2023-09-20T13:03:42.777941Z",
     "iopub.status.idle": "2023-09-20T13:03:42.835700Z",
     "shell.execute_reply": "2023-09-20T13:03:42.833353Z",
     "shell.execute_reply.started": "2023-09-20T13:03:42.778354Z"
    }
   },
   "outputs": [
    {
     "ename": "AttributeError",
     "evalue": "'str' object has no attribute 'size'",
     "output_type": "error",
     "traceback": [
      "\u001b[0;31m---------------------------------------------------------------------------\u001b[0m",
      "\u001b[0;31mAttributeError\u001b[0m                            Traceback (most recent call last)",
      "Cell \u001b[0;32mIn[91], line 1\u001b[0m\n\u001b[0;32m----> 1\u001b[0m \u001b[43mX_train_tokens\u001b[49m\u001b[43m[\u001b[49m\u001b[38;5;241;43m0\u001b[39;49m\u001b[43m]\u001b[49m\u001b[38;5;241;43m.\u001b[39;49m\u001b[43msize\u001b[49m()\n",
      "\u001b[0;31mAttributeError\u001b[0m: 'str' object has no attribute 'size'"
     ]
    }
   ],
   "source": [
    "X_train_tokens[0].size()"
   ]
  },
  {
   "cell_type": "code",
   "execution_count": 42,
   "id": "04dd7e30",
   "metadata": {
    "editable": false,
    "execution": {
     "iopub.execute_input": "2023-09-20T12:32:57.916424Z",
     "iopub.status.busy": "2023-09-20T12:32:57.916048Z",
     "iopub.status.idle": "2023-09-20T12:32:57.923569Z",
     "shell.execute_reply": "2023-09-20T12:32:57.922474Z",
     "shell.execute_reply.started": "2023-09-20T12:32:57.916392Z"
    }
   },
   "outputs": [
    {
     "data": {
      "text/plain": [
       "(48347, 4)"
      ]
     },
     "execution_count": 42,
     "metadata": {},
     "output_type": "execute_result"
    }
   ],
   "source": [
    "X_train.shape"
   ]
  },
  {
   "cell_type": "code",
   "execution_count": 53,
   "id": "4ee5c051",
   "metadata": {
    "editable": false,
    "execution": {
     "iopub.execute_input": "2023-09-20T12:36:02.598653Z",
     "iopub.status.busy": "2023-09-20T12:36:02.598270Z",
     "iopub.status.idle": "2023-09-20T12:36:02.605659Z",
     "shell.execute_reply": "2023-09-20T12:36:02.604736Z",
     "shell.execute_reply.started": "2023-09-20T12:36:02.598623Z"
    }
   },
   "outputs": [
    {
     "data": {
      "text/plain": [
       "transformers.modeling_outputs.BaseModelOutputWithPoolingAndCrossAttentions"
      ]
     },
     "execution_count": 53,
     "metadata": {},
     "output_type": "execute_result"
    }
   ],
   "source": [
    "type(X_train_tokens)"
   ]
  },
  {
   "cell_type": "code",
   "execution_count": 62,
   "id": "68ec9633",
   "metadata": {
    "editable": false,
    "execution": {
     "iopub.execute_input": "2023-09-20T12:38:29.509386Z",
     "iopub.status.busy": "2023-09-20T12:38:29.508881Z",
     "iopub.status.idle": "2023-09-20T12:38:29.576871Z",
     "shell.execute_reply": "2023-09-20T12:38:29.575550Z",
     "shell.execute_reply.started": "2023-09-20T12:38:29.509344Z"
    }
   },
   "outputs": [
    {
     "ename": "IndexError",
     "evalue": "too many indices for array: array is 0-dimensional, but 1 were indexed",
     "output_type": "error",
     "traceback": [
      "\u001b[0;31m---------------------------------------------------------------------------\u001b[0m",
      "\u001b[0;31mIndexError\u001b[0m                                Traceback (most recent call last)",
      "Cell \u001b[0;32mIn[62], line 1\u001b[0m\n\u001b[0;32m----> 1\u001b[0m \u001b[43mX_train_tokens_np\u001b[49m\u001b[43m[\u001b[49m\u001b[38;5;241;43m0\u001b[39;49m\u001b[43m]\u001b[49m\u001b[38;5;241m.\u001b[39msize()\n",
      "\u001b[0;31mIndexError\u001b[0m: too many indices for array: array is 0-dimensional, but 1 were indexed"
     ]
    }
   ],
   "source": [
    "X_train_tokens_np[0].size()"
   ]
  },
  {
   "cell_type": "code",
   "execution_count": 64,
   "id": "10b73cff",
   "metadata": {
    "editable": false,
    "execution": {
     "iopub.execute_input": "2023-09-20T12:38:45.125459Z",
     "iopub.status.busy": "2023-09-20T12:38:45.125085Z",
     "iopub.status.idle": "2023-09-20T12:38:45.131797Z",
     "shell.execute_reply": "2023-09-20T12:38:45.130720Z",
     "shell.execute_reply.started": "2023-09-20T12:38:45.125429Z"
    }
   },
   "outputs": [
    {
     "data": {
      "text/plain": [
       "()"
      ]
     },
     "execution_count": 64,
     "metadata": {},
     "output_type": "execute_result"
    }
   ],
   "source": [
    "X_train_tokens_np.shape"
   ]
  },
  {
   "cell_type": "code",
   "execution_count": 40,
   "id": "69f8d5e7",
   "metadata": {
    "editable": false,
    "execution": {
     "iopub.execute_input": "2023-09-20T12:31:39.798908Z",
     "iopub.status.busy": "2023-09-20T12:31:39.797741Z",
     "iopub.status.idle": "2023-09-20T12:31:39.806023Z",
     "shell.execute_reply": "2023-09-20T12:31:39.804888Z",
     "shell.execute_reply.started": "2023-09-20T12:31:39.798866Z"
    }
   },
   "outputs": [
    {
     "data": {
      "text/plain": [
       "torch.Size([48347, 75, 768])"
      ]
     },
     "execution_count": 40,
     "metadata": {},
     "output_type": "execute_result"
    }
   ],
   "source": [
    "\n",
    "torch.Size([48347, 75, 768])"
   ]
  },
  {
   "cell_type": "code",
   "execution_count": 39,
   "id": "76a9c7b2",
   "metadata": {
    "editable": false,
    "execution": {
     "iopub.execute_input": "2023-09-20T12:30:40.506623Z",
     "iopub.status.busy": "2023-09-20T12:30:40.506233Z",
     "iopub.status.idle": "2023-09-20T12:30:40.525565Z",
     "shell.execute_reply": "2023-09-20T12:30:40.524601Z",
     "shell.execute_reply.started": "2023-09-20T12:30:40.506591Z"
    }
   },
   "outputs": [
    {
     "data": {
      "text/plain": [
       "BaseModelOutputWithPoolingAndCrossAttentions(last_hidden_state=tensor([[[ 0.0808,  0.0813,  0.2418,  ...,  0.6220, -0.7129,  0.9066],\n",
       "         [ 0.1090,  0.0168, -0.9655,  ...,  0.6115,  0.4178,  1.4624],\n",
       "         [-0.4136,  0.1177,  0.3412,  ...,  0.5167, -1.2618,  1.0250],\n",
       "         ...,\n",
       "         [ 0.3841,  0.3316, -0.6968,  ...,  0.6313, -0.3202,  0.7639],\n",
       "         [ 0.5687,  0.1228, -0.6248,  ...,  0.7955, -0.5041,  0.5846],\n",
       "         [-0.7858, -1.3663, -0.0470,  ...,  0.8300, -0.6014,  0.7653]],\n",
       "\n",
       "        [[ 0.6223,  0.3800,  0.1528,  ...,  0.1840,  1.0982,  0.9544],\n",
       "         [-1.6429, -0.4704,  0.9964,  ...,  0.1110, -0.3723,  0.4553],\n",
       "         [-1.0311, -0.1955,  0.5316,  ...,  0.2848, -0.7035,  0.4927],\n",
       "         ...,\n",
       "         [-0.8550, -0.0610, -0.2485,  ...,  0.5861,  0.3587,  0.7029],\n",
       "         [-0.0691, -0.4977, -0.2881,  ...,  0.4570, -0.5029,  1.5062],\n",
       "         [ 0.0205, -0.7672, -0.3209,  ...,  0.6431, -0.8487,  1.6601]],\n",
       "\n",
       "        [[-0.3529,  0.1620,  0.4437,  ...,  0.3400, -0.6154, -0.4611],\n",
       "         [-0.0254, -1.1670,  0.1222,  ..., -0.0044, -0.7066,  0.3447],\n",
       "         [ 1.2600,  0.1472, -0.3624,  ..., -1.6032, -0.1788, -0.2690],\n",
       "         ...,\n",
       "         [ 0.3102,  0.4142, -0.3563,  ..., -0.4402, -0.8841, -0.3775],\n",
       "         [ 0.3001,  0.3626, -0.3994,  ..., -0.3622, -0.6928, -0.1581],\n",
       "         [ 0.7693, -0.0190, -0.6728,  ..., -0.2145, -0.4908, -0.2092]]],\n",
       "       device='cuda:0'), pooler_output=tensor([[-0.1071, -0.7217, -0.4391,  ...,  1.0000,  0.4148,  0.9986],\n",
       "        [-0.3335,  0.9996,  0.0336,  ..., -0.9992, -0.5478,  0.9998],\n",
       "        [ 0.5557, -0.9846, -0.1304,  ...,  1.0000,  0.0048,  1.0000]],\n",
       "       device='cuda:0'), hidden_states=None, past_key_values=None, attentions=None, cross_attentions=None)"
      ]
     },
     "execution_count": 39,
     "metadata": {},
     "output_type": "execute_result"
    }
   ],
   "source": [
    "X_train_tokens"
   ]
  },
  {
   "cell_type": "code",
   "execution_count": 22,
   "id": "f78ea1b0",
   "metadata": {
    "editable": false,
    "execution": {
     "iopub.execute_input": "2023-09-20T12:14:48.046710Z",
     "iopub.status.busy": "2023-09-20T12:14:48.046301Z",
     "iopub.status.idle": "2023-09-20T12:14:48.053125Z",
     "shell.execute_reply": "2023-09-20T12:14:48.052053Z",
     "shell.execute_reply.started": "2023-09-20T12:14:48.046657Z"
    }
   },
   "outputs": [],
   "source": [
    "def feature_extraction(token,token_attention_mask):\n",
    "    with torch.no_grad():\n",
    "        last_hidden_states = bert_model(token, attention_mask=token_attention_mask)\n",
    "    last_hidden_states[0].size()\n",
    "    torch.Size([668, 75, 768])\n",
    "    return last_hidden_states[:,0,:][0].cpu().numpy()"
   ]
  },
  {
   "cell_type": "code",
   "execution_count": 17,
   "id": "d3b85f1c",
   "metadata": {
    "editable": false,
    "execution": {
     "iopub.execute_input": "2023-09-20T12:13:03.737096Z",
     "iopub.status.busy": "2023-09-20T12:13:03.736727Z",
     "iopub.status.idle": "2023-09-20T12:13:03.744650Z",
     "shell.execute_reply": "2023-09-20T12:13:03.743652Z",
     "shell.execute_reply.started": "2023-09-20T12:13:03.737067Z"
    }
   },
   "outputs": [],
   "source": [
    "def tokenization(df,max_len=0):\n",
    "    tokenized = df['review'].apply((lambda x: tokenizer.encode(str(x), add_special_tokens=True)))\n",
    "    if max_len == 0:\n",
    "        for i in tokenized.values:\n",
    "            if (len(i) > max_len):\n",
    "                max_len = len(i)\n",
    "    padded = np.array([i + [0]*(max_len-len(i)) for i in tokenized.values])\n",
    "    attention_mask = np.where(padded != 0, 1, 0)\n",
    "    input_ids =  torch.tensor(padded).to(device)\n",
    "    attention_mask = torch.tensor(attention_mask).to(device)\n",
    "    return input_ids, attention_mask, max_len"
   ]
  },
  {
   "cell_type": "code",
   "execution_count": 45,
   "id": "cc4002f7",
   "metadata": {
    "editable": false,
    "execution": {
     "iopub.execute_input": "2023-09-19T22:56:01.837470Z",
     "iopub.status.busy": "2023-09-19T22:56:01.837114Z",
     "iopub.status.idle": "2023-09-19T22:56:24.795205Z",
     "shell.execute_reply": "2023-09-19T22:56:24.794196Z",
     "shell.execute_reply.started": "2023-09-19T22:56:01.837442Z"
    }
   },
   "outputs": [
    {
     "name": "stderr",
     "output_type": "stream",
     "text": [
      "Token indices sequence length is longer than the specified maximum sequence length for this model (530 > 512). Running this sequence through the model will result in indexing errors\n"
     ]
    }
   ],
   "source": [
    "tokenized = df['review'].apply((lambda x: tokenizer.encode(str(x), add_special_tokens=True)))"
   ]
  },
  {
   "cell_type": "code",
   "execution_count": 50,
   "id": "4a8d34b0",
   "metadata": {
    "editable": false,
    "execution": {
     "iopub.execute_input": "2023-09-19T23:02:53.215464Z",
     "iopub.status.busy": "2023-09-19T23:02:53.215104Z",
     "iopub.status.idle": "2023-09-19T23:03:39.714282Z",
     "shell.execute_reply": "2023-09-19T23:03:39.713193Z",
     "shell.execute_reply.started": "2023-09-19T23:02:53.215436Z"
    }
   },
   "outputs": [],
   "source": [
    "max_len = 0\n",
    "if max_len == 0:\n",
    "    for i in tokenized.values:\n",
    "        if (len(i) > max_len):\n",
    "            max_len = len(i)\n",
    "padded = np.array([i + [0]*(max_len-len(i)) for i in tokenized.values])\n",
    "attention_mask = np.where(padded != 0, 1, 0)"
   ]
  },
  {
   "cell_type": "code",
   "execution_count": 52,
   "id": "8235ee62",
   "metadata": {
    "editable": false,
    "execution": {
     "iopub.execute_input": "2023-09-19T23:04:34.779652Z",
     "iopub.status.busy": "2023-09-19T23:04:34.779263Z",
     "iopub.status.idle": "2023-09-19T23:04:34.785642Z",
     "shell.execute_reply": "2023-09-19T23:04:34.784714Z",
     "shell.execute_reply.started": "2023-09-19T23:04:34.779622Z"
    }
   },
   "outputs": [
    {
     "data": {
      "text/plain": [
       "(93991, 3217)"
      ]
     },
     "execution_count": 52,
     "metadata": {},
     "output_type": "execute_result"
    }
   ],
   "source": [
    "padded.shape"
   ]
  },
  {
   "cell_type": "code",
   "execution_count": 86,
   "id": "92eabd45",
   "metadata": {
    "editable": false,
    "execution": {
     "iopub.execute_input": "2023-09-19T23:31:25.305644Z",
     "iopub.status.busy": "2023-09-19T23:31:25.305240Z",
     "iopub.status.idle": "2023-09-19T23:31:26.563575Z",
     "shell.execute_reply": "2023-09-19T23:31:26.562549Z",
     "shell.execute_reply.started": "2023-09-19T23:31:25.305613Z"
    }
   },
   "outputs": [],
   "source": [
    "attention_mask = np.where(padded != 0, 1, 0)"
   ]
  },
  {
   "cell_type": "code",
   "execution_count": 56,
   "id": "c7f21eb7",
   "metadata": {
    "editable": false,
    "execution": {
     "iopub.execute_input": "2023-09-19T23:08:47.133007Z",
     "iopub.status.busy": "2023-09-19T23:08:47.132620Z",
     "iopub.status.idle": "2023-09-19T23:08:51.617408Z",
     "shell.execute_reply": "2023-09-19T23:08:51.616366Z",
     "shell.execute_reply.started": "2023-09-19T23:08:47.132979Z"
    }
   },
   "outputs": [],
   "source": [
    "input_ids = torch.tensor(padded).to(device)  \n",
    "attention_mask = torch.tensor(attention_mask).to(device)"
   ]
  },
  {
   "cell_type": "code",
   "execution_count": 87,
   "id": "4aaf35b2",
   "metadata": {
    "editable": false,
    "execution": {
     "iopub.execute_input": "2023-09-19T23:31:33.675086Z",
     "iopub.status.busy": "2023-09-19T23:31:33.674395Z",
     "iopub.status.idle": "2023-09-19T23:31:33.681531Z",
     "shell.execute_reply": "2023-09-19T23:31:33.680528Z",
     "shell.execute_reply.started": "2023-09-19T23:31:33.675047Z"
    }
   },
   "outputs": [
    {
     "data": {
      "text/plain": [
       "torch.Size([93991, 3217])"
      ]
     },
     "execution_count": 87,
     "metadata": {},
     "output_type": "execute_result"
    }
   ],
   "source": [
    "input_ids.shape"
   ]
  },
  {
   "cell_type": "code",
   "execution_count": 94,
   "id": "97519584",
   "metadata": {
    "editable": false,
    "execution": {
     "iopub.execute_input": "2023-09-19T23:37:04.389161Z",
     "iopub.status.busy": "2023-09-19T23:37:04.388282Z",
     "iopub.status.idle": "2023-09-19T23:37:04.397378Z",
     "shell.execute_reply": "2023-09-19T23:37:04.396328Z",
     "shell.execute_reply.started": "2023-09-19T23:37:04.389125Z"
    }
   },
   "outputs": [
    {
     "data": {
      "text/plain": [
       "tensor([    2, 21817,  2551,  ...,     0,     0,     0], device='cuda:0')"
      ]
     },
     "execution_count": 94,
     "metadata": {},
     "output_type": "execute_result"
    }
   ],
   "source": [
    "input_ids[1]"
   ]
  },
  {
   "cell_type": "code",
   "execution_count": 59,
   "id": "78eb40a2",
   "metadata": {
    "editable": false,
    "execution": {
     "iopub.execute_input": "2023-09-19T23:09:22.817346Z",
     "iopub.status.busy": "2023-09-19T23:09:22.816982Z",
     "iopub.status.idle": "2023-09-19T23:09:22.823505Z",
     "shell.execute_reply": "2023-09-19T23:09:22.822551Z",
     "shell.execute_reply.started": "2023-09-19T23:09:22.817317Z"
    }
   },
   "outputs": [
    {
     "data": {
      "text/plain": [
       "torch.Size([93991, 3217])"
      ]
     },
     "execution_count": 59,
     "metadata": {},
     "output_type": "execute_result"
    }
   ],
   "source": [
    "attention_mask.shape"
   ]
  },
  {
   "cell_type": "code",
   "execution_count": 55,
   "id": "321f8aa9",
   "metadata": {
    "editable": false,
    "execution": {
     "iopub.execute_input": "2023-09-19T23:06:13.576575Z",
     "iopub.status.busy": "2023-09-19T23:06:13.575861Z",
     "iopub.status.idle": "2023-09-19T23:06:13.582790Z",
     "shell.execute_reply": "2023-09-19T23:06:13.581866Z",
     "shell.execute_reply.started": "2023-09-19T23:06:13.576541Z"
    }
   },
   "outputs": [
    {
     "data": {
      "text/plain": [
       "(93991, 3217)"
      ]
     },
     "execution_count": 55,
     "metadata": {},
     "output_type": "execute_result"
    }
   ],
   "source": [
    "attention_mask.shape"
   ]
  },
  {
   "cell_type": "code",
   "execution_count": 47,
   "id": "44be1dc0",
   "metadata": {
    "editable": false,
    "execution": {
     "iopub.execute_input": "2023-09-19T22:58:02.486338Z",
     "iopub.status.busy": "2023-09-19T22:58:02.485976Z",
     "iopub.status.idle": "2023-09-19T22:58:02.497304Z",
     "shell.execute_reply": "2023-09-19T22:58:02.496223Z",
     "shell.execute_reply.started": "2023-09-19T22:58:02.486309Z"
    }
   },
   "outputs": [
    {
     "data": {
      "text/plain": [
       "0        [2, 24030, 1990, 2599, 1978, 3138, 73, 10471, ...\n",
       "1        [2, 21817, 2551, 14565, 24030, 1988, 7580, 292...\n",
       "2                    [2, 4866, 13492, 2029, 7931, 2149, 3]\n",
       "3        [2, 10077, 4679, 4563, 22246, 10469, 4783, 125...\n",
       "4        [2, 12020, 3015, 1972, 2688, 3869, 14539, 2016...\n",
       "                               ...                        \n",
       "93986    [2, 4563, 31400, 4345, 1305, 1009, 5707, 1988,...\n",
       "93987    [2, 87, 17632, 2816, 4563, 1027, 3424, 7471, 3...\n",
       "93988                      [2, 2339, 8151, 13344, 1980, 3]\n",
       "93989    [2, 9714, 3553, 2933, 2090, 20815, 3582, 21239...\n",
       "93990    [2, 28484, 2956, 3684, 2112, 5484, 4200, 6100,...\n",
       "Name: review, Length: 93991, dtype: object"
      ]
     },
     "execution_count": 47,
     "metadata": {},
     "output_type": "execute_result"
    }
   ],
   "source": [
    "tokenized"
   ]
  },
  {
   "cell_type": "code",
   "execution_count": null,
   "id": "82007d25",
   "metadata": {
    "editable": false
   },
   "outputs": [],
   "source": [
    "x, _ = bert(torch.stack([torch.tensor(x)]).to(device))\n",
    "        return list(x[0][0].cpu().numpy())"
   ]
  },
  {
   "cell_type": "code",
   "execution_count": 107,
   "id": "33c9bcc7",
   "metadata": {
    "editable": false,
    "execution": {
     "iopub.execute_input": "2023-09-19T23:50:37.169728Z",
     "iopub.status.busy": "2023-09-19T23:50:37.169336Z",
     "iopub.status.idle": "2023-09-19T23:50:37.276917Z",
     "shell.execute_reply": "2023-09-19T23:50:37.275560Z",
     "shell.execute_reply.started": "2023-09-19T23:50:37.169697Z"
    }
   },
   "outputs": [
    {
     "name": "stderr",
     "output_type": "stream",
     "text": [
      "/tmp/ipykernel_28/2666584752.py:3: UserWarning: Creating a tensor from a list of numpy.ndarrays is extremely slow. Please consider converting the list to a single numpy.ndarray with numpy.array() before converting to a tensor. (Triggered internally at /usr/local/src/pytorch/torch/csrc/utils/tensor_new.cpp:245.)\n",
      "  attention_mask_tensor = torch.tensor([attention_mask[1]])  # attention_mask'ı Tensor olarak dönüştürüyoruz\n"
     ]
    },
    {
     "ename": "RuntimeError",
     "evalue": "The expanded size of the tensor (3217) must match the existing size (512) at non-singleton dimension 1.  Target sizes: [1, 3217].  Tensor sizes: [1, 512]",
     "output_type": "error",
     "traceback": [
      "\u001b[0;31m---------------------------------------------------------------------------\u001b[0m",
      "\u001b[0;31mRuntimeError\u001b[0m                              Traceback (most recent call last)",
      "Cell \u001b[0;32mIn[107], line 5\u001b[0m\n\u001b[1;32m      2\u001b[0m input_ids_tensor \u001b[38;5;241m=\u001b[39m torch\u001b[38;5;241m.\u001b[39mstack([input_ids[\u001b[38;5;241m1\u001b[39m]])\n\u001b[1;32m      3\u001b[0m attention_mask_tensor \u001b[38;5;241m=\u001b[39m torch\u001b[38;5;241m.\u001b[39mtensor([attention_mask[\u001b[38;5;241m1\u001b[39m]])  \u001b[38;5;66;03m# attention_mask'ı Tensor olarak dönüştürüyoruz\u001b[39;00m\n\u001b[0;32m----> 5\u001b[0m last_hidden_states \u001b[38;5;241m=\u001b[39m \u001b[43mbert_model\u001b[49m\u001b[43m(\u001b[49m\u001b[43minput_ids_tensor\u001b[49m\u001b[43m,\u001b[49m\u001b[43m \u001b[49m\u001b[43mattention_mask\u001b[49m\u001b[38;5;241;43m=\u001b[39;49m\u001b[43mattention_mask_tensor\u001b[49m\u001b[43m)\u001b[49m\n\u001b[1;32m      6\u001b[0m last_hidden_states \u001b[38;5;241m=\u001b[39m last_hidden_states[:, \u001b[38;5;241m0\u001b[39m, :][\u001b[38;5;241m0\u001b[39m]\u001b[38;5;241m.\u001b[39mcpu()\u001b[38;5;241m.\u001b[39mnumpy()\n",
      "File \u001b[0;32m/opt/conda/lib/python3.10/site-packages/torch/nn/modules/module.py:1501\u001b[0m, in \u001b[0;36mModule._call_impl\u001b[0;34m(self, *args, **kwargs)\u001b[0m\n\u001b[1;32m   1496\u001b[0m \u001b[38;5;66;03m# If we don't have any hooks, we want to skip the rest of the logic in\u001b[39;00m\n\u001b[1;32m   1497\u001b[0m \u001b[38;5;66;03m# this function, and just call forward.\u001b[39;00m\n\u001b[1;32m   1498\u001b[0m \u001b[38;5;28;01mif\u001b[39;00m \u001b[38;5;129;01mnot\u001b[39;00m (\u001b[38;5;28mself\u001b[39m\u001b[38;5;241m.\u001b[39m_backward_hooks \u001b[38;5;129;01mor\u001b[39;00m \u001b[38;5;28mself\u001b[39m\u001b[38;5;241m.\u001b[39m_backward_pre_hooks \u001b[38;5;129;01mor\u001b[39;00m \u001b[38;5;28mself\u001b[39m\u001b[38;5;241m.\u001b[39m_forward_hooks \u001b[38;5;129;01mor\u001b[39;00m \u001b[38;5;28mself\u001b[39m\u001b[38;5;241m.\u001b[39m_forward_pre_hooks\n\u001b[1;32m   1499\u001b[0m         \u001b[38;5;129;01mor\u001b[39;00m _global_backward_pre_hooks \u001b[38;5;129;01mor\u001b[39;00m _global_backward_hooks\n\u001b[1;32m   1500\u001b[0m         \u001b[38;5;129;01mor\u001b[39;00m _global_forward_hooks \u001b[38;5;129;01mor\u001b[39;00m _global_forward_pre_hooks):\n\u001b[0;32m-> 1501\u001b[0m     \u001b[38;5;28;01mreturn\u001b[39;00m \u001b[43mforward_call\u001b[49m\u001b[43m(\u001b[49m\u001b[38;5;241;43m*\u001b[39;49m\u001b[43margs\u001b[49m\u001b[43m,\u001b[49m\u001b[43m \u001b[49m\u001b[38;5;241;43m*\u001b[39;49m\u001b[38;5;241;43m*\u001b[39;49m\u001b[43mkwargs\u001b[49m\u001b[43m)\u001b[49m\n\u001b[1;32m   1502\u001b[0m \u001b[38;5;66;03m# Do not call functions when jit is used\u001b[39;00m\n\u001b[1;32m   1503\u001b[0m full_backward_hooks, non_full_backward_hooks \u001b[38;5;241m=\u001b[39m [], []\n",
      "File \u001b[0;32m/opt/conda/lib/python3.10/site-packages/transformers/models/bert/modeling_bert.py:988\u001b[0m, in \u001b[0;36mBertModel.forward\u001b[0;34m(self, input_ids, attention_mask, token_type_ids, position_ids, head_mask, inputs_embeds, encoder_hidden_states, encoder_attention_mask, past_key_values, use_cache, output_attentions, output_hidden_states, return_dict)\u001b[0m\n\u001b[1;32m    986\u001b[0m \u001b[38;5;28;01mif\u001b[39;00m \u001b[38;5;28mhasattr\u001b[39m(\u001b[38;5;28mself\u001b[39m\u001b[38;5;241m.\u001b[39membeddings, \u001b[38;5;124m\"\u001b[39m\u001b[38;5;124mtoken_type_ids\u001b[39m\u001b[38;5;124m\"\u001b[39m):\n\u001b[1;32m    987\u001b[0m     buffered_token_type_ids \u001b[38;5;241m=\u001b[39m \u001b[38;5;28mself\u001b[39m\u001b[38;5;241m.\u001b[39membeddings\u001b[38;5;241m.\u001b[39mtoken_type_ids[:, :seq_length]\n\u001b[0;32m--> 988\u001b[0m     buffered_token_type_ids_expanded \u001b[38;5;241m=\u001b[39m \u001b[43mbuffered_token_type_ids\u001b[49m\u001b[38;5;241;43m.\u001b[39;49m\u001b[43mexpand\u001b[49m\u001b[43m(\u001b[49m\u001b[43mbatch_size\u001b[49m\u001b[43m,\u001b[49m\u001b[43m \u001b[49m\u001b[43mseq_length\u001b[49m\u001b[43m)\u001b[49m\n\u001b[1;32m    989\u001b[0m     token_type_ids \u001b[38;5;241m=\u001b[39m buffered_token_type_ids_expanded\n\u001b[1;32m    990\u001b[0m \u001b[38;5;28;01melse\u001b[39;00m:\n",
      "\u001b[0;31mRuntimeError\u001b[0m: The expanded size of the tensor (3217) must match the existing size (512) at non-singleton dimension 1.  Target sizes: [1, 3217].  Tensor sizes: [1, 512]"
     ]
    }
   ],
   "source": [
    "with torch.no_grad():\n",
    "    input_ids_tensor = torch.stack([input_ids[1]])\n",
    "    attention_mask_tensor = torch.tensor([attention_mask[1]])  # attention_mask'ı Tensor olarak dönüştürüyoruz\n",
    "    last_hidden_states = bert_model(input_ids_tensor, attention_mask=attention_mask_tensor)\n",
    "    last_hidden_states = last_hidden_states[:, 0, :][0].cpu().numpy()\n"
   ]
  },
  {
   "cell_type": "code",
   "execution_count": 18,
   "id": "957a792e",
   "metadata": {
    "editable": false,
    "execution": {
     "iopub.execute_input": "2023-09-20T12:13:24.937130Z",
     "iopub.status.busy": "2023-09-20T12:13:24.936771Z",
     "iopub.status.idle": "2023-09-20T12:13:32.294396Z",
     "shell.execute_reply": "2023-09-20T12:13:32.293364Z",
     "shell.execute_reply.started": "2023-09-20T12:13:24.937101Z"
    }
   },
   "outputs": [],
   "source": [
    "X_train_tokens,X_train_attention_mask,max_len = tokenization(X_train)"
   ]
  },
  {
   "cell_type": "code",
   "execution_count": 71,
   "id": "53777e79",
   "metadata": {
    "editable": false,
    "execution": {
     "iopub.execute_input": "2023-09-19T23:21:00.480563Z",
     "iopub.status.busy": "2023-09-19T23:21:00.480176Z",
     "iopub.status.idle": "2023-09-19T23:21:00.487418Z",
     "shell.execute_reply": "2023-09-19T23:21:00.486338Z",
     "shell.execute_reply.started": "2023-09-19T23:21:00.480529Z"
    }
   },
   "outputs": [
    {
     "data": {
      "text/plain": [
       "torch.Size([48347, 146])"
      ]
     },
     "execution_count": 71,
     "metadata": {},
     "output_type": "execute_result"
    }
   ],
   "source": [
    "X_train_tokens.shape"
   ]
  },
  {
   "cell_type": "code",
   "execution_count": 73,
   "id": "56e4fd00",
   "metadata": {
    "editable": false,
    "execution": {
     "iopub.execute_input": "2023-09-19T23:21:19.687822Z",
     "iopub.status.busy": "2023-09-19T23:21:19.685544Z",
     "iopub.status.idle": "2023-09-19T23:21:19.696748Z",
     "shell.execute_reply": "2023-09-19T23:21:19.695583Z",
     "shell.execute_reply.started": "2023-09-19T23:21:19.687778Z"
    }
   },
   "outputs": [
    {
     "data": {
      "text/plain": [
       "torch.Size([48347, 146])"
      ]
     },
     "execution_count": 73,
     "metadata": {},
     "output_type": "execute_result"
    }
   ],
   "source": [
    "X_train_attention_mask.shape"
   ]
  },
  {
   "cell_type": "code",
   "execution_count": 19,
   "id": "eb4857f0",
   "metadata": {
    "editable": false,
    "execution": {
     "iopub.execute_input": "2023-09-20T12:13:50.547236Z",
     "iopub.status.busy": "2023-09-20T12:13:50.546856Z",
     "iopub.status.idle": "2023-09-20T12:13:52.836540Z",
     "shell.execute_reply": "2023-09-20T12:13:52.835526Z",
     "shell.execute_reply.started": "2023-09-20T12:13:50.547207Z"
    }
   },
   "outputs": [],
   "source": [
    "X_test_tokens,X_test_attention_mask,_ = tokenization(X_test,max_len)"
   ]
  },
  {
   "cell_type": "code",
   "execution_count": 75,
   "id": "6830b140",
   "metadata": {
    "editable": false,
    "execution": {
     "iopub.execute_input": "2023-09-19T23:21:51.890964Z",
     "iopub.status.busy": "2023-09-19T23:21:51.890594Z",
     "iopub.status.idle": "2023-09-19T23:21:51.900078Z",
     "shell.execute_reply": "2023-09-19T23:21:51.898943Z",
     "shell.execute_reply.started": "2023-09-19T23:21:51.890934Z"
    }
   },
   "outputs": [
    {
     "data": {
      "text/plain": [
       "torch.Size([16098, 146])"
      ]
     },
     "execution_count": 75,
     "metadata": {},
     "output_type": "execute_result"
    }
   ],
   "source": [
    "X_test_tokens.shape"
   ]
  },
  {
   "cell_type": "code",
   "execution_count": 23,
   "id": "3a76e6a8",
   "metadata": {
    "editable": false,
    "execution": {
     "iopub.execute_input": "2023-09-19T22:18:57.367649Z",
     "iopub.status.busy": "2023-09-19T22:18:57.367261Z",
     "iopub.status.idle": "2023-09-19T22:18:57.420332Z",
     "shell.execute_reply": "2023-09-19T22:18:57.418889Z",
     "shell.execute_reply.started": "2023-09-19T22:18:57.367619Z"
    }
   },
   "outputs": [
    {
     "ename": "NameError",
     "evalue": "name 'y_train' is not defined",
     "output_type": "error",
     "traceback": [
      "\u001b[0;31m---------------------------------------------------------------------------\u001b[0m",
      "\u001b[0;31mNameError\u001b[0m                                 Traceback (most recent call last)",
      "Cell \u001b[0;32mIn[23], line 1\u001b[0m\n\u001b[0;32m----> 1\u001b[0m \u001b[43my_train\u001b[49m\n",
      "\u001b[0;31mNameError\u001b[0m: name 'y_train' is not defined"
     ]
    }
   ],
   "source": [
    "y_train"
   ]
  },
  {
   "cell_type": "code",
   "execution_count": 25,
   "id": "a0977a1b",
   "metadata": {
    "editable": false,
    "execution": {
     "iopub.execute_input": "2023-09-30T10:20:31.420138Z",
     "iopub.status.busy": "2023-09-30T10:20:31.419732Z",
     "iopub.status.idle": "2023-09-30T10:20:31.427426Z",
     "shell.execute_reply": "2023-09-30T10:20:31.426361Z",
     "shell.execute_reply.started": "2023-09-30T10:20:31.420107Z"
    }
   },
   "outputs": [],
   "source": [
    "def process_data(df,tokens):\n",
    "    mapping = {'negative':0, 'neutral':1, 'positive':2}\n",
    "    X = []\n",
    "    y = []\n",
    "    for idx, review in enumerate(tqdm(df[\"review\"].values)):\n",
    "        X.append(tokens[idx])\n",
    "        y_val = np.zeros(3)\n",
    "        y_val[mapping[df.iloc[idx]['sentiment']]] = 1\n",
    "        y.append(y_val)\n",
    "    return np.array(X), np.array(y)"
   ]
  },
  {
   "cell_type": "code",
   "execution_count": 26,
   "id": "2a6f3f17",
   "metadata": {
    "editable": false,
    "execution": {
     "iopub.execute_input": "2023-09-30T10:20:33.031720Z",
     "iopub.status.busy": "2023-09-30T10:20:33.030802Z",
     "iopub.status.idle": "2023-09-30T10:20:35.701165Z",
     "shell.execute_reply": "2023-09-30T10:20:35.700219Z",
     "shell.execute_reply.started": "2023-09-30T10:20:33.031689Z"
    }
   },
   "outputs": [
    {
     "name": "stderr",
     "output_type": "stream",
     "text": [
      "100%|██████████| 48333/48333 [00:02<00:00, 18770.84it/s]\n"
     ]
    }
   ],
   "source": [
    "X_train, y_train = process_data(X_train,X_train_tokens)"
   ]
  },
  {
   "cell_type": "code",
   "execution_count": 27,
   "id": "52ff3476",
   "metadata": {
    "editable": false,
    "execution": {
     "iopub.execute_input": "2023-09-30T10:20:37.011680Z",
     "iopub.status.busy": "2023-09-30T10:20:37.010655Z",
     "iopub.status.idle": "2023-09-30T10:20:37.018963Z",
     "shell.execute_reply": "2023-09-30T10:20:37.018038Z",
     "shell.execute_reply.started": "2023-09-30T10:20:37.011640Z"
    }
   },
   "outputs": [
    {
     "data": {
      "text/plain": [
       "48333"
      ]
     },
     "execution_count": 27,
     "metadata": {},
     "output_type": "execute_result"
    }
   ],
   "source": [
    "len(y_train)"
   ]
  },
  {
   "cell_type": "code",
   "execution_count": 28,
   "id": "fc742dbd",
   "metadata": {
    "editable": false,
    "execution": {
     "iopub.execute_input": "2023-09-30T10:20:38.187473Z",
     "iopub.status.busy": "2023-09-30T10:20:38.186956Z",
     "iopub.status.idle": "2023-09-30T10:20:39.050781Z",
     "shell.execute_reply": "2023-09-30T10:20:39.049784Z",
     "shell.execute_reply.started": "2023-09-30T10:20:38.187433Z"
    }
   },
   "outputs": [
    {
     "name": "stderr",
     "output_type": "stream",
     "text": [
      "100%|██████████| 16112/16112 [00:00<00:00, 19535.44it/s]\n"
     ]
    }
   ],
   "source": [
    "X_test, y_test = process_data(X_test, X_test_tokens)"
   ]
  },
  {
   "cell_type": "code",
   "execution_count": 29,
   "id": "728fbb75",
   "metadata": {
    "editable": false,
    "execution": {
     "iopub.execute_input": "2023-09-30T10:20:52.652785Z",
     "iopub.status.busy": "2023-09-30T10:20:52.652435Z",
     "iopub.status.idle": "2023-09-30T10:20:52.659898Z",
     "shell.execute_reply": "2023-09-30T10:20:52.658512Z",
     "shell.execute_reply.started": "2023-09-30T10:20:52.652741Z"
    }
   },
   "outputs": [
    {
     "data": {
      "text/plain": [
       "array([[-0.6205371 ,  1.0695187 ,  0.44955975, ..., -0.23404612,\n",
       "        -0.42090574,  0.2612578 ],\n",
       "       [ 0.65037453, -0.1304944 ,  0.18748899, ...,  0.5637733 ,\n",
       "         1.6496999 , -0.67957747],\n",
       "       [ 0.44589907,  0.69956934,  0.07245254, ...,  0.26929614,\n",
       "         1.1619103 ,  1.0208415 ],\n",
       "       ...,\n",
       "       [ 0.7238513 , -0.09289359,  0.04365493, ...,  0.40675685,\n",
       "         1.1015791 , -0.6361791 ],\n",
       "       [ 0.8309579 , -0.3744982 ,  0.04445816, ...,  0.46860906,\n",
       "         1.8479006 , -0.62462586],\n",
       "       [-0.3989065 ,  1.5098075 ,  0.57541347, ..., -0.98508924,\n",
       "        -0.61116904,  0.7988937 ]], dtype=float32)"
      ]
     },
     "execution_count": 29,
     "metadata": {},
     "output_type": "execute_result"
    }
   ],
   "source": [
    "X_test"
   ]
  },
  {
   "cell_type": "code",
   "execution_count": 4,
   "id": "93e564df",
   "metadata": {
    "editable": false
   },
   "outputs": [],
   "source": [
    "import numpy as np"
   ]
  },
  {
   "cell_type": "code",
   "execution_count": 9,
   "id": "07b7b54a",
   "metadata": {
    "editable": false
   },
   "outputs": [
    {
     "name": "stdout",
     "output_type": "stream",
     "text": [
      "[0, 0, 1]\n",
      "\n",
      "[0, 1, 0]\n",
      "\n",
      "[0, 1, 0]\n",
      "\n",
      "[0, 0, 1]\n",
      "\n",
      "[1, 0, 0]\n"
     ]
    }
   ],
   "source": [
    "class_counts = [0, 0, 0]\n",
    "for el in y_train:\n",
    "    print(el)\n",
    "    class_counts[np.argmax(el)]+=1"
   ]
  },
  {
   "cell_type": "code",
   "execution_count": 13,
   "id": "d00cf482",
   "metadata": {
    "editable": false
   },
   "outputs": [
    {
     "data": {
      "text/plain": [
       "0"
      ]
     },
     "execution_count": 13,
     "metadata": {},
     "output_type": "execute_result"
    }
   ],
   "source": [
    "np.argmax([1,0,0])"
   ]
  },
  {
   "cell_type": "code",
   "execution_count": 18,
   "id": "ca8c6bde",
   "metadata": {
    "editable": false
   },
   "outputs": [],
   "source": [
    "class_counts = [0, 0, 0]"
   ]
  },
  {
   "cell_type": "code",
   "execution_count": 39,
   "id": "e55678fc",
   "metadata": {
    "editable": false
   },
   "outputs": [],
   "source": [
    "class_counts[np.argmax([0,0,1])]+=1"
   ]
  },
  {
   "cell_type": "code",
   "execution_count": 40,
   "id": "1fda5945",
   "metadata": {
    "editable": false
   },
   "outputs": [
    {
     "data": {
      "text/plain": [
       "[3, 1, 1]"
      ]
     },
     "execution_count": 40,
     "metadata": {},
     "output_type": "execute_result"
    }
   ],
   "source": [
    "class_counts"
   ]
  },
  {
   "cell_type": "code",
   "execution_count": 41,
   "id": "5969f6fc",
   "metadata": {
    "editable": false
   },
   "outputs": [
    {
     "data": {
      "text/plain": [
       "5"
      ]
     },
     "execution_count": 41,
     "metadata": {},
     "output_type": "execute_result"
    }
   ],
   "source": [
    "sum(class_counts)"
   ]
  },
  {
   "cell_type": "code",
   "execution_count": 8,
   "id": "93d44f0c",
   "metadata": {
    "editable": false
   },
   "outputs": [],
   "source": [
    "y_train = [[0,0,1],\n",
    "           [0,1,0],\n",
    "           [0,1,0],\n",
    "           [0,0,1],\n",
    "           [1,0,0],\n",
    "]"
   ]
  },
  {
   "cell_type": "code",
   "execution_count": 48,
   "id": "e0491173",
   "metadata": {
    "editable": false
   },
   "outputs": [],
   "source": [
    "class_weights = {idx:sum(class_counts)/el for idx, el in enumerate(class_counts)}"
   ]
  },
  {
   "cell_type": "code",
   "execution_count": 49,
   "id": "7acec57c",
   "metadata": {
    "editable": false
   },
   "outputs": [
    {
     "name": "stdout",
     "output_type": "stream",
     "text": [
      "0\n",
      "\n",
      "3\n",
      "\n",
      "1\n",
      "\n",
      "1\n",
      "\n",
      "2\n",
      "\n",
      "1\n"
     ]
    }
   ],
   "source": [
    "for idx, el in enumerate(class_counts):\n",
    "    print(idx)\n",
    "    print(el)"
   ]
  },
  {
   "cell_type": "code",
   "execution_count": 47,
   "id": "acc5f860",
   "metadata": {
    "editable": false
   },
   "outputs": [
    {
     "data": {
      "text/plain": [
       "{0: 5.0, 1: 5.0, 2: 5.0}"
      ]
     },
     "execution_count": 47,
     "metadata": {},
     "output_type": "execute_result"
    }
   ],
   "source": [
    "class_weights"
   ]
  },
  {
   "cell_type": "code",
   "execution_count": 37,
   "id": "66315a01",
   "metadata": {
    "editable": false
   },
   "outputs": [
    {
     "data": {
      "text/plain": [
       "{0: 4.0, 1: 4.0, 2: 4.0}"
      ]
     },
     "execution_count": 37,
     "metadata": {},
     "output_type": "execute_result"
    }
   ],
   "source": [
    "class_weights"
   ]
  },
  {
   "cell_type": "code",
   "execution_count": 34,
   "id": "1be9def4",
   "metadata": {
    "editable": false
   },
   "outputs": [
    {
     "data": {
      "text/plain": [
       "BertModel(\n",
       "  (embeddings): BertEmbeddings(\n",
       "    (word_embeddings): Embedding(32000, 768, padding_idx=0)\n",
       "    (position_embeddings): Embedding(512, 768)\n",
       "    (token_type_embeddings): Embedding(2, 768)\n",
       "    (LayerNorm): LayerNorm((768,), eps=1e-12, elementwise_affine=True)\n",
       "    (dropout): Dropout(p=0.1, inplace=False)\n",
       "  )\n",
       "  (encoder): BertEncoder(\n",
       "    (layer): ModuleList(\n",
       "      (0-11): 12 x BertLayer(\n",
       "        (attention): BertAttention(\n",
       "          (self): BertSelfAttention(\n",
       "            (query): Linear(in_features=768, out_features=768, bias=True)\n",
       "            (key): Linear(in_features=768, out_features=768, bias=True)\n",
       "            (value): Linear(in_features=768, out_features=768, bias=True)\n",
       "            (dropout): Dropout(p=0.1, inplace=False)\n",
       "          )\n",
       "          (output): BertSelfOutput(\n",
       "            (dense): Linear(in_features=768, out_features=768, bias=True)\n",
       "            (LayerNorm): LayerNorm((768,), eps=1e-12, elementwise_affine=True)\n",
       "            (dropout): Dropout(p=0.1, inplace=False)\n",
       "          )\n",
       "        )\n",
       "        (intermediate): BertIntermediate(\n",
       "          (dense): Linear(in_features=768, out_features=3072, bias=True)\n",
       "          (intermediate_act_fn): GELUActivation()\n",
       "        )\n",
       "        (output): BertOutput(\n",
       "          (dense): Linear(in_features=3072, out_features=768, bias=True)\n",
       "          (LayerNorm): LayerNorm((768,), eps=1e-12, elementwise_affine=True)\n",
       "          (dropout): Dropout(p=0.1, inplace=False)\n",
       "        )\n",
       "      )\n",
       "    )\n",
       "  )\n",
       "  (pooler): BertPooler(\n",
       "    (dense): Linear(in_features=768, out_features=768, bias=True)\n",
       "    (activation): Tanh()\n",
       "  )\n",
       ")"
      ]
     },
     "execution_count": 34,
     "metadata": {},
     "output_type": "execute_result"
    }
   ],
   "source": [
    "bert_model"
   ]
  },
  {
   "cell_type": "code",
   "execution_count": 1,
   "id": "f695ed16",
   "metadata": {
    "editable": false,
    "execution": {
     "iopub.execute_input": "2023-09-19T22:07:38.416048Z",
     "iopub.status.busy": "2023-09-19T22:07:38.415694Z",
     "iopub.status.idle": "2023-09-19T22:07:38.745077Z",
     "shell.execute_reply": "2023-09-19T22:07:38.743662Z",
     "shell.execute_reply.started": "2023-09-19T22:07:38.416011Z"
    }
   },
   "outputs": [
    {
     "ename": "NameError",
     "evalue": "name 'bert_model' is not defined",
     "output_type": "error",
     "traceback": [
      "\u001b[0;31m---------------------------------------------------------------------------\u001b[0m",
      "\u001b[0;31mNameError\u001b[0m                                 Traceback (most recent call last)",
      "Cell \u001b[0;32mIn[1], line 1\u001b[0m\n\u001b[0;32m----> 1\u001b[0m \u001b[43mbert_model\u001b[49m\n",
      "\u001b[0;31mNameError\u001b[0m: name 'bert_model' is not defined"
     ]
    }
   ],
   "source": [
    "bert_model"
   ]
  },
  {
   "cell_type": "code",
   "execution_count": null,
   "id": "ebe1da2c",
   "metadata": {
    "editable": false
   },
   "outputs": [],
   "source": [
    "embedding_dim = bert.config.to_dict()['hidden_size']"
   ]
  },
  {
   "cell_type": "code",
   "execution_count": 1,
   "id": "f45ed58f",
   "metadata": {
    "editable": false,
    "execution": {
     "iopub.execute_input": "2023-09-20T18:16:04.646260Z",
     "iopub.status.busy": "2023-09-20T18:16:04.645713Z",
     "iopub.status.idle": "2023-09-20T18:16:04.980243Z",
     "shell.execute_reply": "2023-09-20T18:16:04.978809Z",
     "shell.execute_reply.started": "2023-09-20T18:16:04.646208Z"
    }
   },
   "outputs": [
    {
     "ename": "NameError",
     "evalue": "name 'Sequential' is not defined",
     "output_type": "error",
     "traceback": [
      "\u001b[0;31m---------------------------------------------------------------------------\u001b[0m",
      "\u001b[0;31mNameError\u001b[0m                                 Traceback (most recent call last)",
      "Cell \u001b[0;32mIn[1], line 1\u001b[0m\n\u001b[0;32m----> 1\u001b[0m model \u001b[38;5;241m=\u001b[39m \u001b[43mSequential\u001b[49m()\n",
      "\u001b[0;31mNameError\u001b[0m: name 'Sequential' is not defined"
     ]
    }
   ],
   "source": [
    "model = Sequential()"
   ]
  },
  {
   "cell_type": "code",
   "execution_count": null,
   "id": "50a6812e",
   "metadata": {
    "editable": false
   },
   "outputs": [],
   "source": [
    "tokenizer = T5Tokenizer.from_pretrained(\"google/flan-t5-xl\")\n",
    "model = T5ForConditionalGeneration.from_pretrained(\"google/flan-t5-xl\")"
   ]
  },
  {
   "cell_type": "code",
   "execution_count": null,
   "id": "90229e31",
   "metadata": {
    "editable": false,
    "execution": {
     "iopub.execute_input": "2023-09-22T14:21:29.051489Z",
     "iopub.status.busy": "2023-09-22T14:21:29.051093Z"
    }
   },
   "outputs": [],
   "source": [
    "from transformers import T5Tokenizer, T5ForConditionalGeneration"
   ]
  },
  {
   "cell_type": "code",
   "execution_count": null,
   "id": "7cc2c535",
   "metadata": {
    "editable": false
   },
   "outputs": [],
   "source": []
  }
 ],
 "metadata": {
  "kernelspec": {
   "display_name": "Python 3 (ipykernel)",
   "language": "python",
   "name": "python3"
  },
  "language_info": {
   "codemirror_mode": {
    "name": "ipython",
    "version": 3
   },
   "file_extension": ".py",
   "mimetype": "text/x-python",
   "name": "python",
   "nbconvert_exporter": "python",
   "pygments_lexer": "ipython3",
   "version": "3.11.3"
  }
 },
 "nbformat": 4,
 "nbformat_minor": 5
}
