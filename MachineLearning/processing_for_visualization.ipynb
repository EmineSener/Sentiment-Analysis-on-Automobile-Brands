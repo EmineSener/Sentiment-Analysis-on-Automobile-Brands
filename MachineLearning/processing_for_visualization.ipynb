{
 "cells": [
  {
   "cell_type": "code",
   "execution_count": 1,
   "id": "8feefe1d",
   "metadata": {},
   "outputs": [],
   "source": [
    "import json\n",
    "import os"
   ]
  },
  {
   "cell_type": "code",
   "execution_count": 2,
   "id": "b04b5a6c",
   "metadata": {},
   "outputs": [],
   "source": [
    "def get_dataset_path(sub_directory,file_name):\n",
    "    base_dir = os.getcwd()\n",
    "    target_dir = os.path.dirname(base_dir)\n",
    "    file_path = os.path.join(target_dir, sub_directory,file_name)\n",
    "    return file_path"
   ]
  },
  {
   "cell_type": "code",
   "execution_count": 3,
   "id": "4e54fd6c",
   "metadata": {},
   "outputs": [],
   "source": [
    "folder_path = get_dataset_path(\"MachineLearning\",\"Scores\")\n",
    "file_list = os.listdir(folder_path)\n",
    "\n",
    "brands = []\n",
    "\n",
    "for file in file_list:\n",
    "     if file.endswith('.json'):\n",
    "        brands.append(file[:-5])"
   ]
  },
  {
   "cell_type": "code",
   "execution_count": 4,
   "id": "4ed2a94a",
   "metadata": {},
   "outputs": [],
   "source": [
    "automobiles = brands.copy()"
   ]
  },
  {
   "cell_type": "markdown",
   "id": "7d605af7",
   "metadata": {},
   "source": [
    "Read brand name sentiment score, date and number of comments data from `Score` folder"
   ]
  },
  {
   "cell_type": "code",
   "execution_count": 5,
   "id": "26d12d8a",
   "metadata": {},
   "outputs": [],
   "source": [
    "combined_scores = []\n",
    "for brand in brands:\n",
    "    file_path = get_dataset_path(folder_path,f'{brand}.json')\n",
    "    scores = []\n",
    "    \n",
    "    try:\n",
    "        with open(file_path, 'r') as json_file:\n",
    "            json_data = json.load(json_file)\n",
    "    except FileNotFoundError:\n",
    "        print(f\"JSON file '{json_file_path}' not found.\")\n",
    "    except json.JSONDecodeError as e:\n",
    "        print(f\"Unable to read JSON data: {e}\")\n",
    "        \n",
    "    for i in range(len(json_data['date'])):\n",
    "        data = []\n",
    "        data.append(brand)\n",
    "        data.append(json_data['date'][i])\n",
    "        data.append(int(json_data['score'][i]))\n",
    "        data.append(json_data['comment_number'][i])\n",
    "        scores.append(data)\n",
    "    combined_scores.append(scores)"
   ]
  },
  {
   "cell_type": "code",
   "execution_count": 6,
   "id": "50927898",
   "metadata": {},
   "outputs": [
    {
     "data": {
      "text/plain": [
       "29"
      ]
     },
     "execution_count": 6,
     "metadata": {},
     "output_type": "execute_result"
    }
   ],
   "source": [
    "len(combined_scores)"
   ]
  },
  {
   "cell_type": "markdown",
   "id": "04ad1c44",
   "metadata": {},
   "source": [
    "Read brand data is combined for comparison"
   ]
  },
  {
   "cell_type": "code",
   "execution_count": 7,
   "id": "6481c454",
   "metadata": {},
   "outputs": [
    {
     "data": {
      "text/plain": [
       "[[['Alfa Romeo', '2023-07-29', 89, 28],\n",
       "  ['Alfa Romeo', '2023-08-05', 84, 1],\n",
       "  ['Alfa Romeo', '2023-08-19', 82, 1],\n",
       "  ['Alfa Romeo', '2023-08-26', 75, 11],\n",
       "  ['Alfa Romeo', '2023-09-02', 94, 2],\n",
       "  ['Alfa Romeo', '2023-09-09', 93, 9],\n",
       "  ['Alfa Romeo', '2023-09-16', 88, 11],\n",
       "  ['Alfa Romeo', '2023-09-23', 87, 83],\n",
       "  ['Alfa Romeo', '2023-09-30', 90, 91],\n",
       "  ['Alfa Romeo', '2023-10-01', 85, 8],\n",
       "  ['Alfa Romeo', '2023-10-02', 90, 7],\n",
       "  ['Alfa Romeo', '2023-10-03', 86, 3],\n",
       "  ['Alfa Romeo', '2023-10-04', 89, 1],\n",
       "  ['Alfa Romeo', '2023-10-07', 88, 1]],\n",
       " [['Audi', '2023-07-29', 88, 185],\n",
       "  ['Audi', '2023-08-05', 89, 89],\n",
       "  ['Audi', '2023-08-12', 90, 72],\n",
       "  ['Audi', '2023-08-19', 90, 76],\n",
       "  ['Audi', '2023-08-26', 86, 40],\n",
       "  ['Audi', '2023-09-02', 89, 33],\n",
       "  ['Audi', '2023-09-09', 87, 41],\n",
       "  ['Audi', '2023-09-16', 90, 40],\n",
       "  ['Audi', '2023-09-23', 87, 115],\n",
       "  ['Audi', '2023-09-30', 92, 44],\n",
       "  ['Audi', '2023-10-03', 78, 1],\n",
       "  ['Audi', '2023-10-06', 89, 6]]]"
      ]
     },
     "execution_count": 7,
     "metadata": {},
     "output_type": "execute_result"
    }
   ],
   "source": [
    "combined_scores[:2]"
   ]
  },
  {
   "cell_type": "markdown",
   "id": "ae269463",
   "metadata": {},
   "source": [
    "All data regardless of brand for continuous analysis"
   ]
  },
  {
   "cell_type": "code",
   "execution_count": 8,
   "id": "84bbef90",
   "metadata": {},
   "outputs": [],
   "source": [
    "all_combined_scores = [brand_list for brand in combined_scores for brand_list in brand]"
   ]
  },
  {
   "cell_type": "code",
   "execution_count": 9,
   "id": "da307dd1",
   "metadata": {},
   "outputs": [
    {
     "data": {
      "text/plain": [
       "[['Alfa Romeo', '2023-07-29', 89, 28], ['Alfa Romeo', '2023-08-05', 84, 1]]"
      ]
     },
     "execution_count": 9,
     "metadata": {},
     "output_type": "execute_result"
    }
   ],
   "source": [
    "all_combined_scores[:2]"
   ]
  },
  {
   "cell_type": "markdown",
   "id": "0bebc0a4",
   "metadata": {},
   "source": [
    "All dates commented on the site"
   ]
  },
  {
   "cell_type": "code",
   "execution_count": 10,
   "id": "945ac20a",
   "metadata": {},
   "outputs": [],
   "source": [
    "dates = []\n",
    "for combined_score in all_combined_scores:\n",
    "    dates.append(combined_score[1])"
   ]
  },
  {
   "cell_type": "code",
   "execution_count": 11,
   "id": "b2db068b",
   "metadata": {},
   "outputs": [
    {
     "data": {
      "text/plain": [
       "['2023-07-29',\n",
       " '2023-08-05',\n",
       " '2023-08-19',\n",
       " '2023-08-26',\n",
       " '2023-09-02',\n",
       " '2023-09-09']"
      ]
     },
     "execution_count": 11,
     "metadata": {},
     "output_type": "execute_result"
    }
   ],
   "source": [
    "dates[:6]"
   ]
  },
  {
   "cell_type": "code",
   "execution_count": 12,
   "id": "e9cf8c61",
   "metadata": {},
   "outputs": [
    {
     "data": {
      "text/plain": [
       "353"
      ]
     },
     "execution_count": 12,
     "metadata": {},
     "output_type": "execute_result"
    }
   ],
   "source": [
    "len(dates)"
   ]
  },
  {
   "cell_type": "markdown",
   "id": "b5513e77",
   "metadata": {},
   "source": [
    "Comments may have been made for different brands on the same date."
   ]
  },
  {
   "cell_type": "code",
   "execution_count": 13,
   "id": "2941919f",
   "metadata": {},
   "outputs": [],
   "source": [
    "dates = set(dates)"
   ]
  },
  {
   "cell_type": "code",
   "execution_count": 14,
   "id": "89945202",
   "metadata": {},
   "outputs": [
    {
     "data": {
      "text/plain": [
       "17"
      ]
     },
     "execution_count": 14,
     "metadata": {},
     "output_type": "execute_result"
    }
   ],
   "source": [
    "len(dates)"
   ]
  },
  {
   "cell_type": "code",
   "execution_count": 15,
   "id": "6606ca9c",
   "metadata": {},
   "outputs": [
    {
     "data": {
      "text/plain": [
       "{'2023-07-29',\n",
       " '2023-08-05',\n",
       " '2023-08-12',\n",
       " '2023-08-19',\n",
       " '2023-08-26',\n",
       " '2023-09-02',\n",
       " '2023-09-09',\n",
       " '2023-09-16',\n",
       " '2023-09-23',\n",
       " '2023-09-30',\n",
       " '2023-10-01',\n",
       " '2023-10-02',\n",
       " '2023-10-03',\n",
       " '2023-10-04',\n",
       " '2023-10-05',\n",
       " '2023-10-06',\n",
       " '2023-10-07'}"
      ]
     },
     "execution_count": 15,
     "metadata": {},
     "output_type": "execute_result"
    }
   ],
   "source": [
    "dates"
   ]
  },
  {
   "cell_type": "markdown",
   "id": "af5e930c",
   "metadata": {},
   "source": [
    "To classify data in sentiment chart,column names"
   ]
  },
  {
   "cell_type": "code",
   "execution_count": 16,
   "id": "1a98536e",
   "metadata": {},
   "outputs": [],
   "source": [
    "source = []\n",
    "dates =sorted(list(dates))\n",
    "dates_and_brand = dates.copy()\n",
    "dates_and_brand.insert(0,\"brand\")\n",
    "source.append(dates_and_brand)"
   ]
  },
  {
   "cell_type": "code",
   "execution_count": 17,
   "id": "d25aa717",
   "metadata": {},
   "outputs": [
    {
     "data": {
      "text/plain": [
       "['2023-07-29',\n",
       " '2023-08-05',\n",
       " '2023-08-12',\n",
       " '2023-08-19',\n",
       " '2023-08-26',\n",
       " '2023-09-02',\n",
       " '2023-09-09',\n",
       " '2023-09-16',\n",
       " '2023-09-23',\n",
       " '2023-09-30',\n",
       " '2023-10-01',\n",
       " '2023-10-02',\n",
       " '2023-10-03',\n",
       " '2023-10-04',\n",
       " '2023-10-05',\n",
       " '2023-10-06',\n",
       " '2023-10-07']"
      ]
     },
     "execution_count": 17,
     "metadata": {},
     "output_type": "execute_result"
    }
   ],
   "source": [
    "dates"
   ]
  },
  {
   "cell_type": "code",
   "execution_count": 18,
   "id": "d383d816",
   "metadata": {},
   "outputs": [
    {
     "data": {
      "text/plain": [
       "[['brand',\n",
       "  '2023-07-29',\n",
       "  '2023-08-05',\n",
       "  '2023-08-12',\n",
       "  '2023-08-19',\n",
       "  '2023-08-26',\n",
       "  '2023-09-02',\n",
       "  '2023-09-09',\n",
       "  '2023-09-16',\n",
       "  '2023-09-23',\n",
       "  '2023-09-30',\n",
       "  '2023-10-01',\n",
       "  '2023-10-02',\n",
       "  '2023-10-03',\n",
       "  '2023-10-04',\n",
       "  '2023-10-05',\n",
       "  '2023-10-06',\n",
       "  '2023-10-07']]"
      ]
     },
     "execution_count": 18,
     "metadata": {},
     "output_type": "execute_result"
    }
   ],
   "source": [
    "source"
   ]
  },
  {
   "cell_type": "markdown",
   "id": "2bec5171",
   "metadata": {},
   "source": [
    "If a comment was made on the relevant date, the score of the comment is added to the date column. If not, 0"
   ]
  },
  {
   "cell_type": "code",
   "execution_count": 19,
   "id": "280bfcc2",
   "metadata": {},
   "outputs": [],
   "source": [
    "dates.insert(0,0)"
   ]
  },
  {
   "cell_type": "code",
   "execution_count": 20,
   "id": "3dcc68a3",
   "metadata": {},
   "outputs": [
    {
     "data": {
      "text/plain": [
       "[0, '2023-07-29']"
      ]
     },
     "execution_count": 20,
     "metadata": {},
     "output_type": "execute_result"
    }
   ],
   "source": [
    "dates[:2]"
   ]
  },
  {
   "cell_type": "code",
   "execution_count": 21,
   "id": "aa13c8c3",
   "metadata": {},
   "outputs": [],
   "source": [
    "for brand_combined_score in combined_scores:\n",
    "    brand =  [0] * 18\n",
    "    brand[0]=brand_combined_score[0][0]\n",
    "    for score in brand_combined_score:\n",
    "        index = dates.index(score[1]) \n",
    "        brand[index] = score[2]\n",
    "    source.append(brand)"
   ]
  },
  {
   "cell_type": "code",
   "execution_count": 22,
   "id": "062e586f",
   "metadata": {},
   "outputs": [
    {
     "data": {
      "text/plain": [
       "['Alfa Romeo', 89, 84, 0, 82, 75, 94, 93, 88, 87, 90, 85, 90, 86, 89, 0, 0, 88]"
      ]
     },
     "execution_count": 22,
     "metadata": {},
     "output_type": "execute_result"
    }
   ],
   "source": [
    "source[1]"
   ]
  },
  {
   "cell_type": "code",
   "execution_count": 23,
   "id": "2678a4f4",
   "metadata": {},
   "outputs": [
    {
     "data": {
      "text/plain": [
       "['Audi', 88, 89, 90, 90, 86, 89, 87, 90, 87, 92, 0, 0, 78, 0, 0, 89, 0]"
      ]
     },
     "execution_count": 23,
     "metadata": {},
     "output_type": "execute_result"
    }
   ],
   "source": [
    "source[2]"
   ]
  },
  {
   "cell_type": "markdown",
   "id": "a9ed2857",
   "metadata": {},
   "source": [
    "Average score of all comments on non-comment dates for continuous chart."
   ]
  },
  {
   "cell_type": "code",
   "execution_count": 24,
   "id": "86173512",
   "metadata": {},
   "outputs": [],
   "source": [
    "for brand in source:\n",
    "    scores = brand[1:]\n",
    "    if type(brand[2]) is str:\n",
    "        continue\n",
    "    else:\n",
    "        average  = sum(scores)/len(scores)\n",
    "\n",
    "        for i in range(len(scores)):\n",
    "            if scores[i] == 0:\n",
    "                scores[i] = int(average) \n",
    "    brand[1:] = scores"
   ]
  },
  {
   "cell_type": "code",
   "execution_count": 25,
   "id": "3bad5be2",
   "metadata": {},
   "outputs": [
    {
     "data": {
      "text/plain": [
       "['Audi', 88, 89, 90, 90, 86, 89, 87, 90, 87, 92, 62, 62, 78, 62, 62, 89, 62]"
      ]
     },
     "execution_count": 25,
     "metadata": {},
     "output_type": "execute_result"
    }
   ],
   "source": [
    "source[2]"
   ]
  },
  {
   "cell_type": "markdown",
   "id": "a1192ca6",
   "metadata": {},
   "source": [
    "Save data"
   ]
  },
  {
   "cell_type": "code",
   "execution_count": 26,
   "id": "b5f903c3",
   "metadata": {},
   "outputs": [],
   "source": [
    "def save_data(file, data):\n",
    "    folder_name = './GraphicData'\n",
    "    \n",
    "    if not os.path.exists(folder_name):\n",
    "        try:\n",
    "            os.mkdir(folder_name)\n",
    "            print(f\"{folder_name} folder successfully created.\")\n",
    "        except Exception as error:\n",
    "            print(f\"An error occurred: {str(error)}\")\n",
    "    else:\n",
    "        print(f\"{folder_name} folder already exists.\")\n",
    "    \n",
    "    file_path = os.path.join(folder_name, file)\n",
    "    try:\n",
    "        with open(file_path, 'w', encoding=\"utf-8\") as output_file:\n",
    "            json.dump(data, output_file, indent=2)\n",
    "        print(f\"{file_path} file created.\")\n",
    "    except FileNotFoundError:\n",
    "        print(f\"There was an error in the file path or the directory does not exist.\")\n",
    "    except Exception as e:\n",
    "        print(f\"An error occurred: {str(e)}\")"
   ]
  },
  {
   "cell_type": "code",
   "execution_count": 28,
   "id": "0b9ae70c",
   "metadata": {},
   "outputs": [
    {
     "name": "stdout",
     "output_type": "stream",
     "text": [
      "./GraphicData folder successfully created.\n",
      "./GraphicData\\sentiment_graphic_source.json file created.\n"
     ]
    }
   ],
   "source": [
    "save_data(\"sentiment_graphic_source.json\",source)"
   ]
  },
  {
   "cell_type": "markdown",
   "id": "9a09e5cf",
   "metadata": {},
   "source": [
    "Total number of comments and average sentiment score for all brands"
   ]
  },
  {
   "cell_type": "code",
   "execution_count": 29,
   "id": "a31fc88b",
   "metadata": {},
   "outputs": [],
   "source": [
    "average_scores = []\n",
    "comment_number = []\n",
    "for brands in combined_scores:\n",
    "    score = 0\n",
    "    number = 0\n",
    "    for brand in brands:\n",
    "        score += brand[2]\n",
    "        number += brand[3]\n",
    "    average_scores.append(int(score/len(brands)))\n",
    "    comment_number.append(number)"
   ]
  },
  {
   "cell_type": "code",
   "execution_count": 30,
   "id": "39e9532f",
   "metadata": {},
   "outputs": [
    {
     "data": {
      "text/plain": [
       "[257, 742, 485, 14, 1979, 234, 1451, 487, 324, 324]"
      ]
     },
     "execution_count": 30,
     "metadata": {},
     "output_type": "execute_result"
    }
   ],
   "source": [
    "comment_number[:10]"
   ]
  },
  {
   "cell_type": "code",
   "execution_count": 31,
   "id": "1afe1933",
   "metadata": {},
   "outputs": [
    {
     "data": {
      "text/plain": [
       "[87, 87, 87, 92, 86, 88, 90, 88, 89, 88, 87, 85, 88, 91, 90, 90, 85, 88, 89]"
      ]
     },
     "execution_count": 31,
     "metadata": {},
     "output_type": "execute_result"
    }
   ],
   "source": [
    "average_scores[:19]"
   ]
  },
  {
   "cell_type": "code",
   "execution_count": 32,
   "id": "3e738b54",
   "metadata": {},
   "outputs": [
    {
     "name": "stdout",
     "output_type": "stream",
     "text": [
      "./GraphicData folder already exists.\n",
      "./GraphicData\\average_score_source.json file created.\n"
     ]
    }
   ],
   "source": [
    "save_data(\"average_score_source.json\",average_scores)"
   ]
  },
  {
   "cell_type": "code",
   "execution_count": 33,
   "id": "b471523c",
   "metadata": {},
   "outputs": [
    {
     "name": "stdout",
     "output_type": "stream",
     "text": [
      "./GraphicData folder already exists.\n",
      "./GraphicData\\comment_number_graphic_source.json file created.\n"
     ]
    }
   ],
   "source": [
    "save_data(\"comment_number_graphic_source.json\",comment_number)"
   ]
  },
  {
   "cell_type": "code",
   "execution_count": 34,
   "id": "7847e293",
   "metadata": {},
   "outputs": [
    {
     "name": "stdout",
     "output_type": "stream",
     "text": [
      "./GraphicData folder already exists.\n",
      "./GraphicData\\automobiles.json file created.\n"
     ]
    }
   ],
   "source": [
    "save_data(\"automobiles.json\",automobiles)"
   ]
  },
  {
   "cell_type": "code",
   "execution_count": null,
   "id": "c261a7df",
   "metadata": {},
   "outputs": [],
   "source": []
  },
  {
   "cell_type": "code",
   "execution_count": null,
   "id": "d79993ce",
   "metadata": {},
   "outputs": [],
   "source": []
  }
 ],
 "metadata": {
  "kernelspec": {
   "display_name": "Python 3 (ipykernel)",
   "language": "python",
   "name": "python3"
  },
  "language_info": {
   "codemirror_mode": {
    "name": "ipython",
    "version": 3
   },
   "file_extension": ".py",
   "mimetype": "text/x-python",
   "name": "python",
   "nbconvert_exporter": "python",
   "pygments_lexer": "ipython3",
   "version": "3.11.5"
  }
 },
 "nbformat": 4,
 "nbformat_minor": 5
}
